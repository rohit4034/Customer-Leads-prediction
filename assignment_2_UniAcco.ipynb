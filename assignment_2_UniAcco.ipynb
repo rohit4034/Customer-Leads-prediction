{
  "nbformat": 4,
  "nbformat_minor": 0,
  "metadata": {
    "colab": {
      "provenance": []
    },
    "kernelspec": {
      "name": "python3",
      "display_name": "Python 3"
    },
    "language_info": {
      "name": "python"
    },
    "gpuClass": "standard"
  },
  "cells": [
    {
      "cell_type": "code",
      "source": [],
      "metadata": {
        "id": "4QBgaFppx73t"
      },
      "execution_count": 9,
      "outputs": []
    },
    {
      "cell_type": "code",
      "execution_count": 42,
      "metadata": {
        "id": "l2MsngAp6O7S"
      },
      "outputs": [],
      "source": [
        "# IMPORTING DEPENDENCIES :-\n",
        "import pandas as pd\n",
        "import numpy as np\n",
        "from sklearn.model_selection import train_test_split\n",
        "from sklearn.preprocessing import OneHotEncoder, StandardScaler,LabelEncoder\n",
        "from sklearn.ensemble import RandomForestRegressor\n",
        "from sklearn.metrics import mean_squared_error, r2_score\n",
        "from sklearn.metrics import accuracy_score, precision_score, recall_score, f1_score\n",
        "from sklearn.metrics import confusion_matrix,classification_report\n",
        "import re"
      ]
    },
    {
      "cell_type": "code",
      "source": [],
      "metadata": {
        "id": "NSUTcc5Sxh93"
      },
      "execution_count": 10,
      "outputs": []
    },
    {
      "cell_type": "code",
      "source": [
        "# reading the dataset :- \n",
        "dataset = pd.read_csv('/content/drive/MyDrive/datasets/Data_Science_Internship - Dump.csv')\n",
        "dataset.head()"
      ],
      "metadata": {
        "id": "Hr6Vnp627VJh",
        "colab": {
          "base_uri": "https://localhost:8080/",
          "height": 391
        },
        "outputId": "152988d7-37db-4deb-8602-332eb54b7ad0"
      },
      "execution_count": 11,
      "outputs": [
        {
          "output_type": "execute_result",
          "data": {
            "text/plain": [
              "   Unnamed: 0                                           Agent_id status  \\\n",
              "0           0  1deba9e96f404694373de9749ddd1ca8aa7bb823145a6f...   LOST   \n",
              "1           1  299ae77a4ef350ae0dd37d6bba1c002d03444fb1edb236...   LOST   \n",
              "2           2  c213697430c006013012dd2aca82dd9732aa0a1a6bca13...   LOST   \n",
              "3           3  eac9815a500f908736d303e23aa227f0957177b0e6756b...   LOST   \n",
              "4           4  1deba9e96f404694373de9749ddd1ca8aa7bb823145a6f...   LOST   \n",
              "\n",
              "      lost_reason                budget                                lease  \\\n",
              "0  Not responding                   NaN                                  NaN   \n",
              "1      Low budget                   NaN                                  NaN   \n",
              "2  Not responding  £121 - £180 Per Week  Full Year Course Stay 40 - 44 weeks   \n",
              "3      Low budget                   0-0                                    0   \n",
              "4       Junk lead                   NaN                                  NaN   \n",
              "\n",
              "     movein                                             source  \\\n",
              "0       NaN  9b2d5b4678781e53038e91ea5324530a03f27dc1d0e5f6...   \n",
              "1       NaN  9b2d5b4678781e53038e91ea5324530a03f27dc1d0e5f6...   \n",
              "2  31/08/22  7aae3e886e89fc1187a5c47d6cea1c22998ee610ade1f2...   \n",
              "3       NaN  ba2d0a29556ac20f86f45e4543c0825428cba33fd7a9ea...   \n",
              "4       NaN  9b2d5b4678781e53038e91ea5324530a03f27dc1d0e5f6...   \n",
              "\n",
              "                                         source_city  \\\n",
              "0  9b2d5b4678781e53038e91ea5324530a03f27dc1d0e5f6...   \n",
              "1  9b2d5b4678781e53038e91ea5324530a03f27dc1d0e5f6...   \n",
              "2  9b8cc3c63cdf447e463c11544924bf027945cbd29675f7...   \n",
              "3  a5f0d2d08eb0592087e3a3a2f9c1ba2c67cc30f2efd2bd...   \n",
              "4  9b2d5b4678781e53038e91ea5324530a03f27dc1d0e5f6...   \n",
              "\n",
              "                                      source_country  \\\n",
              "0  9b2d5b4678781e53038e91ea5324530a03f27dc1d0e5f6...   \n",
              "1  9b2d5b4678781e53038e91ea5324530a03f27dc1d0e5f6...   \n",
              "2  e09e10e67812e9d236ad900e5d46b4308fc62f5d69446a...   \n",
              "3  e09e10e67812e9d236ad900e5d46b4308fc62f5d69446a...   \n",
              "4  9b2d5b4678781e53038e91ea5324530a03f27dc1d0e5f6...   \n",
              "\n",
              "                                          utm_source  \\\n",
              "0  3d59f7548e1af2151b64135003ce63c0a484c26b9b8b16...   \n",
              "1  3d59f7548e1af2151b64135003ce63c0a484c26b9b8b16...   \n",
              "2  bbdefa2950f49882f295b1285d4fa9dec45fc4144bfb07...   \n",
              "3  bbdefa2950f49882f295b1285d4fa9dec45fc4144bfb07...   \n",
              "4  3d59f7548e1af2151b64135003ce63c0a484c26b9b8b16...   \n",
              "\n",
              "                                          utm_medium  \\\n",
              "0  268ad70eb5bc4737a2ae28162cbca30118cc94520e49ef...   \n",
              "1  268ad70eb5bc4737a2ae28162cbca30118cc94520e49ef...   \n",
              "2  09076eb7665d1fb9389c7c4517fee0b00e43092eb34821...   \n",
              "3  09076eb7665d1fb9389c7c4517fee0b00e43092eb34821...   \n",
              "4  268ad70eb5bc4737a2ae28162cbca30118cc94520e49ef...   \n",
              "\n",
              "                                            des_city  \\\n",
              "0  ecc0e7dc084f141b29479058967d0bc07dee25d9690a98...   \n",
              "1  5372372f3bf5896820cb2819300c3e681820d82c6efc54...   \n",
              "2  11ab03a1a8c367191355c152f39fe28cae5e426fce49ef...   \n",
              "3  19372fa44c57a01c37a5a8418779ca3d99b0b59731fb35...   \n",
              "4  9b2d5b4678781e53038e91ea5324530a03f27dc1d0e5f6...   \n",
              "\n",
              "                                         des_country room_type  \\\n",
              "0  8d23a6e37e0a6431a8f1b43a91026dcff51170a89a6512...       NaN   \n",
              "1  8d23a6e37e0a6431a8f1b43a91026dcff51170a89a6512...       NaN   \n",
              "2  8d23a6e37e0a6431a8f1b43a91026dcff51170a89a6512...   Ensuite   \n",
              "3  8d23a6e37e0a6431a8f1b43a91026dcff51170a89a6512...       NaN   \n",
              "4  9b2d5b4678781e53038e91ea5324530a03f27dc1d0e5f6...       NaN   \n",
              "\n",
              "                                             lead_id  \n",
              "0  cd5dc0d9393f3980d11d4ba6f88f8110c2b7a7f7796307...  \n",
              "1  b94693673a5f7178d1b114e4004ad52377d3244dd24a3d...  \n",
              "2  96ea4e2bf04496c044745938c0299c264c3f4ba079e572...  \n",
              "3  1d2b34d8add02a182a4129023766ca4585a8ddced0e5b3...  \n",
              "4  fc10fffd29cfbe93c55158fb47752a7501c211d253468c...  "
            ],
            "text/html": [
              "\n",
              "  <div id=\"df-c1a9c936-72c2-4a88-bca3-c6ffdc6b304e\">\n",
              "    <div class=\"colab-df-container\">\n",
              "      <div>\n",
              "<style scoped>\n",
              "    .dataframe tbody tr th:only-of-type {\n",
              "        vertical-align: middle;\n",
              "    }\n",
              "\n",
              "    .dataframe tbody tr th {\n",
              "        vertical-align: top;\n",
              "    }\n",
              "\n",
              "    .dataframe thead th {\n",
              "        text-align: right;\n",
              "    }\n",
              "</style>\n",
              "<table border=\"1\" class=\"dataframe\">\n",
              "  <thead>\n",
              "    <tr style=\"text-align: right;\">\n",
              "      <th></th>\n",
              "      <th>Unnamed: 0</th>\n",
              "      <th>Agent_id</th>\n",
              "      <th>status</th>\n",
              "      <th>lost_reason</th>\n",
              "      <th>budget</th>\n",
              "      <th>lease</th>\n",
              "      <th>movein</th>\n",
              "      <th>source</th>\n",
              "      <th>source_city</th>\n",
              "      <th>source_country</th>\n",
              "      <th>utm_source</th>\n",
              "      <th>utm_medium</th>\n",
              "      <th>des_city</th>\n",
              "      <th>des_country</th>\n",
              "      <th>room_type</th>\n",
              "      <th>lead_id</th>\n",
              "    </tr>\n",
              "  </thead>\n",
              "  <tbody>\n",
              "    <tr>\n",
              "      <th>0</th>\n",
              "      <td>0</td>\n",
              "      <td>1deba9e96f404694373de9749ddd1ca8aa7bb823145a6f...</td>\n",
              "      <td>LOST</td>\n",
              "      <td>Not responding</td>\n",
              "      <td>NaN</td>\n",
              "      <td>NaN</td>\n",
              "      <td>NaN</td>\n",
              "      <td>9b2d5b4678781e53038e91ea5324530a03f27dc1d0e5f6...</td>\n",
              "      <td>9b2d5b4678781e53038e91ea5324530a03f27dc1d0e5f6...</td>\n",
              "      <td>9b2d5b4678781e53038e91ea5324530a03f27dc1d0e5f6...</td>\n",
              "      <td>3d59f7548e1af2151b64135003ce63c0a484c26b9b8b16...</td>\n",
              "      <td>268ad70eb5bc4737a2ae28162cbca30118cc94520e49ef...</td>\n",
              "      <td>ecc0e7dc084f141b29479058967d0bc07dee25d9690a98...</td>\n",
              "      <td>8d23a6e37e0a6431a8f1b43a91026dcff51170a89a6512...</td>\n",
              "      <td>NaN</td>\n",
              "      <td>cd5dc0d9393f3980d11d4ba6f88f8110c2b7a7f7796307...</td>\n",
              "    </tr>\n",
              "    <tr>\n",
              "      <th>1</th>\n",
              "      <td>1</td>\n",
              "      <td>299ae77a4ef350ae0dd37d6bba1c002d03444fb1edb236...</td>\n",
              "      <td>LOST</td>\n",
              "      <td>Low budget</td>\n",
              "      <td>NaN</td>\n",
              "      <td>NaN</td>\n",
              "      <td>NaN</td>\n",
              "      <td>9b2d5b4678781e53038e91ea5324530a03f27dc1d0e5f6...</td>\n",
              "      <td>9b2d5b4678781e53038e91ea5324530a03f27dc1d0e5f6...</td>\n",
              "      <td>9b2d5b4678781e53038e91ea5324530a03f27dc1d0e5f6...</td>\n",
              "      <td>3d59f7548e1af2151b64135003ce63c0a484c26b9b8b16...</td>\n",
              "      <td>268ad70eb5bc4737a2ae28162cbca30118cc94520e49ef...</td>\n",
              "      <td>5372372f3bf5896820cb2819300c3e681820d82c6efc54...</td>\n",
              "      <td>8d23a6e37e0a6431a8f1b43a91026dcff51170a89a6512...</td>\n",
              "      <td>NaN</td>\n",
              "      <td>b94693673a5f7178d1b114e4004ad52377d3244dd24a3d...</td>\n",
              "    </tr>\n",
              "    <tr>\n",
              "      <th>2</th>\n",
              "      <td>2</td>\n",
              "      <td>c213697430c006013012dd2aca82dd9732aa0a1a6bca13...</td>\n",
              "      <td>LOST</td>\n",
              "      <td>Not responding</td>\n",
              "      <td>£121 - £180 Per Week</td>\n",
              "      <td>Full Year Course Stay 40 - 44 weeks</td>\n",
              "      <td>31/08/22</td>\n",
              "      <td>7aae3e886e89fc1187a5c47d6cea1c22998ee610ade1f2...</td>\n",
              "      <td>9b8cc3c63cdf447e463c11544924bf027945cbd29675f7...</td>\n",
              "      <td>e09e10e67812e9d236ad900e5d46b4308fc62f5d69446a...</td>\n",
              "      <td>bbdefa2950f49882f295b1285d4fa9dec45fc4144bfb07...</td>\n",
              "      <td>09076eb7665d1fb9389c7c4517fee0b00e43092eb34821...</td>\n",
              "      <td>11ab03a1a8c367191355c152f39fe28cae5e426fce49ef...</td>\n",
              "      <td>8d23a6e37e0a6431a8f1b43a91026dcff51170a89a6512...</td>\n",
              "      <td>Ensuite</td>\n",
              "      <td>96ea4e2bf04496c044745938c0299c264c3f4ba079e572...</td>\n",
              "    </tr>\n",
              "    <tr>\n",
              "      <th>3</th>\n",
              "      <td>3</td>\n",
              "      <td>eac9815a500f908736d303e23aa227f0957177b0e6756b...</td>\n",
              "      <td>LOST</td>\n",
              "      <td>Low budget</td>\n",
              "      <td>0-0</td>\n",
              "      <td>0</td>\n",
              "      <td>NaN</td>\n",
              "      <td>ba2d0a29556ac20f86f45e4543c0825428cba33fd7a9ea...</td>\n",
              "      <td>a5f0d2d08eb0592087e3a3a2f9c1ba2c67cc30f2efd2bd...</td>\n",
              "      <td>e09e10e67812e9d236ad900e5d46b4308fc62f5d69446a...</td>\n",
              "      <td>bbdefa2950f49882f295b1285d4fa9dec45fc4144bfb07...</td>\n",
              "      <td>09076eb7665d1fb9389c7c4517fee0b00e43092eb34821...</td>\n",
              "      <td>19372fa44c57a01c37a5a8418779ca3d99b0b59731fb35...</td>\n",
              "      <td>8d23a6e37e0a6431a8f1b43a91026dcff51170a89a6512...</td>\n",
              "      <td>NaN</td>\n",
              "      <td>1d2b34d8add02a182a4129023766ca4585a8ddced0e5b3...</td>\n",
              "    </tr>\n",
              "    <tr>\n",
              "      <th>4</th>\n",
              "      <td>4</td>\n",
              "      <td>1deba9e96f404694373de9749ddd1ca8aa7bb823145a6f...</td>\n",
              "      <td>LOST</td>\n",
              "      <td>Junk lead</td>\n",
              "      <td>NaN</td>\n",
              "      <td>NaN</td>\n",
              "      <td>NaN</td>\n",
              "      <td>9b2d5b4678781e53038e91ea5324530a03f27dc1d0e5f6...</td>\n",
              "      <td>9b2d5b4678781e53038e91ea5324530a03f27dc1d0e5f6...</td>\n",
              "      <td>9b2d5b4678781e53038e91ea5324530a03f27dc1d0e5f6...</td>\n",
              "      <td>3d59f7548e1af2151b64135003ce63c0a484c26b9b8b16...</td>\n",
              "      <td>268ad70eb5bc4737a2ae28162cbca30118cc94520e49ef...</td>\n",
              "      <td>9b2d5b4678781e53038e91ea5324530a03f27dc1d0e5f6...</td>\n",
              "      <td>9b2d5b4678781e53038e91ea5324530a03f27dc1d0e5f6...</td>\n",
              "      <td>NaN</td>\n",
              "      <td>fc10fffd29cfbe93c55158fb47752a7501c211d253468c...</td>\n",
              "    </tr>\n",
              "  </tbody>\n",
              "</table>\n",
              "</div>\n",
              "      <button class=\"colab-df-convert\" onclick=\"convertToInteractive('df-c1a9c936-72c2-4a88-bca3-c6ffdc6b304e')\"\n",
              "              title=\"Convert this dataframe to an interactive table.\"\n",
              "              style=\"display:none;\">\n",
              "        \n",
              "  <svg xmlns=\"http://www.w3.org/2000/svg\" height=\"24px\"viewBox=\"0 0 24 24\"\n",
              "       width=\"24px\">\n",
              "    <path d=\"M0 0h24v24H0V0z\" fill=\"none\"/>\n",
              "    <path d=\"M18.56 5.44l.94 2.06.94-2.06 2.06-.94-2.06-.94-.94-2.06-.94 2.06-2.06.94zm-11 1L8.5 8.5l.94-2.06 2.06-.94-2.06-.94L8.5 2.5l-.94 2.06-2.06.94zm10 10l.94 2.06.94-2.06 2.06-.94-2.06-.94-.94-2.06-.94 2.06-2.06.94z\"/><path d=\"M17.41 7.96l-1.37-1.37c-.4-.4-.92-.59-1.43-.59-.52 0-1.04.2-1.43.59L10.3 9.45l-7.72 7.72c-.78.78-.78 2.05 0 2.83L4 21.41c.39.39.9.59 1.41.59.51 0 1.02-.2 1.41-.59l7.78-7.78 2.81-2.81c.8-.78.8-2.07 0-2.86zM5.41 20L4 18.59l7.72-7.72 1.47 1.35L5.41 20z\"/>\n",
              "  </svg>\n",
              "      </button>\n",
              "      \n",
              "  <style>\n",
              "    .colab-df-container {\n",
              "      display:flex;\n",
              "      flex-wrap:wrap;\n",
              "      gap: 12px;\n",
              "    }\n",
              "\n",
              "    .colab-df-convert {\n",
              "      background-color: #E8F0FE;\n",
              "      border: none;\n",
              "      border-radius: 50%;\n",
              "      cursor: pointer;\n",
              "      display: none;\n",
              "      fill: #1967D2;\n",
              "      height: 32px;\n",
              "      padding: 0 0 0 0;\n",
              "      width: 32px;\n",
              "    }\n",
              "\n",
              "    .colab-df-convert:hover {\n",
              "      background-color: #E2EBFA;\n",
              "      box-shadow: 0px 1px 2px rgba(60, 64, 67, 0.3), 0px 1px 3px 1px rgba(60, 64, 67, 0.15);\n",
              "      fill: #174EA6;\n",
              "    }\n",
              "\n",
              "    [theme=dark] .colab-df-convert {\n",
              "      background-color: #3B4455;\n",
              "      fill: #D2E3FC;\n",
              "    }\n",
              "\n",
              "    [theme=dark] .colab-df-convert:hover {\n",
              "      background-color: #434B5C;\n",
              "      box-shadow: 0px 1px 3px 1px rgba(0, 0, 0, 0.15);\n",
              "      filter: drop-shadow(0px 1px 2px rgba(0, 0, 0, 0.3));\n",
              "      fill: #FFFFFF;\n",
              "    }\n",
              "  </style>\n",
              "\n",
              "      <script>\n",
              "        const buttonEl =\n",
              "          document.querySelector('#df-c1a9c936-72c2-4a88-bca3-c6ffdc6b304e button.colab-df-convert');\n",
              "        buttonEl.style.display =\n",
              "          google.colab.kernel.accessAllowed ? 'block' : 'none';\n",
              "\n",
              "        async function convertToInteractive(key) {\n",
              "          const element = document.querySelector('#df-c1a9c936-72c2-4a88-bca3-c6ffdc6b304e');\n",
              "          const dataTable =\n",
              "            await google.colab.kernel.invokeFunction('convertToInteractive',\n",
              "                                                     [key], {});\n",
              "          if (!dataTable) return;\n",
              "\n",
              "          const docLinkHtml = 'Like what you see? Visit the ' +\n",
              "            '<a target=\"_blank\" href=https://colab.research.google.com/notebooks/data_table.ipynb>data table notebook</a>'\n",
              "            + ' to learn more about interactive tables.';\n",
              "          element.innerHTML = '';\n",
              "          dataTable['output_type'] = 'display_data';\n",
              "          await google.colab.output.renderOutput(dataTable, element);\n",
              "          const docLink = document.createElement('div');\n",
              "          docLink.innerHTML = docLinkHtml;\n",
              "          element.appendChild(docLink);\n",
              "        }\n",
              "      </script>\n",
              "    </div>\n",
              "  </div>\n",
              "  "
            ]
          },
          "metadata": {},
          "execution_count": 11
        }
      ]
    },
    {
      "cell_type": "code",
      "source": [
        "\n",
        "dataset#  removing all  the rows except label \"WON\",\"LOST\"['status'].count() "
      ],
      "metadata": {
        "colab": {
          "base_uri": "https://localhost:8080/",
          "height": 800
        },
        "id": "UOdsqK8cb0DL",
        "outputId": "6dbf62ad-c518-4c94-edb3-6ed757fbde75"
      },
      "execution_count": 12,
      "outputs": [
        {
          "output_type": "execute_result",
          "data": {
            "text/plain": [
              "       Unnamed: 0                                           Agent_id status  \\\n",
              "0               0  1deba9e96f404694373de9749ddd1ca8aa7bb823145a6f...   LOST   \n",
              "1               1  299ae77a4ef350ae0dd37d6bba1c002d03444fb1edb236...   LOST   \n",
              "2               2  c213697430c006013012dd2aca82dd9732aa0a1a6bca13...   LOST   \n",
              "3               3  eac9815a500f908736d303e23aa227f0957177b0e6756b...   LOST   \n",
              "4               4  1deba9e96f404694373de9749ddd1ca8aa7bb823145a6f...   LOST   \n",
              "...           ...                                                ...    ...   \n",
              "46603       46603  2306878a9ad9b57686cd623dd285aaa9b25afdf627f651...   LOST   \n",
              "46604       46604  327ec29056cc47c24bf922f7dc0f78261dad5c726d7353...   LOST   \n",
              "46605       46605  1134c0a7d44fdae1afd7f1f64e2789496784095ca0a050...   LOST   \n",
              "46606       46606  8b8b029f1142f5cbc825aa6cbee01406c915c6b055db79...   LOST   \n",
              "46607       46607  1ea65ea38f2f574b3875ba895e4ff76b284b7725041612...   LOST   \n",
              "\n",
              "            lost_reason                budget  \\\n",
              "0        Not responding                   NaN   \n",
              "1            Low budget                   NaN   \n",
              "2        Not responding  £121 - £180 Per Week   \n",
              "3            Low budget                   0-0   \n",
              "4             Junk lead                   NaN   \n",
              "...                 ...                   ...   \n",
              "46603  Low availability   £60 - £120 Per week   \n",
              "46604     Semester stay   £60 - £120 Per week   \n",
              "46605  Low availability  £241 - £300 Per week   \n",
              "46606  Low availability                  1108   \n",
              "46607  Low availability  £181 - £240 Per Week   \n",
              "\n",
              "                                            lease    movein  \\\n",
              "0                                             NaN       NaN   \n",
              "1                                             NaN       NaN   \n",
              "2             Full Year Course Stay 40 - 44 weeks  31/08/22   \n",
              "3                                               0       NaN   \n",
              "4                                             NaN       NaN   \n",
              "...                                           ...       ...   \n",
              "46603  Complete Education Year Stay 50 - 52 weeks  01/09/22   \n",
              "46604              Summer/Short Stay 8 - 12 weeks  29/09/22   \n",
              "46605         Full Year Course Stay 40 - 44 weeks  20/09/22   \n",
              "46606                                         294  30/08/22   \n",
              "46607         Full Year Course Stay 40 - 44 weeks  01/09/22   \n",
              "\n",
              "                                                  source  \\\n",
              "0      9b2d5b4678781e53038e91ea5324530a03f27dc1d0e5f6...   \n",
              "1      9b2d5b4678781e53038e91ea5324530a03f27dc1d0e5f6...   \n",
              "2      7aae3e886e89fc1187a5c47d6cea1c22998ee610ade1f2...   \n",
              "3      ba2d0a29556ac20f86f45e4543c0825428cba33fd7a9ea...   \n",
              "4      9b2d5b4678781e53038e91ea5324530a03f27dc1d0e5f6...   \n",
              "...                                                  ...   \n",
              "46603  9b2d5b4678781e53038e91ea5324530a03f27dc1d0e5f6...   \n",
              "46604  9b2d5b4678781e53038e91ea5324530a03f27dc1d0e5f6...   \n",
              "46605  7aae3e886e89fc1187a5c47d6cea1c22998ee610ade1f2...   \n",
              "46606  d684761c17c11590f6e2525b48141cb2c0c6f2be5df4e2...   \n",
              "46607  7aae3e886e89fc1187a5c47d6cea1c22998ee610ade1f2...   \n",
              "\n",
              "                                             source_city  \\\n",
              "0      9b2d5b4678781e53038e91ea5324530a03f27dc1d0e5f6...   \n",
              "1      9b2d5b4678781e53038e91ea5324530a03f27dc1d0e5f6...   \n",
              "2      9b8cc3c63cdf447e463c11544924bf027945cbd29675f7...   \n",
              "3      a5f0d2d08eb0592087e3a3a2f9c1ba2c67cc30f2efd2bd...   \n",
              "4      9b2d5b4678781e53038e91ea5324530a03f27dc1d0e5f6...   \n",
              "...                                                  ...   \n",
              "46603  7d1550b844ff586a6023216c06263105eed0a849a2a1f6...   \n",
              "46604  9f2ba6981e36ea0fca6c16f42e6413d788d2a7499b8b7f...   \n",
              "46605  7d1550b844ff586a6023216c06263105eed0a849a2a1f6...   \n",
              "46606  e9c722cbefc2f055ae60b4e2cbe73a2d99537eab0c37f3...   \n",
              "46607  1496126b7015defbc3b1d129a46096a5c135075aff2add...   \n",
              "\n",
              "                                          source_country  \\\n",
              "0      9b2d5b4678781e53038e91ea5324530a03f27dc1d0e5f6...   \n",
              "1      9b2d5b4678781e53038e91ea5324530a03f27dc1d0e5f6...   \n",
              "2      e09e10e67812e9d236ad900e5d46b4308fc62f5d69446a...   \n",
              "3      e09e10e67812e9d236ad900e5d46b4308fc62f5d69446a...   \n",
              "4      9b2d5b4678781e53038e91ea5324530a03f27dc1d0e5f6...   \n",
              "...                                                  ...   \n",
              "46603  8da82000ef9c4468ba47362a924b895e40662fed846942...   \n",
              "46604  8da82000ef9c4468ba47362a924b895e40662fed846942...   \n",
              "46605  8da82000ef9c4468ba47362a924b895e40662fed846942...   \n",
              "46606  b936ee09e20b3b2234907cde349cda1c1a5327c4a486bf...   \n",
              "46607  e09e10e67812e9d236ad900e5d46b4308fc62f5d69446a...   \n",
              "\n",
              "                                              utm_source  \\\n",
              "0      3d59f7548e1af2151b64135003ce63c0a484c26b9b8b16...   \n",
              "1      3d59f7548e1af2151b64135003ce63c0a484c26b9b8b16...   \n",
              "2      bbdefa2950f49882f295b1285d4fa9dec45fc4144bfb07...   \n",
              "3      bbdefa2950f49882f295b1285d4fa9dec45fc4144bfb07...   \n",
              "4      3d59f7548e1af2151b64135003ce63c0a484c26b9b8b16...   \n",
              "...                                                  ...   \n",
              "46603  bbdefa2950f49882f295b1285d4fa9dec45fc4144bfb07...   \n",
              "46604  bbdefa2950f49882f295b1285d4fa9dec45fc4144bfb07...   \n",
              "46605  bbdefa2950f49882f295b1285d4fa9dec45fc4144bfb07...   \n",
              "46606  7f3fa48ca885678134842fa7456f3ece53a97f843b6101...   \n",
              "46607  bbdefa2950f49882f295b1285d4fa9dec45fc4144bfb07...   \n",
              "\n",
              "                                              utm_medium  \\\n",
              "0      268ad70eb5bc4737a2ae28162cbca30118cc94520e49ef...   \n",
              "1      268ad70eb5bc4737a2ae28162cbca30118cc94520e49ef...   \n",
              "2      09076eb7665d1fb9389c7c4517fee0b00e43092eb34821...   \n",
              "3      09076eb7665d1fb9389c7c4517fee0b00e43092eb34821...   \n",
              "4      268ad70eb5bc4737a2ae28162cbca30118cc94520e49ef...   \n",
              "...                                                  ...   \n",
              "46603  09076eb7665d1fb9389c7c4517fee0b00e43092eb34821...   \n",
              "46604  09076eb7665d1fb9389c7c4517fee0b00e43092eb34821...   \n",
              "46605  09076eb7665d1fb9389c7c4517fee0b00e43092eb34821...   \n",
              "46606  abb8e2badd5b6265c3237170cc599257a4f566706715d2...   \n",
              "46607  09076eb7665d1fb9389c7c4517fee0b00e43092eb34821...   \n",
              "\n",
              "                                                des_city  \\\n",
              "0      ecc0e7dc084f141b29479058967d0bc07dee25d9690a98...   \n",
              "1      5372372f3bf5896820cb2819300c3e681820d82c6efc54...   \n",
              "2      11ab03a1a8c367191355c152f39fe28cae5e426fce49ef...   \n",
              "3      19372fa44c57a01c37a5a8418779ca3d99b0b59731fb35...   \n",
              "4      9b2d5b4678781e53038e91ea5324530a03f27dc1d0e5f6...   \n",
              "...                                                  ...   \n",
              "46603  13d4b96b6ee361b737e22404aeecca45f322ba7d4c2c42...   \n",
              "46604  998c18dc0e513ab0035c7b858e3780bbbead88695a15de...   \n",
              "46605  ecc0e7dc084f141b29479058967d0bc07dee25d9690a98...   \n",
              "46606  ecc0e7dc084f141b29479058967d0bc07dee25d9690a98...   \n",
              "46607  618738f7143c9b43a98a6b42d743a6595069a9b4dcf42d...   \n",
              "\n",
              "                                             des_country room_type  \\\n",
              "0      8d23a6e37e0a6431a8f1b43a91026dcff51170a89a6512...       NaN   \n",
              "1      8d23a6e37e0a6431a8f1b43a91026dcff51170a89a6512...       NaN   \n",
              "2      8d23a6e37e0a6431a8f1b43a91026dcff51170a89a6512...   Ensuite   \n",
              "3      8d23a6e37e0a6431a8f1b43a91026dcff51170a89a6512...       NaN   \n",
              "4      9b2d5b4678781e53038e91ea5324530a03f27dc1d0e5f6...       NaN   \n",
              "...                                                  ...       ...   \n",
              "46603  8d23a6e37e0a6431a8f1b43a91026dcff51170a89a6512...    Studio   \n",
              "46604  8d23a6e37e0a6431a8f1b43a91026dcff51170a89a6512...    Studio   \n",
              "46605  8d23a6e37e0a6431a8f1b43a91026dcff51170a89a6512...    Studio   \n",
              "46606  8d23a6e37e0a6431a8f1b43a91026dcff51170a89a6512...       NaN   \n",
              "46607  8d23a6e37e0a6431a8f1b43a91026dcff51170a89a6512...    Studio   \n",
              "\n",
              "                                                 lead_id  \n",
              "0      cd5dc0d9393f3980d11d4ba6f88f8110c2b7a7f7796307...  \n",
              "1      b94693673a5f7178d1b114e4004ad52377d3244dd24a3d...  \n",
              "2      96ea4e2bf04496c044745938c0299c264c3f4ba079e572...  \n",
              "3      1d2b34d8add02a182a4129023766ca4585a8ddced0e5b3...  \n",
              "4      fc10fffd29cfbe93c55158fb47752a7501c211d253468c...  \n",
              "...                                                  ...  \n",
              "46603  1aaa4a4a9092e4c0eabf958ed9aea59c50d8ea3f08f691...  \n",
              "46604  1f90dbad4873cb9673ff3c7ec69fbac4289181453c6cea...  \n",
              "46605  d9e0f455b68a6573544ffac32292541a510fe2daffe2bb...  \n",
              "46606  1f90dbad4873cb9673ff3c7ec69fbac4289181453c6cea...  \n",
              "46607  7520a8abba2b44d7f37c0ddbe5f7f3d87540b2b7a670e9...  \n",
              "\n",
              "[46608 rows x 16 columns]"
            ],
            "text/html": [
              "\n",
              "  <div id=\"df-5d7056b0-3f6d-49b3-8793-815c256fbcdb\">\n",
              "    <div class=\"colab-df-container\">\n",
              "      <div>\n",
              "<style scoped>\n",
              "    .dataframe tbody tr th:only-of-type {\n",
              "        vertical-align: middle;\n",
              "    }\n",
              "\n",
              "    .dataframe tbody tr th {\n",
              "        vertical-align: top;\n",
              "    }\n",
              "\n",
              "    .dataframe thead th {\n",
              "        text-align: right;\n",
              "    }\n",
              "</style>\n",
              "<table border=\"1\" class=\"dataframe\">\n",
              "  <thead>\n",
              "    <tr style=\"text-align: right;\">\n",
              "      <th></th>\n",
              "      <th>Unnamed: 0</th>\n",
              "      <th>Agent_id</th>\n",
              "      <th>status</th>\n",
              "      <th>lost_reason</th>\n",
              "      <th>budget</th>\n",
              "      <th>lease</th>\n",
              "      <th>movein</th>\n",
              "      <th>source</th>\n",
              "      <th>source_city</th>\n",
              "      <th>source_country</th>\n",
              "      <th>utm_source</th>\n",
              "      <th>utm_medium</th>\n",
              "      <th>des_city</th>\n",
              "      <th>des_country</th>\n",
              "      <th>room_type</th>\n",
              "      <th>lead_id</th>\n",
              "    </tr>\n",
              "  </thead>\n",
              "  <tbody>\n",
              "    <tr>\n",
              "      <th>0</th>\n",
              "      <td>0</td>\n",
              "      <td>1deba9e96f404694373de9749ddd1ca8aa7bb823145a6f...</td>\n",
              "      <td>LOST</td>\n",
              "      <td>Not responding</td>\n",
              "      <td>NaN</td>\n",
              "      <td>NaN</td>\n",
              "      <td>NaN</td>\n",
              "      <td>9b2d5b4678781e53038e91ea5324530a03f27dc1d0e5f6...</td>\n",
              "      <td>9b2d5b4678781e53038e91ea5324530a03f27dc1d0e5f6...</td>\n",
              "      <td>9b2d5b4678781e53038e91ea5324530a03f27dc1d0e5f6...</td>\n",
              "      <td>3d59f7548e1af2151b64135003ce63c0a484c26b9b8b16...</td>\n",
              "      <td>268ad70eb5bc4737a2ae28162cbca30118cc94520e49ef...</td>\n",
              "      <td>ecc0e7dc084f141b29479058967d0bc07dee25d9690a98...</td>\n",
              "      <td>8d23a6e37e0a6431a8f1b43a91026dcff51170a89a6512...</td>\n",
              "      <td>NaN</td>\n",
              "      <td>cd5dc0d9393f3980d11d4ba6f88f8110c2b7a7f7796307...</td>\n",
              "    </tr>\n",
              "    <tr>\n",
              "      <th>1</th>\n",
              "      <td>1</td>\n",
              "      <td>299ae77a4ef350ae0dd37d6bba1c002d03444fb1edb236...</td>\n",
              "      <td>LOST</td>\n",
              "      <td>Low budget</td>\n",
              "      <td>NaN</td>\n",
              "      <td>NaN</td>\n",
              "      <td>NaN</td>\n",
              "      <td>9b2d5b4678781e53038e91ea5324530a03f27dc1d0e5f6...</td>\n",
              "      <td>9b2d5b4678781e53038e91ea5324530a03f27dc1d0e5f6...</td>\n",
              "      <td>9b2d5b4678781e53038e91ea5324530a03f27dc1d0e5f6...</td>\n",
              "      <td>3d59f7548e1af2151b64135003ce63c0a484c26b9b8b16...</td>\n",
              "      <td>268ad70eb5bc4737a2ae28162cbca30118cc94520e49ef...</td>\n",
              "      <td>5372372f3bf5896820cb2819300c3e681820d82c6efc54...</td>\n",
              "      <td>8d23a6e37e0a6431a8f1b43a91026dcff51170a89a6512...</td>\n",
              "      <td>NaN</td>\n",
              "      <td>b94693673a5f7178d1b114e4004ad52377d3244dd24a3d...</td>\n",
              "    </tr>\n",
              "    <tr>\n",
              "      <th>2</th>\n",
              "      <td>2</td>\n",
              "      <td>c213697430c006013012dd2aca82dd9732aa0a1a6bca13...</td>\n",
              "      <td>LOST</td>\n",
              "      <td>Not responding</td>\n",
              "      <td>£121 - £180 Per Week</td>\n",
              "      <td>Full Year Course Stay 40 - 44 weeks</td>\n",
              "      <td>31/08/22</td>\n",
              "      <td>7aae3e886e89fc1187a5c47d6cea1c22998ee610ade1f2...</td>\n",
              "      <td>9b8cc3c63cdf447e463c11544924bf027945cbd29675f7...</td>\n",
              "      <td>e09e10e67812e9d236ad900e5d46b4308fc62f5d69446a...</td>\n",
              "      <td>bbdefa2950f49882f295b1285d4fa9dec45fc4144bfb07...</td>\n",
              "      <td>09076eb7665d1fb9389c7c4517fee0b00e43092eb34821...</td>\n",
              "      <td>11ab03a1a8c367191355c152f39fe28cae5e426fce49ef...</td>\n",
              "      <td>8d23a6e37e0a6431a8f1b43a91026dcff51170a89a6512...</td>\n",
              "      <td>Ensuite</td>\n",
              "      <td>96ea4e2bf04496c044745938c0299c264c3f4ba079e572...</td>\n",
              "    </tr>\n",
              "    <tr>\n",
              "      <th>3</th>\n",
              "      <td>3</td>\n",
              "      <td>eac9815a500f908736d303e23aa227f0957177b0e6756b...</td>\n",
              "      <td>LOST</td>\n",
              "      <td>Low budget</td>\n",
              "      <td>0-0</td>\n",
              "      <td>0</td>\n",
              "      <td>NaN</td>\n",
              "      <td>ba2d0a29556ac20f86f45e4543c0825428cba33fd7a9ea...</td>\n",
              "      <td>a5f0d2d08eb0592087e3a3a2f9c1ba2c67cc30f2efd2bd...</td>\n",
              "      <td>e09e10e67812e9d236ad900e5d46b4308fc62f5d69446a...</td>\n",
              "      <td>bbdefa2950f49882f295b1285d4fa9dec45fc4144bfb07...</td>\n",
              "      <td>09076eb7665d1fb9389c7c4517fee0b00e43092eb34821...</td>\n",
              "      <td>19372fa44c57a01c37a5a8418779ca3d99b0b59731fb35...</td>\n",
              "      <td>8d23a6e37e0a6431a8f1b43a91026dcff51170a89a6512...</td>\n",
              "      <td>NaN</td>\n",
              "      <td>1d2b34d8add02a182a4129023766ca4585a8ddced0e5b3...</td>\n",
              "    </tr>\n",
              "    <tr>\n",
              "      <th>4</th>\n",
              "      <td>4</td>\n",
              "      <td>1deba9e96f404694373de9749ddd1ca8aa7bb823145a6f...</td>\n",
              "      <td>LOST</td>\n",
              "      <td>Junk lead</td>\n",
              "      <td>NaN</td>\n",
              "      <td>NaN</td>\n",
              "      <td>NaN</td>\n",
              "      <td>9b2d5b4678781e53038e91ea5324530a03f27dc1d0e5f6...</td>\n",
              "      <td>9b2d5b4678781e53038e91ea5324530a03f27dc1d0e5f6...</td>\n",
              "      <td>9b2d5b4678781e53038e91ea5324530a03f27dc1d0e5f6...</td>\n",
              "      <td>3d59f7548e1af2151b64135003ce63c0a484c26b9b8b16...</td>\n",
              "      <td>268ad70eb5bc4737a2ae28162cbca30118cc94520e49ef...</td>\n",
              "      <td>9b2d5b4678781e53038e91ea5324530a03f27dc1d0e5f6...</td>\n",
              "      <td>9b2d5b4678781e53038e91ea5324530a03f27dc1d0e5f6...</td>\n",
              "      <td>NaN</td>\n",
              "      <td>fc10fffd29cfbe93c55158fb47752a7501c211d253468c...</td>\n",
              "    </tr>\n",
              "    <tr>\n",
              "      <th>...</th>\n",
              "      <td>...</td>\n",
              "      <td>...</td>\n",
              "      <td>...</td>\n",
              "      <td>...</td>\n",
              "      <td>...</td>\n",
              "      <td>...</td>\n",
              "      <td>...</td>\n",
              "      <td>...</td>\n",
              "      <td>...</td>\n",
              "      <td>...</td>\n",
              "      <td>...</td>\n",
              "      <td>...</td>\n",
              "      <td>...</td>\n",
              "      <td>...</td>\n",
              "      <td>...</td>\n",
              "      <td>...</td>\n",
              "    </tr>\n",
              "    <tr>\n",
              "      <th>46603</th>\n",
              "      <td>46603</td>\n",
              "      <td>2306878a9ad9b57686cd623dd285aaa9b25afdf627f651...</td>\n",
              "      <td>LOST</td>\n",
              "      <td>Low availability</td>\n",
              "      <td>£60 - £120 Per week</td>\n",
              "      <td>Complete Education Year Stay 50 - 52 weeks</td>\n",
              "      <td>01/09/22</td>\n",
              "      <td>9b2d5b4678781e53038e91ea5324530a03f27dc1d0e5f6...</td>\n",
              "      <td>7d1550b844ff586a6023216c06263105eed0a849a2a1f6...</td>\n",
              "      <td>8da82000ef9c4468ba47362a924b895e40662fed846942...</td>\n",
              "      <td>bbdefa2950f49882f295b1285d4fa9dec45fc4144bfb07...</td>\n",
              "      <td>09076eb7665d1fb9389c7c4517fee0b00e43092eb34821...</td>\n",
              "      <td>13d4b96b6ee361b737e22404aeecca45f322ba7d4c2c42...</td>\n",
              "      <td>8d23a6e37e0a6431a8f1b43a91026dcff51170a89a6512...</td>\n",
              "      <td>Studio</td>\n",
              "      <td>1aaa4a4a9092e4c0eabf958ed9aea59c50d8ea3f08f691...</td>\n",
              "    </tr>\n",
              "    <tr>\n",
              "      <th>46604</th>\n",
              "      <td>46604</td>\n",
              "      <td>327ec29056cc47c24bf922f7dc0f78261dad5c726d7353...</td>\n",
              "      <td>LOST</td>\n",
              "      <td>Semester stay</td>\n",
              "      <td>£60 - £120 Per week</td>\n",
              "      <td>Summer/Short Stay 8 - 12 weeks</td>\n",
              "      <td>29/09/22</td>\n",
              "      <td>9b2d5b4678781e53038e91ea5324530a03f27dc1d0e5f6...</td>\n",
              "      <td>9f2ba6981e36ea0fca6c16f42e6413d788d2a7499b8b7f...</td>\n",
              "      <td>8da82000ef9c4468ba47362a924b895e40662fed846942...</td>\n",
              "      <td>bbdefa2950f49882f295b1285d4fa9dec45fc4144bfb07...</td>\n",
              "      <td>09076eb7665d1fb9389c7c4517fee0b00e43092eb34821...</td>\n",
              "      <td>998c18dc0e513ab0035c7b858e3780bbbead88695a15de...</td>\n",
              "      <td>8d23a6e37e0a6431a8f1b43a91026dcff51170a89a6512...</td>\n",
              "      <td>Studio</td>\n",
              "      <td>1f90dbad4873cb9673ff3c7ec69fbac4289181453c6cea...</td>\n",
              "    </tr>\n",
              "    <tr>\n",
              "      <th>46605</th>\n",
              "      <td>46605</td>\n",
              "      <td>1134c0a7d44fdae1afd7f1f64e2789496784095ca0a050...</td>\n",
              "      <td>LOST</td>\n",
              "      <td>Low availability</td>\n",
              "      <td>£241 - £300 Per week</td>\n",
              "      <td>Full Year Course Stay 40 - 44 weeks</td>\n",
              "      <td>20/09/22</td>\n",
              "      <td>7aae3e886e89fc1187a5c47d6cea1c22998ee610ade1f2...</td>\n",
              "      <td>7d1550b844ff586a6023216c06263105eed0a849a2a1f6...</td>\n",
              "      <td>8da82000ef9c4468ba47362a924b895e40662fed846942...</td>\n",
              "      <td>bbdefa2950f49882f295b1285d4fa9dec45fc4144bfb07...</td>\n",
              "      <td>09076eb7665d1fb9389c7c4517fee0b00e43092eb34821...</td>\n",
              "      <td>ecc0e7dc084f141b29479058967d0bc07dee25d9690a98...</td>\n",
              "      <td>8d23a6e37e0a6431a8f1b43a91026dcff51170a89a6512...</td>\n",
              "      <td>Studio</td>\n",
              "      <td>d9e0f455b68a6573544ffac32292541a510fe2daffe2bb...</td>\n",
              "    </tr>\n",
              "    <tr>\n",
              "      <th>46606</th>\n",
              "      <td>46606</td>\n",
              "      <td>8b8b029f1142f5cbc825aa6cbee01406c915c6b055db79...</td>\n",
              "      <td>LOST</td>\n",
              "      <td>Low availability</td>\n",
              "      <td>1108</td>\n",
              "      <td>294</td>\n",
              "      <td>30/08/22</td>\n",
              "      <td>d684761c17c11590f6e2525b48141cb2c0c6f2be5df4e2...</td>\n",
              "      <td>e9c722cbefc2f055ae60b4e2cbe73a2d99537eab0c37f3...</td>\n",
              "      <td>b936ee09e20b3b2234907cde349cda1c1a5327c4a486bf...</td>\n",
              "      <td>7f3fa48ca885678134842fa7456f3ece53a97f843b6101...</td>\n",
              "      <td>abb8e2badd5b6265c3237170cc599257a4f566706715d2...</td>\n",
              "      <td>ecc0e7dc084f141b29479058967d0bc07dee25d9690a98...</td>\n",
              "      <td>8d23a6e37e0a6431a8f1b43a91026dcff51170a89a6512...</td>\n",
              "      <td>NaN</td>\n",
              "      <td>1f90dbad4873cb9673ff3c7ec69fbac4289181453c6cea...</td>\n",
              "    </tr>\n",
              "    <tr>\n",
              "      <th>46607</th>\n",
              "      <td>46607</td>\n",
              "      <td>1ea65ea38f2f574b3875ba895e4ff76b284b7725041612...</td>\n",
              "      <td>LOST</td>\n",
              "      <td>Low availability</td>\n",
              "      <td>£181 - £240 Per Week</td>\n",
              "      <td>Full Year Course Stay 40 - 44 weeks</td>\n",
              "      <td>01/09/22</td>\n",
              "      <td>7aae3e886e89fc1187a5c47d6cea1c22998ee610ade1f2...</td>\n",
              "      <td>1496126b7015defbc3b1d129a46096a5c135075aff2add...</td>\n",
              "      <td>e09e10e67812e9d236ad900e5d46b4308fc62f5d69446a...</td>\n",
              "      <td>bbdefa2950f49882f295b1285d4fa9dec45fc4144bfb07...</td>\n",
              "      <td>09076eb7665d1fb9389c7c4517fee0b00e43092eb34821...</td>\n",
              "      <td>618738f7143c9b43a98a6b42d743a6595069a9b4dcf42d...</td>\n",
              "      <td>8d23a6e37e0a6431a8f1b43a91026dcff51170a89a6512...</td>\n",
              "      <td>Studio</td>\n",
              "      <td>7520a8abba2b44d7f37c0ddbe5f7f3d87540b2b7a670e9...</td>\n",
              "    </tr>\n",
              "  </tbody>\n",
              "</table>\n",
              "<p>46608 rows × 16 columns</p>\n",
              "</div>\n",
              "      <button class=\"colab-df-convert\" onclick=\"convertToInteractive('df-5d7056b0-3f6d-49b3-8793-815c256fbcdb')\"\n",
              "              title=\"Convert this dataframe to an interactive table.\"\n",
              "              style=\"display:none;\">\n",
              "        \n",
              "  <svg xmlns=\"http://www.w3.org/2000/svg\" height=\"24px\"viewBox=\"0 0 24 24\"\n",
              "       width=\"24px\">\n",
              "    <path d=\"M0 0h24v24H0V0z\" fill=\"none\"/>\n",
              "    <path d=\"M18.56 5.44l.94 2.06.94-2.06 2.06-.94-2.06-.94-.94-2.06-.94 2.06-2.06.94zm-11 1L8.5 8.5l.94-2.06 2.06-.94-2.06-.94L8.5 2.5l-.94 2.06-2.06.94zm10 10l.94 2.06.94-2.06 2.06-.94-2.06-.94-.94-2.06-.94 2.06-2.06.94z\"/><path d=\"M17.41 7.96l-1.37-1.37c-.4-.4-.92-.59-1.43-.59-.52 0-1.04.2-1.43.59L10.3 9.45l-7.72 7.72c-.78.78-.78 2.05 0 2.83L4 21.41c.39.39.9.59 1.41.59.51 0 1.02-.2 1.41-.59l7.78-7.78 2.81-2.81c.8-.78.8-2.07 0-2.86zM5.41 20L4 18.59l7.72-7.72 1.47 1.35L5.41 20z\"/>\n",
              "  </svg>\n",
              "      </button>\n",
              "      \n",
              "  <style>\n",
              "    .colab-df-container {\n",
              "      display:flex;\n",
              "      flex-wrap:wrap;\n",
              "      gap: 12px;\n",
              "    }\n",
              "\n",
              "    .colab-df-convert {\n",
              "      background-color: #E8F0FE;\n",
              "      border: none;\n",
              "      border-radius: 50%;\n",
              "      cursor: pointer;\n",
              "      display: none;\n",
              "      fill: #1967D2;\n",
              "      height: 32px;\n",
              "      padding: 0 0 0 0;\n",
              "      width: 32px;\n",
              "    }\n",
              "\n",
              "    .colab-df-convert:hover {\n",
              "      background-color: #E2EBFA;\n",
              "      box-shadow: 0px 1px 2px rgba(60, 64, 67, 0.3), 0px 1px 3px 1px rgba(60, 64, 67, 0.15);\n",
              "      fill: #174EA6;\n",
              "    }\n",
              "\n",
              "    [theme=dark] .colab-df-convert {\n",
              "      background-color: #3B4455;\n",
              "      fill: #D2E3FC;\n",
              "    }\n",
              "\n",
              "    [theme=dark] .colab-df-convert:hover {\n",
              "      background-color: #434B5C;\n",
              "      box-shadow: 0px 1px 3px 1px rgba(0, 0, 0, 0.15);\n",
              "      filter: drop-shadow(0px 1px 2px rgba(0, 0, 0, 0.3));\n",
              "      fill: #FFFFFF;\n",
              "    }\n",
              "  </style>\n",
              "\n",
              "      <script>\n",
              "        const buttonEl =\n",
              "          document.querySelector('#df-5d7056b0-3f6d-49b3-8793-815c256fbcdb button.colab-df-convert');\n",
              "        buttonEl.style.display =\n",
              "          google.colab.kernel.accessAllowed ? 'block' : 'none';\n",
              "\n",
              "        async function convertToInteractive(key) {\n",
              "          const element = document.querySelector('#df-5d7056b0-3f6d-49b3-8793-815c256fbcdb');\n",
              "          const dataTable =\n",
              "            await google.colab.kernel.invokeFunction('convertToInteractive',\n",
              "                                                     [key], {});\n",
              "          if (!dataTable) return;\n",
              "\n",
              "          const docLinkHtml = 'Like what you see? Visit the ' +\n",
              "            '<a target=\"_blank\" href=https://colab.research.google.com/notebooks/data_table.ipynb>data table notebook</a>'\n",
              "            + ' to learn more about interactive tables.';\n",
              "          element.innerHTML = '';\n",
              "          dataTable['output_type'] = 'display_data';\n",
              "          await google.colab.output.renderOutput(dataTable, element);\n",
              "          const docLink = document.createElement('div');\n",
              "          docLink.innerHTML = docLinkHtml;\n",
              "          element.appendChild(docLink);\n",
              "        }\n",
              "      </script>\n",
              "    </div>\n",
              "  </div>\n",
              "  "
            ]
          },
          "metadata": {},
          "execution_count": 12
        }
      ]
    },
    {
      "cell_type": "markdown",
      "source": [
        "DATA CLEANING\n",
        " "
      ],
      "metadata": {
        "id": "piN9AqWT9qGK"
      }
    },
    {
      "cell_type": "code",
      "source": [
        "from google.colab import drive\n",
        "drive.mount('/content/drive')"
      ],
      "metadata": {
        "colab": {
          "base_uri": "https://localhost:8080/",
          "height": 0
        },
        "id": "Sh1yO6_3w9qz",
        "outputId": "5a308a97-713f-4d17-8797-68df47bde476"
      },
      "execution_count": 6,
      "outputs": [
        {
          "output_type": "stream",
          "name": "stdout",
          "text": [
            "Drive already mounted at /content/drive; to attempt to forcibly remount, call drive.mount(\"/content/drive\", force_remount=True).\n"
          ]
        }
      ]
    },
    {
      "cell_type": "code",
      "source": [
        "# REMOVING ROWS WITH STATUS OTHER THAN 'WON' OR 'LOSE'"
      ],
      "metadata": {
        "id": "NSWlgrWf9w4w"
      },
      "execution_count": 13,
      "outputs": []
    },
    {
      "cell_type": "code",
      "source": [
        "dataset = dataset[dataset['status'].isin(['WON','LOST'])]"
      ],
      "metadata": {
        "id": "6TKp0tcz9-j4"
      },
      "execution_count": 22,
      "outputs": []
    },
    {
      "cell_type": "code",
      "source": [
        "# total number of elements in status column after only considering 'won' and 'lose' categories :- \n",
        "dataset['status'].count()"
      ],
      "metadata": {
        "colab": {
          "base_uri": "https://localhost:8080/",
          "height": 0
        },
        "id": "zP1uVcbFHv_q",
        "outputId": "53236011-95bf-4d6d-a3d2-ab51cc53f8cb"
      },
      "execution_count": 23,
      "outputs": [
        {
          "output_type": "execute_result",
          "data": {
            "text/plain": [
              "46317"
            ]
          },
          "metadata": {},
          "execution_count": 23
        }
      ]
    },
    {
      "cell_type": "code",
      "source": [
        "# checking total number of null values present in our dataset  :-\n",
        "print(dataset.isnull().sum())"
      ],
      "metadata": {
        "colab": {
          "base_uri": "https://localhost:8080/",
          "height": 0
        },
        "id": "vVz0zfnKLd-_",
        "outputId": "65d9b111-2e9b-4c1e-c7dd-7a2c3ef23003"
      },
      "execution_count": 24,
      "outputs": [
        {
          "output_type": "stream",
          "name": "stdout",
          "text": [
            "Unnamed: 0            0\n",
            "Agent_id              0\n",
            "status                0\n",
            "lost_reason        3073\n",
            "budget             3694\n",
            "lease              2336\n",
            "movein            13610\n",
            "source             5951\n",
            "source_city        8831\n",
            "source_country     8622\n",
            "utm_source           61\n",
            "utm_medium         3184\n",
            "des_city           2529\n",
            "des_country        2529\n",
            "room_type         23491\n",
            "lead_id               0\n",
            "dtype: int64\n"
          ]
        }
      ]
    },
    {
      "cell_type": "code",
      "source": [
        "#REPLACING '9b2d5b4678781e53038e91ea5324530a03f27dc1d0e5f6c9bc9d493a23be9de0' to  NAN VALUE:--\n",
        "dataset = dataset.replace('9b2d5b4678781e53038e91ea5324530a03f27dc1d0e5f6c9bc9d493a23be9de0', np.nan)"
      ],
      "metadata": {
        "id": "pAtSdRBcVOXi"
      },
      "execution_count": 25,
      "outputs": []
    },
    {
      "cell_type": "code",
      "source": [
        "# total number of null values presen-\n",
        "dataset.isnull().sum()"
      ],
      "metadata": {
        "colab": {
          "base_uri": "https://localhost:8080/",
          "height": 0
        },
        "id": "Tmiv_MiTGY7K",
        "outputId": "dd78f100-3a3a-498c-b151-6cbdd5143c95"
      },
      "execution_count": 26,
      "outputs": [
        {
          "output_type": "execute_result",
          "data": {
            "text/plain": [
              "Unnamed: 0            0\n",
              "Agent_id              0\n",
              "status                0\n",
              "lost_reason        3073\n",
              "budget             3694\n",
              "lease              2336\n",
              "movein            13610\n",
              "source             5951\n",
              "source_city        8831\n",
              "source_country     8622\n",
              "utm_source           61\n",
              "utm_medium         3184\n",
              "des_city           2529\n",
              "des_country        2529\n",
              "room_type         23491\n",
              "lead_id               0\n",
              "dtype: int64"
            ]
          },
          "metadata": {},
          "execution_count": 26
        }
      ]
    },
    {
      "cell_type": "code",
      "source": [
        "#  considering only data which has <10% none values\n",
        "cols = []\n",
        "\n",
        "for i in dataset.columns:\n",
        "  if dataset[i].isnull().sum() < len(data)/10  :\n",
        "    cols.append(i)"
      ],
      "metadata": {
        "id": "65eMy_zw-gvv"
      },
      "execution_count": 27,
      "outputs": []
    },
    {
      "cell_type": "code",
      "source": [
        "cols"
      ],
      "metadata": {
        "colab": {
          "base_uri": "https://localhost:8080/",
          "height": 0
        },
        "id": "sNiGlIzsN61O",
        "outputId": "54d9f31f-ca03-4c41-ab8d-3c7c3d4634e1"
      },
      "execution_count": 28,
      "outputs": [
        {
          "output_type": "execute_result",
          "data": {
            "text/plain": [
              "['Unnamed: 0',\n",
              " 'Agent_id',\n",
              " 'status',\n",
              " 'lost_reason',\n",
              " 'budget',\n",
              " 'lease',\n",
              " 'utm_source',\n",
              " 'utm_medium',\n",
              " 'des_city',\n",
              " 'des_country',\n",
              " 'lead_id']"
            ]
          },
          "metadata": {},
          "execution_count": 28
        }
      ]
    },
    {
      "cell_type": "code",
      "source": [
        "# creating a dataframe of the above taken columns :-\n",
        "df = dataset.loc[:,cols]"
      ],
      "metadata": {
        "id": "yutJ2H7r-qfV"
      },
      "execution_count": 29,
      "outputs": []
    },
    {
      "cell_type": "code",
      "source": [
        "df.head()"
      ],
      "metadata": {
        "colab": {
          "base_uri": "https://localhost:8080/",
          "height": 391
        },
        "id": "RJAeiqGTRNAv",
        "outputId": "7c31e763-06d6-423d-e790-511d8b40c6da"
      },
      "execution_count": 30,
      "outputs": [
        {
          "output_type": "execute_result",
          "data": {
            "text/plain": [
              "   Unnamed: 0                                           Agent_id status  \\\n",
              "0           0  1deba9e96f404694373de9749ddd1ca8aa7bb823145a6f...   LOST   \n",
              "1           1  299ae77a4ef350ae0dd37d6bba1c002d03444fb1edb236...   LOST   \n",
              "2           2  c213697430c006013012dd2aca82dd9732aa0a1a6bca13...   LOST   \n",
              "3           3  eac9815a500f908736d303e23aa227f0957177b0e6756b...   LOST   \n",
              "4           4  1deba9e96f404694373de9749ddd1ca8aa7bb823145a6f...   LOST   \n",
              "\n",
              "      lost_reason                budget                                lease  \\\n",
              "0  Not responding                   NaN                                  NaN   \n",
              "1      Low budget                   NaN                                  NaN   \n",
              "2  Not responding  £121 - £180 Per Week  Full Year Course Stay 40 - 44 weeks   \n",
              "3      Low budget                   0-0                                    0   \n",
              "4       Junk lead                   NaN                                  NaN   \n",
              "\n",
              "                                          utm_source  \\\n",
              "0  3d59f7548e1af2151b64135003ce63c0a484c26b9b8b16...   \n",
              "1  3d59f7548e1af2151b64135003ce63c0a484c26b9b8b16...   \n",
              "2  bbdefa2950f49882f295b1285d4fa9dec45fc4144bfb07...   \n",
              "3  bbdefa2950f49882f295b1285d4fa9dec45fc4144bfb07...   \n",
              "4  3d59f7548e1af2151b64135003ce63c0a484c26b9b8b16...   \n",
              "\n",
              "                                          utm_medium  \\\n",
              "0  268ad70eb5bc4737a2ae28162cbca30118cc94520e49ef...   \n",
              "1  268ad70eb5bc4737a2ae28162cbca30118cc94520e49ef...   \n",
              "2  09076eb7665d1fb9389c7c4517fee0b00e43092eb34821...   \n",
              "3  09076eb7665d1fb9389c7c4517fee0b00e43092eb34821...   \n",
              "4  268ad70eb5bc4737a2ae28162cbca30118cc94520e49ef...   \n",
              "\n",
              "                                            des_city  \\\n",
              "0  ecc0e7dc084f141b29479058967d0bc07dee25d9690a98...   \n",
              "1  5372372f3bf5896820cb2819300c3e681820d82c6efc54...   \n",
              "2  11ab03a1a8c367191355c152f39fe28cae5e426fce49ef...   \n",
              "3  19372fa44c57a01c37a5a8418779ca3d99b0b59731fb35...   \n",
              "4                                                NaN   \n",
              "\n",
              "                                         des_country  \\\n",
              "0  8d23a6e37e0a6431a8f1b43a91026dcff51170a89a6512...   \n",
              "1  8d23a6e37e0a6431a8f1b43a91026dcff51170a89a6512...   \n",
              "2  8d23a6e37e0a6431a8f1b43a91026dcff51170a89a6512...   \n",
              "3  8d23a6e37e0a6431a8f1b43a91026dcff51170a89a6512...   \n",
              "4                                                NaN   \n",
              "\n",
              "                                             lead_id  \n",
              "0  cd5dc0d9393f3980d11d4ba6f88f8110c2b7a7f7796307...  \n",
              "1  b94693673a5f7178d1b114e4004ad52377d3244dd24a3d...  \n",
              "2  96ea4e2bf04496c044745938c0299c264c3f4ba079e572...  \n",
              "3  1d2b34d8add02a182a4129023766ca4585a8ddced0e5b3...  \n",
              "4  fc10fffd29cfbe93c55158fb47752a7501c211d253468c...  "
            ],
            "text/html": [
              "\n",
              "  <div id=\"df-4bd43711-aae5-4fd0-9d4f-4470c9261f72\">\n",
              "    <div class=\"colab-df-container\">\n",
              "      <div>\n",
              "<style scoped>\n",
              "    .dataframe tbody tr th:only-of-type {\n",
              "        vertical-align: middle;\n",
              "    }\n",
              "\n",
              "    .dataframe tbody tr th {\n",
              "        vertical-align: top;\n",
              "    }\n",
              "\n",
              "    .dataframe thead th {\n",
              "        text-align: right;\n",
              "    }\n",
              "</style>\n",
              "<table border=\"1\" class=\"dataframe\">\n",
              "  <thead>\n",
              "    <tr style=\"text-align: right;\">\n",
              "      <th></th>\n",
              "      <th>Unnamed: 0</th>\n",
              "      <th>Agent_id</th>\n",
              "      <th>status</th>\n",
              "      <th>lost_reason</th>\n",
              "      <th>budget</th>\n",
              "      <th>lease</th>\n",
              "      <th>utm_source</th>\n",
              "      <th>utm_medium</th>\n",
              "      <th>des_city</th>\n",
              "      <th>des_country</th>\n",
              "      <th>lead_id</th>\n",
              "    </tr>\n",
              "  </thead>\n",
              "  <tbody>\n",
              "    <tr>\n",
              "      <th>0</th>\n",
              "      <td>0</td>\n",
              "      <td>1deba9e96f404694373de9749ddd1ca8aa7bb823145a6f...</td>\n",
              "      <td>LOST</td>\n",
              "      <td>Not responding</td>\n",
              "      <td>NaN</td>\n",
              "      <td>NaN</td>\n",
              "      <td>3d59f7548e1af2151b64135003ce63c0a484c26b9b8b16...</td>\n",
              "      <td>268ad70eb5bc4737a2ae28162cbca30118cc94520e49ef...</td>\n",
              "      <td>ecc0e7dc084f141b29479058967d0bc07dee25d9690a98...</td>\n",
              "      <td>8d23a6e37e0a6431a8f1b43a91026dcff51170a89a6512...</td>\n",
              "      <td>cd5dc0d9393f3980d11d4ba6f88f8110c2b7a7f7796307...</td>\n",
              "    </tr>\n",
              "    <tr>\n",
              "      <th>1</th>\n",
              "      <td>1</td>\n",
              "      <td>299ae77a4ef350ae0dd37d6bba1c002d03444fb1edb236...</td>\n",
              "      <td>LOST</td>\n",
              "      <td>Low budget</td>\n",
              "      <td>NaN</td>\n",
              "      <td>NaN</td>\n",
              "      <td>3d59f7548e1af2151b64135003ce63c0a484c26b9b8b16...</td>\n",
              "      <td>268ad70eb5bc4737a2ae28162cbca30118cc94520e49ef...</td>\n",
              "      <td>5372372f3bf5896820cb2819300c3e681820d82c6efc54...</td>\n",
              "      <td>8d23a6e37e0a6431a8f1b43a91026dcff51170a89a6512...</td>\n",
              "      <td>b94693673a5f7178d1b114e4004ad52377d3244dd24a3d...</td>\n",
              "    </tr>\n",
              "    <tr>\n",
              "      <th>2</th>\n",
              "      <td>2</td>\n",
              "      <td>c213697430c006013012dd2aca82dd9732aa0a1a6bca13...</td>\n",
              "      <td>LOST</td>\n",
              "      <td>Not responding</td>\n",
              "      <td>£121 - £180 Per Week</td>\n",
              "      <td>Full Year Course Stay 40 - 44 weeks</td>\n",
              "      <td>bbdefa2950f49882f295b1285d4fa9dec45fc4144bfb07...</td>\n",
              "      <td>09076eb7665d1fb9389c7c4517fee0b00e43092eb34821...</td>\n",
              "      <td>11ab03a1a8c367191355c152f39fe28cae5e426fce49ef...</td>\n",
              "      <td>8d23a6e37e0a6431a8f1b43a91026dcff51170a89a6512...</td>\n",
              "      <td>96ea4e2bf04496c044745938c0299c264c3f4ba079e572...</td>\n",
              "    </tr>\n",
              "    <tr>\n",
              "      <th>3</th>\n",
              "      <td>3</td>\n",
              "      <td>eac9815a500f908736d303e23aa227f0957177b0e6756b...</td>\n",
              "      <td>LOST</td>\n",
              "      <td>Low budget</td>\n",
              "      <td>0-0</td>\n",
              "      <td>0</td>\n",
              "      <td>bbdefa2950f49882f295b1285d4fa9dec45fc4144bfb07...</td>\n",
              "      <td>09076eb7665d1fb9389c7c4517fee0b00e43092eb34821...</td>\n",
              "      <td>19372fa44c57a01c37a5a8418779ca3d99b0b59731fb35...</td>\n",
              "      <td>8d23a6e37e0a6431a8f1b43a91026dcff51170a89a6512...</td>\n",
              "      <td>1d2b34d8add02a182a4129023766ca4585a8ddced0e5b3...</td>\n",
              "    </tr>\n",
              "    <tr>\n",
              "      <th>4</th>\n",
              "      <td>4</td>\n",
              "      <td>1deba9e96f404694373de9749ddd1ca8aa7bb823145a6f...</td>\n",
              "      <td>LOST</td>\n",
              "      <td>Junk lead</td>\n",
              "      <td>NaN</td>\n",
              "      <td>NaN</td>\n",
              "      <td>3d59f7548e1af2151b64135003ce63c0a484c26b9b8b16...</td>\n",
              "      <td>268ad70eb5bc4737a2ae28162cbca30118cc94520e49ef...</td>\n",
              "      <td>NaN</td>\n",
              "      <td>NaN</td>\n",
              "      <td>fc10fffd29cfbe93c55158fb47752a7501c211d253468c...</td>\n",
              "    </tr>\n",
              "  </tbody>\n",
              "</table>\n",
              "</div>\n",
              "      <button class=\"colab-df-convert\" onclick=\"convertToInteractive('df-4bd43711-aae5-4fd0-9d4f-4470c9261f72')\"\n",
              "              title=\"Convert this dataframe to an interactive table.\"\n",
              "              style=\"display:none;\">\n",
              "        \n",
              "  <svg xmlns=\"http://www.w3.org/2000/svg\" height=\"24px\"viewBox=\"0 0 24 24\"\n",
              "       width=\"24px\">\n",
              "    <path d=\"M0 0h24v24H0V0z\" fill=\"none\"/>\n",
              "    <path d=\"M18.56 5.44l.94 2.06.94-2.06 2.06-.94-2.06-.94-.94-2.06-.94 2.06-2.06.94zm-11 1L8.5 8.5l.94-2.06 2.06-.94-2.06-.94L8.5 2.5l-.94 2.06-2.06.94zm10 10l.94 2.06.94-2.06 2.06-.94-2.06-.94-.94-2.06-.94 2.06-2.06.94z\"/><path d=\"M17.41 7.96l-1.37-1.37c-.4-.4-.92-.59-1.43-.59-.52 0-1.04.2-1.43.59L10.3 9.45l-7.72 7.72c-.78.78-.78 2.05 0 2.83L4 21.41c.39.39.9.59 1.41.59.51 0 1.02-.2 1.41-.59l7.78-7.78 2.81-2.81c.8-.78.8-2.07 0-2.86zM5.41 20L4 18.59l7.72-7.72 1.47 1.35L5.41 20z\"/>\n",
              "  </svg>\n",
              "      </button>\n",
              "      \n",
              "  <style>\n",
              "    .colab-df-container {\n",
              "      display:flex;\n",
              "      flex-wrap:wrap;\n",
              "      gap: 12px;\n",
              "    }\n",
              "\n",
              "    .colab-df-convert {\n",
              "      background-color: #E8F0FE;\n",
              "      border: none;\n",
              "      border-radius: 50%;\n",
              "      cursor: pointer;\n",
              "      display: none;\n",
              "      fill: #1967D2;\n",
              "      height: 32px;\n",
              "      padding: 0 0 0 0;\n",
              "      width: 32px;\n",
              "    }\n",
              "\n",
              "    .colab-df-convert:hover {\n",
              "      background-color: #E2EBFA;\n",
              "      box-shadow: 0px 1px 2px rgba(60, 64, 67, 0.3), 0px 1px 3px 1px rgba(60, 64, 67, 0.15);\n",
              "      fill: #174EA6;\n",
              "    }\n",
              "\n",
              "    [theme=dark] .colab-df-convert {\n",
              "      background-color: #3B4455;\n",
              "      fill: #D2E3FC;\n",
              "    }\n",
              "\n",
              "    [theme=dark] .colab-df-convert:hover {\n",
              "      background-color: #434B5C;\n",
              "      box-shadow: 0px 1px 3px 1px rgba(0, 0, 0, 0.15);\n",
              "      filter: drop-shadow(0px 1px 2px rgba(0, 0, 0, 0.3));\n",
              "      fill: #FFFFFF;\n",
              "    }\n",
              "  </style>\n",
              "\n",
              "      <script>\n",
              "        const buttonEl =\n",
              "          document.querySelector('#df-4bd43711-aae5-4fd0-9d4f-4470c9261f72 button.colab-df-convert');\n",
              "        buttonEl.style.display =\n",
              "          google.colab.kernel.accessAllowed ? 'block' : 'none';\n",
              "\n",
              "        async function convertToInteractive(key) {\n",
              "          const element = document.querySelector('#df-4bd43711-aae5-4fd0-9d4f-4470c9261f72');\n",
              "          const dataTable =\n",
              "            await google.colab.kernel.invokeFunction('convertToInteractive',\n",
              "                                                     [key], {});\n",
              "          if (!dataTable) return;\n",
              "\n",
              "          const docLinkHtml = 'Like what you see? Visit the ' +\n",
              "            '<a target=\"_blank\" href=https://colab.research.google.com/notebooks/data_table.ipynb>data table notebook</a>'\n",
              "            + ' to learn more about interactive tables.';\n",
              "          element.innerHTML = '';\n",
              "          dataTable['output_type'] = 'display_data';\n",
              "          await google.colab.output.renderOutput(dataTable, element);\n",
              "          const docLink = document.createElement('div');\n",
              "          docLink.innerHTML = docLinkHtml;\n",
              "          element.appendChild(docLink);\n",
              "        }\n",
              "      </script>\n",
              "    </div>\n",
              "  </div>\n",
              "  "
            ]
          },
          "metadata": {},
          "execution_count": 30
        }
      ]
    },
    {
      "cell_type": "code",
      "source": [
        "# here we are replacing the nan values in the columns with the most frequent values of the particular column :-\n",
        "data_clean = df.apply(lambda x: x.fillna(x.value_counts().index[0]))"
      ],
      "metadata": {
        "id": "aId15G4YGoLp"
      },
      "execution_count": 31,
      "outputs": []
    },
    {
      "cell_type": "code",
      "source": [
        "# dropping 'Unnamed: 0','lead_id' as they have no effect on our label\n",
        "data_clean = data_clean.drop(['Unnamed: 0'],axis = 1)\n",
        "data_clean.drop(labels=data_clean.columns[-1],axis=1,inplace=True)\n",
        "data_clean.drop(labels=data_clean.columns[0],axis=1,inplace=True)\n"
      ],
      "metadata": {
        "id": "xKmO4_rGXFkh"
      },
      "execution_count": 32,
      "outputs": []
    },
    {
      "cell_type": "code",
      "source": [
        "# remaining features \n",
        "data_clean.columns"
      ],
      "metadata": {
        "colab": {
          "base_uri": "https://localhost:8080/",
          "height": 0
        },
        "id": "_CNO-7cFfer0",
        "outputId": "c9b55889-64ce-41e5-9180-105c2fc947de"
      },
      "execution_count": 33,
      "outputs": [
        {
          "output_type": "execute_result",
          "data": {
            "text/plain": [
              "Index(['status', 'lost_reason', 'budget', 'lease', 'utm_source', 'utm_medium',\n",
              "       'des_city', 'des_country'],\n",
              "      dtype='object')"
            ]
          },
          "metadata": {},
          "execution_count": 33
        }
      ]
    },
    {
      "cell_type": "code",
      "source": [
        "data_clean.head()"
      ],
      "metadata": {
        "colab": {
          "base_uri": "https://localhost:8080/",
          "height": 617
        },
        "id": "3vHpK3eXVZ8e",
        "outputId": "cc6b926f-7936-4746-93e1-2181888a75b1"
      },
      "execution_count": 34,
      "outputs": [
        {
          "output_type": "execute_result",
          "data": {
            "text/plain": [
              "  status     lost_reason                budget  \\\n",
              "0   LOST  Not responding   £60 - £120 Per week   \n",
              "1   LOST      Low budget   £60 - £120 Per week   \n",
              "2   LOST  Not responding  £121 - £180 Per Week   \n",
              "3   LOST      Low budget                   0-0   \n",
              "4   LOST       Junk lead   £60 - £120 Per week   \n",
              "\n",
              "                                 lease  \\\n",
              "0  Full Year Course Stay 40 - 44 weeks   \n",
              "1  Full Year Course Stay 40 - 44 weeks   \n",
              "2  Full Year Course Stay 40 - 44 weeks   \n",
              "3                                    0   \n",
              "4  Full Year Course Stay 40 - 44 weeks   \n",
              "\n",
              "                                          utm_source  \\\n",
              "0  3d59f7548e1af2151b64135003ce63c0a484c26b9b8b16...   \n",
              "1  3d59f7548e1af2151b64135003ce63c0a484c26b9b8b16...   \n",
              "2  bbdefa2950f49882f295b1285d4fa9dec45fc4144bfb07...   \n",
              "3  bbdefa2950f49882f295b1285d4fa9dec45fc4144bfb07...   \n",
              "4  3d59f7548e1af2151b64135003ce63c0a484c26b9b8b16...   \n",
              "\n",
              "                                          utm_medium  \\\n",
              "0  268ad70eb5bc4737a2ae28162cbca30118cc94520e49ef...   \n",
              "1  268ad70eb5bc4737a2ae28162cbca30118cc94520e49ef...   \n",
              "2  09076eb7665d1fb9389c7c4517fee0b00e43092eb34821...   \n",
              "3  09076eb7665d1fb9389c7c4517fee0b00e43092eb34821...   \n",
              "4  268ad70eb5bc4737a2ae28162cbca30118cc94520e49ef...   \n",
              "\n",
              "                                            des_city  \\\n",
              "0  ecc0e7dc084f141b29479058967d0bc07dee25d9690a98...   \n",
              "1  5372372f3bf5896820cb2819300c3e681820d82c6efc54...   \n",
              "2  11ab03a1a8c367191355c152f39fe28cae5e426fce49ef...   \n",
              "3  19372fa44c57a01c37a5a8418779ca3d99b0b59731fb35...   \n",
              "4  ecc0e7dc084f141b29479058967d0bc07dee25d9690a98...   \n",
              "\n",
              "                                         des_country  \n",
              "0  8d23a6e37e0a6431a8f1b43a91026dcff51170a89a6512...  \n",
              "1  8d23a6e37e0a6431a8f1b43a91026dcff51170a89a6512...  \n",
              "2  8d23a6e37e0a6431a8f1b43a91026dcff51170a89a6512...  \n",
              "3  8d23a6e37e0a6431a8f1b43a91026dcff51170a89a6512...  \n",
              "4  8d23a6e37e0a6431a8f1b43a91026dcff51170a89a6512...  "
            ],
            "text/html": [
              "\n",
              "  <div id=\"df-4a0adac9-6026-4092-a39f-50c30d6e8db4\">\n",
              "    <div class=\"colab-df-container\">\n",
              "      <div>\n",
              "<style scoped>\n",
              "    .dataframe tbody tr th:only-of-type {\n",
              "        vertical-align: middle;\n",
              "    }\n",
              "\n",
              "    .dataframe tbody tr th {\n",
              "        vertical-align: top;\n",
              "    }\n",
              "\n",
              "    .dataframe thead th {\n",
              "        text-align: right;\n",
              "    }\n",
              "</style>\n",
              "<table border=\"1\" class=\"dataframe\">\n",
              "  <thead>\n",
              "    <tr style=\"text-align: right;\">\n",
              "      <th></th>\n",
              "      <th>status</th>\n",
              "      <th>lost_reason</th>\n",
              "      <th>budget</th>\n",
              "      <th>lease</th>\n",
              "      <th>utm_source</th>\n",
              "      <th>utm_medium</th>\n",
              "      <th>des_city</th>\n",
              "      <th>des_country</th>\n",
              "    </tr>\n",
              "  </thead>\n",
              "  <tbody>\n",
              "    <tr>\n",
              "      <th>0</th>\n",
              "      <td>LOST</td>\n",
              "      <td>Not responding</td>\n",
              "      <td>£60 - £120 Per week</td>\n",
              "      <td>Full Year Course Stay 40 - 44 weeks</td>\n",
              "      <td>3d59f7548e1af2151b64135003ce63c0a484c26b9b8b16...</td>\n",
              "      <td>268ad70eb5bc4737a2ae28162cbca30118cc94520e49ef...</td>\n",
              "      <td>ecc0e7dc084f141b29479058967d0bc07dee25d9690a98...</td>\n",
              "      <td>8d23a6e37e0a6431a8f1b43a91026dcff51170a89a6512...</td>\n",
              "    </tr>\n",
              "    <tr>\n",
              "      <th>1</th>\n",
              "      <td>LOST</td>\n",
              "      <td>Low budget</td>\n",
              "      <td>£60 - £120 Per week</td>\n",
              "      <td>Full Year Course Stay 40 - 44 weeks</td>\n",
              "      <td>3d59f7548e1af2151b64135003ce63c0a484c26b9b8b16...</td>\n",
              "      <td>268ad70eb5bc4737a2ae28162cbca30118cc94520e49ef...</td>\n",
              "      <td>5372372f3bf5896820cb2819300c3e681820d82c6efc54...</td>\n",
              "      <td>8d23a6e37e0a6431a8f1b43a91026dcff51170a89a6512...</td>\n",
              "    </tr>\n",
              "    <tr>\n",
              "      <th>2</th>\n",
              "      <td>LOST</td>\n",
              "      <td>Not responding</td>\n",
              "      <td>£121 - £180 Per Week</td>\n",
              "      <td>Full Year Course Stay 40 - 44 weeks</td>\n",
              "      <td>bbdefa2950f49882f295b1285d4fa9dec45fc4144bfb07...</td>\n",
              "      <td>09076eb7665d1fb9389c7c4517fee0b00e43092eb34821...</td>\n",
              "      <td>11ab03a1a8c367191355c152f39fe28cae5e426fce49ef...</td>\n",
              "      <td>8d23a6e37e0a6431a8f1b43a91026dcff51170a89a6512...</td>\n",
              "    </tr>\n",
              "    <tr>\n",
              "      <th>3</th>\n",
              "      <td>LOST</td>\n",
              "      <td>Low budget</td>\n",
              "      <td>0-0</td>\n",
              "      <td>0</td>\n",
              "      <td>bbdefa2950f49882f295b1285d4fa9dec45fc4144bfb07...</td>\n",
              "      <td>09076eb7665d1fb9389c7c4517fee0b00e43092eb34821...</td>\n",
              "      <td>19372fa44c57a01c37a5a8418779ca3d99b0b59731fb35...</td>\n",
              "      <td>8d23a6e37e0a6431a8f1b43a91026dcff51170a89a6512...</td>\n",
              "    </tr>\n",
              "    <tr>\n",
              "      <th>4</th>\n",
              "      <td>LOST</td>\n",
              "      <td>Junk lead</td>\n",
              "      <td>£60 - £120 Per week</td>\n",
              "      <td>Full Year Course Stay 40 - 44 weeks</td>\n",
              "      <td>3d59f7548e1af2151b64135003ce63c0a484c26b9b8b16...</td>\n",
              "      <td>268ad70eb5bc4737a2ae28162cbca30118cc94520e49ef...</td>\n",
              "      <td>ecc0e7dc084f141b29479058967d0bc07dee25d9690a98...</td>\n",
              "      <td>8d23a6e37e0a6431a8f1b43a91026dcff51170a89a6512...</td>\n",
              "    </tr>\n",
              "  </tbody>\n",
              "</table>\n",
              "</div>\n",
              "      <button class=\"colab-df-convert\" onclick=\"convertToInteractive('df-4a0adac9-6026-4092-a39f-50c30d6e8db4')\"\n",
              "              title=\"Convert this dataframe to an interactive table.\"\n",
              "              style=\"display:none;\">\n",
              "        \n",
              "  <svg xmlns=\"http://www.w3.org/2000/svg\" height=\"24px\"viewBox=\"0 0 24 24\"\n",
              "       width=\"24px\">\n",
              "    <path d=\"M0 0h24v24H0V0z\" fill=\"none\"/>\n",
              "    <path d=\"M18.56 5.44l.94 2.06.94-2.06 2.06-.94-2.06-.94-.94-2.06-.94 2.06-2.06.94zm-11 1L8.5 8.5l.94-2.06 2.06-.94-2.06-.94L8.5 2.5l-.94 2.06-2.06.94zm10 10l.94 2.06.94-2.06 2.06-.94-2.06-.94-.94-2.06-.94 2.06-2.06.94z\"/><path d=\"M17.41 7.96l-1.37-1.37c-.4-.4-.92-.59-1.43-.59-.52 0-1.04.2-1.43.59L10.3 9.45l-7.72 7.72c-.78.78-.78 2.05 0 2.83L4 21.41c.39.39.9.59 1.41.59.51 0 1.02-.2 1.41-.59l7.78-7.78 2.81-2.81c.8-.78.8-2.07 0-2.86zM5.41 20L4 18.59l7.72-7.72 1.47 1.35L5.41 20z\"/>\n",
              "  </svg>\n",
              "      </button>\n",
              "      \n",
              "  <style>\n",
              "    .colab-df-container {\n",
              "      display:flex;\n",
              "      flex-wrap:wrap;\n",
              "      gap: 12px;\n",
              "    }\n",
              "\n",
              "    .colab-df-convert {\n",
              "      background-color: #E8F0FE;\n",
              "      border: none;\n",
              "      border-radius: 50%;\n",
              "      cursor: pointer;\n",
              "      display: none;\n",
              "      fill: #1967D2;\n",
              "      height: 32px;\n",
              "      padding: 0 0 0 0;\n",
              "      width: 32px;\n",
              "    }\n",
              "\n",
              "    .colab-df-convert:hover {\n",
              "      background-color: #E2EBFA;\n",
              "      box-shadow: 0px 1px 2px rgba(60, 64, 67, 0.3), 0px 1px 3px 1px rgba(60, 64, 67, 0.15);\n",
              "      fill: #174EA6;\n",
              "    }\n",
              "\n",
              "    [theme=dark] .colab-df-convert {\n",
              "      background-color: #3B4455;\n",
              "      fill: #D2E3FC;\n",
              "    }\n",
              "\n",
              "    [theme=dark] .colab-df-convert:hover {\n",
              "      background-color: #434B5C;\n",
              "      box-shadow: 0px 1px 3px 1px rgba(0, 0, 0, 0.15);\n",
              "      filter: drop-shadow(0px 1px 2px rgba(0, 0, 0, 0.3));\n",
              "      fill: #FFFFFF;\n",
              "    }\n",
              "  </style>\n",
              "\n",
              "      <script>\n",
              "        const buttonEl =\n",
              "          document.querySelector('#df-4a0adac9-6026-4092-a39f-50c30d6e8db4 button.colab-df-convert');\n",
              "        buttonEl.style.display =\n",
              "          google.colab.kernel.accessAllowed ? 'block' : 'none';\n",
              "\n",
              "        async function convertToInteractive(key) {\n",
              "          const element = document.querySelector('#df-4a0adac9-6026-4092-a39f-50c30d6e8db4');\n",
              "          const dataTable =\n",
              "            await google.colab.kernel.invokeFunction('convertToInteractive',\n",
              "                                                     [key], {});\n",
              "          if (!dataTable) return;\n",
              "\n",
              "          const docLinkHtml = 'Like what you see? Visit the ' +\n",
              "            '<a target=\"_blank\" href=https://colab.research.google.com/notebooks/data_table.ipynb>data table notebook</a>'\n",
              "            + ' to learn more about interactive tables.';\n",
              "          element.innerHTML = '';\n",
              "          dataTable['output_type'] = 'display_data';\n",
              "          await google.colab.output.renderOutput(dataTable, element);\n",
              "          const docLink = document.createElement('div');\n",
              "          docLink.innerHTML = docLinkHtml;\n",
              "          element.appendChild(docLink);\n",
              "        }\n",
              "      </script>\n",
              "    </div>\n",
              "  </div>\n",
              "  "
            ]
          },
          "metadata": {},
          "execution_count": 34
        }
      ]
    },
    {
      "cell_type": "code",
      "source": [
        "# All values are converted to nonnull \n",
        "data_clean.isna().sum()"
      ],
      "metadata": {
        "colab": {
          "base_uri": "https://localhost:8080/",
          "height": 0
        },
        "id": "1pBDuntseT0y",
        "outputId": "8527ff0c-b235-4a10-9159-3df9bcbd6813"
      },
      "execution_count": 36,
      "outputs": [
        {
          "output_type": "execute_result",
          "data": {
            "text/plain": [
              "status         0\n",
              "lost_reason    0\n",
              "budget         0\n",
              "lease          0\n",
              "utm_source     0\n",
              "utm_medium     0\n",
              "des_city       0\n",
              "des_country    0\n",
              "dtype: int64"
            ]
          },
          "metadata": {},
          "execution_count": 36
        }
      ]
    },
    {
      "cell_type": "code",
      "source": [
        "# finding the number of unique values of the column :-\n",
        "for col in data_clean.columns:\n",
        "\n",
        "  print(col ,\" = \",len(data_clean[col].unique()))"
      ],
      "metadata": {
        "colab": {
          "base_uri": "https://localhost:8080/"
        },
        "id": "iX4O_828gtO3",
        "outputId": "7f9ff797-2a93-48f0-8d24-865888f8cd19"
      },
      "execution_count": null,
      "outputs": [
        {
          "output_type": "stream",
          "name": "stdout",
          "text": [
            "status  =  2\n",
            "lost_reason  =  30\n",
            "budget  =  1851\n",
            "lease  =  311\n",
            "utm_source  =  34\n",
            "utm_medium  =  63\n",
            "des_city  =  219\n",
            "des_country  =  14\n"
          ]
        }
      ]
    },
    {
      "cell_type": "code",
      "source": [
        "# Unique catagorical values of the lease\n",
        "data_clean['lease'].unique()"
      ],
      "metadata": {
        "colab": {
          "base_uri": "https://localhost:8080/"
        },
        "id": "z6oI-Tpj1QgC",
        "outputId": "5c4cb789-c248-42e4-bf2d-013bfbd9116a"
      },
      "execution_count": null,
      "outputs": [
        {
          "output_type": "execute_result",
          "data": {
            "text/plain": [
              "array(['Full Year Course Stay 40 - 44 weeks', '0', 'semester-stay', '51',\n",
              "       'Semester Stay 20 - 24 weeks',\n",
              "       'Complete Education Year Stay 50 - 52 weeks', 'full-course-stay',\n",
              "       'full-year-stay', 'Other', '51 weeks', '44', '18',\n",
              "       'full year stay', '51weeks', 'Summer/Short Stay 8 - 12 weeks',\n",
              "       '51 weeks \\\\', 'other', 'short-stay', '52 weeks', '44 weeks', '12',\n",
              "       '1 year', '96', '43', '20', '294', '20 - 24 weeks', '1 year .',\n",
              "       '48', '40', 'N51', '6', 'Academic year', '8', '51Weeks',\n",
              "       '50 weeks', '84', '15 weeks', 'full course', '45', '39', '1',\n",
              "       '5 weeks', '50', '12-24', '25', '45 weeks', '19', '44-51',\n",
              "       '6 weeks', 'FULL YEAR', '24-36', '32', '44/week', '42', '3 month',\n",
              "       '44-51 weeks', '3 months', '24', '6 months', '2 years', '10', '52',\n",
              "       '2 weeks', '46', 'sem stay', '13', 'lease', 'short stay', '4',\n",
              "       '52weeks', '69', '16', '50 - 52 weeks', '44 - 51 weeks',\n",
              "       '4-8 weeks', '4 weeks', '3', 'Full year stay', '11', '10-15 weeks',\n",
              "       '40-44', '52 weeks]', '26', '40 - 44 weeks', '51\\\\', '51 week',\n",
              "       '36 - 44', '140', 'Sem Stay', '41', '44/51 weeks', '56',\n",
              "       '40 weeks', '1 month', '10 months', '<=8', '44 WEEKS', '21', '2',\n",
              "       '24-44 weeks', '350', '06 months', '47', '12 weeks', '38', '54',\n",
              "       '37', '30', '16 weeks', '4 WEEKS', '15', '22', '17', '44weeks',\n",
              "       '5', 'Full Year Course Stay 51 weeks', '500-550pm', '12m',\n",
              "       '5 months', '14 weeks', '36', 'not sure', '49', '44-52 weeks',\n",
              "       '41 weeks', '45/week', '23', '51 weeks weeks',\n",
              "       'Full Year Course Stay 44- 51 weeks', '24 weeks', '11 months',\n",
              "       'Full Year Stay', '44 week', '10 weeks', '5-6 months',\n",
              "       '40-44 weeks', 'semester stay', 'ASAP', 'academic year',\n",
              "       '42-52 weeks', '2-3 months', '41weeks', '34', '35 weeks',\n",
              "       '8months', '16 week', 'until dec', '1 - 2 months', 'full year',\n",
              "       '51-54weeks', '357', 'Full year', '3 years', '7 days', '4 months',\n",
              "       'long tearm', '55', '56 weeks', '207', '35', '14',\n",
              "       'Stay 50 - 52 weeks', '1 year stay.', '30 weeks', '61', '88',\n",
              "       '1year', '3-4 weeks',\n",
              "       '51 weeks ( I don’t mind travelling over an hour)', '44-51 weeeks',\n",
              "       'N/44', '8 weeks', '38 Weeks', '24-48 weeks', '156', '9-12 months',\n",
              "       '6 motnhs', '44WEEKS', '2 -3weeks', '3-4 months', 'Semester stay',\n",
              "       '20weeks', '1 month\\\\', 'aug', '97', '44-51weeks', '76',\n",
              "       '44/weeks', '6 month', '36-40 weeks', '17 weeks', '12 month',\n",
              "       '44 weeks/51 weeks', 'full year stayt', 'Short stay',\n",
              "       '25-30 weeks', '1 week', '31', '125/week', '60', '1-2', '6  onths',\n",
              "       '03 months', '44 - 51', '-', '45 or more', 'Semester Stay', '27',\n",
              "       '46 weeks', '38-44 weeks', 'full yyear stay', '0.5', '8-12 weeks',\n",
              "       '6months', '9', 'London', '28', '46 week', '72', 'Long time',\n",
              "       '51 cweeks', '42 weeks', '12 months', '33', '1 year stay',\n",
              "       '6weeks', '2years', '43 weeks', '6 months (26 weeks)', '20 weeks',\n",
              "       '53 weeks', 'Full Year', '7-8 months', '10 month', 'Glasgow',\n",
              "       '10weeks', '51WEEKS', 'till december', '9 months', '36-38 weeks',\n",
              "       '19 weeks', '40weeks +', '40 week', '250', '39 weeks',\n",
              "       '6-8 months', '6m to 1 year', '44weeks - 51', '130/week',\n",
              "       '51 wweeks', '45 weeksa', '68', '44 or 51 weeks', '51 WEEKS',\n",
              "       '52 WEEKS', '51  weeks', '51sweek', '48 weeks', '44 week stay',\n",
              "       '44week', '43/44 weeks', '130', '29', '58', '3months', '160/week',\n",
              "       'Until June 2023', '34 weeks', 'Whole year', '40 weekks',\n",
              "       '-51 weeks', '12-16', '45 WEEKS', 'Until august', '8-12 m',\n",
              "       '39 week', '16 days', '150', '2 months', '38 weeks', '1-2 months',\n",
              "       'Full time', '1 weeks', '44-', '2 month', '3-5 months', '3 weeks',\n",
              "       '143', '144', '1 YEAR', '44 week s', '57', '40+', '129', '42-51',\n",
              "       'Sem stay', '70', '189', '5-6 weeks', 'academic yr',\n",
              "       '12 weeks max', '23 weeks', '89', '1 mnth', '200/week', '22 weeks',\n",
              "       '51 Weeks', '24-44weeks', '33 weeks', '78'], dtype=object)"
            ]
          },
          "metadata": {},
          "execution_count": 60
        }
      ]
    },
    {
      "cell_type": "markdown",
      "source": [
        "as we can see that the unique values in lease column are same to some values, for ex. 2 months, 2 month are same, so we are now applying regex to correct the spelling and finding a pattern in it so that we can reduce the unique values"
      ],
      "metadata": {
        "id": "K7x0PDrdjOgU"
      }
    },
    {
      "cell_type": "code",
      "source": [
        "#CODE TO CORRECT THE SPELLING MISTAKES OF THE CATEGORICAL COLUMNS :-\n",
        "import re\n",
        "\n",
        "def correct_spelling(text):\n",
        "    # replace \"sem\" or \"semester\" with \"semester\"\n",
        "    text = re.sub(r'\\b(sem(?:ester)?)\\b', 'semester', text, flags=re.IGNORECASE)\n",
        "    # replace \"stay\" or \"stya\" with \"stay\"\n",
        "    text = re.sub(r'\\bstay(?:a)?\\b', 'stay', text, flags=re.IGNORECASE)\n",
        "    # replace \"full\" with \"full\"\n",
        "    text = re.sub(r'\\b(full)\\b', 'full', text, flags=re.IGNORECASE)\n",
        "    # replace \"year\" or \"yyear\" with \"year\"\n",
        "    text = re.sub(r'\\b(y(?:ea)?r)\\b', 'year', text, flags=re.IGNORECASE)\n",
        "    # replace \"short\" or \"shotr\" with \"short\"\n",
        "    text = re.sub(r'\\b(sh(?:or)?t)\\b', 'short', text, flags=re.IGNORECASE)\n",
        "    # replace \"week\" or \"weeeks\" with \"week\"\n",
        "    text = re.sub(r'\\b(week(?:s)?)\\b', 'week', text, flags=re.IGNORECASE)\n",
        "    text = re.sub(r'\\b(\\d+\\s*weeks?)\\b', 'week', text, flags=re.IGNORECASE)\n",
        "    # replace \"month\" or \"motnhs\" with \"month\"\n",
        "    text = re.sub(r'\\b(month(?:s)?)\\b', 'month', text, flags=re.IGNORECASE)\n",
        "    # replace \"long\" or \"tearm\" with \"long term\"\n",
        "    text = re.sub(r'\\blong\\b|\\btearm\\b', 'long term', text, flags=re.IGNORECASE)\n",
        "    # replace \"academic\" with \"academic\"\n",
        "    text = re.sub(r'\\b(academic)\\b', 'academic', text, flags=re.IGNORECASE)\n",
        "    return text\n"
      ],
      "metadata": {
        "id": "psgoIST6Lolu"
      },
      "execution_count": 43,
      "outputs": []
    },
    {
      "cell_type": "code",
      "source": [
        "# correcting the spellings of the lease values :-\n",
        "data_clean['lease'] = data_clean['lease'].apply(correct_spelling)"
      ],
      "metadata": {
        "id": "UNyzDAenQ4tt"
      },
      "execution_count": 44,
      "outputs": []
    },
    {
      "cell_type": "markdown",
      "source": [
        "Still the values can be reduced furthure"
      ],
      "metadata": {
        "id": "8RruGFcKk73P"
      }
    },
    {
      "cell_type": "code",
      "source": [
        "# FUNCTION TO REDUCE THE UNIQUE VALUES BY THE HELP OF REGULAR EXPRESSION :-\n",
        "def clean_lease(lease_value):\n",
        "\n",
        "  if re.search(pattern=\"^[0-9 ]*-[0-9 ]*(weeks|WEEKS|Weeks|Week|week)$\",string=lease_value):\n",
        "\n",
        "    return lease_value[0:re.search(\"(weeks|WEEKS|Weeks|Week|week)$\",string=lease_value).start()]\n",
        "\n",
        "  elif re.search(pattern=\"^[0-9 ]*-[0-9 ]*(weeks|WEEKS|Weeks|Week|week)*$\",string=lease_value):\n",
        "\n",
        "    return lease_value[re.search(\"[0-9 ]*\",string=lease_value).start():re.search(\"^[0-9 ]*\",string=lease_value).end()]\n",
        "\n",
        "  elif re.search(pattern=\"^[0-9 ]*(weeks|WEEKS|Weeks|Week|week)*$\",string=lease_value):\n",
        "\n",
        "    return lease_value[re.search(\"[0-9 ]*\",string=lease_value).start():re.search(\"(weeks|WEEKS|Weeks|Week|week)*\",string=lease_value).start()]\n",
        "\n",
        "  else:\n",
        "\n",
        "    return lease_value"
      ],
      "metadata": {
        "id": "06mx6NNql_VL"
      },
      "execution_count": 45,
      "outputs": []
    },
    {
      "cell_type": "code",
      "source": [
        "# Applying regular expression function :-\n",
        "data_clean['lease'] = data_clean['lease'].apply(clean_lease)"
      ],
      "metadata": {
        "id": "0946B-9Vc28n"
      },
      "execution_count": 46,
      "outputs": []
    },
    {
      "cell_type": "code",
      "source": [
        "# unique values further more reduced to 137 from 223\n",
        "len(data_clean['lease'].unique())"
      ],
      "metadata": {
        "colab": {
          "base_uri": "https://localhost:8080/",
          "height": 0
        },
        "id": "isvBuBbIdCQX",
        "outputId": "63d96237-be2a-4998-c4d8-be9aedf85bbc"
      },
      "execution_count": 47,
      "outputs": [
        {
          "output_type": "execute_result",
          "data": {
            "text/plain": [
              "128"
            ]
          },
          "metadata": {},
          "execution_count": 47
        }
      ]
    },
    {
      "cell_type": "code",
      "source": [
        "# checking unique values of the buudget :-\n",
        "len(data_clean['budget'].unique())"
      ],
      "metadata": {
        "id": "hRNIjxyjmKu-",
        "colab": {
          "base_uri": "https://localhost:8080/",
          "height": 0
        },
        "outputId": "56fb9190-4968-4877-85d2-e4b6de5934c8"
      },
      "execution_count": 48,
      "outputs": [
        {
          "output_type": "execute_result",
          "data": {
            "text/plain": [
              "1851"
            ]
          },
          "metadata": {},
          "execution_count": 48
        }
      ]
    },
    {
      "cell_type": "markdown",
      "source": [
        "REDUCING THE UNIQUE VALUES OF THE BUDGET :-"
      ],
      "metadata": {
        "id": "1v6EUs9ZdwHT"
      }
    },
    {
      "cell_type": "code",
      "source": [
        "def calculate_average(data):\n",
        "    if re.match(r'£\\d+ - £\\d+ Per week', data):\n",
        "        # extract the lower and upper bounds using string manipulation\n",
        "        lower_bound = float(data.split('£')[1].split(' - ')[0])\n",
        "        upper_bound = float(data.split('£')[2].split(' ')[0])\n",
        "        # calculate the average\n",
        "        average_price = str((lower_bound + upper_bound) / 2)\n",
        "        return average_price\n",
        "    elif re.match(r'£\\d+ - £\\d+ Per Week', data):\n",
        "        # extract the lower and upper bounds using string manipulation\n",
        "        lower_bound = float(data.split('£')[1].split(' - ')[0])\n",
        "        upper_bound = float(data.split('£')[2].split(' ')[0])\n",
        "        # calculate the average\n",
        "        average_price = str((lower_bound + upper_bound) / 2)\n",
        "        return average_price\n",
        "    else:\n",
        "        return data"
      ],
      "metadata": {
        "id": "1sYhq7tUd6X5"
      },
      "execution_count": 49,
      "outputs": []
    },
    {
      "cell_type": "code",
      "source": [
        "# apply the function to the column and replace the original strings with the averages\n",
        "data_clean['budget'] = data_clean['budget'].apply(calculate_average)"
      ],
      "metadata": {
        "id": "-UQRyxCjeIWp"
      },
      "execution_count": 50,
      "outputs": []
    },
    {
      "cell_type": "code",
      "source": [
        "len(data_clean['budget'].unique())"
      ],
      "metadata": {
        "colab": {
          "base_uri": "https://localhost:8080/",
          "height": 0
        },
        "id": "kTBDaNGWHaF_",
        "outputId": "ef357c4a-3fd6-421e-c0e5-5bef41d8e370"
      },
      "execution_count": 51,
      "outputs": [
        {
          "output_type": "execute_result",
          "data": {
            "text/plain": [
              "1847"
            ]
          },
          "metadata": {},
          "execution_count": 51
        }
      ]
    },
    {
      "cell_type": "code",
      "source": [
        "#  implementing one hot and label encoding :--\n",
        "le = LabelEncoder()\n",
        "label = data_clean['status']\n",
        "label = le.fit_transform(label)\n",
        "ohe = OneHotEncoder()\n",
        "features = data_clean.drop(['status'],axis = 1)\n",
        "features = ohe.fit_transform(features)\n",
        "features = features.toarray()"
      ],
      "metadata": {
        "id": "oBkQ9eaZ2he1"
      },
      "execution_count": 52,
      "outputs": []
    },
    {
      "cell_type": "code",
      "source": [
        "# SCALING FEATURES :-\n",
        "scaler = StandardScaler()\n",
        "features = scaler.fit_transform(features)"
      ],
      "metadata": {
        "id": "uKL7IsCaonGm"
      },
      "execution_count": 53,
      "outputs": []
    },
    {
      "cell_type": "code",
      "source": [
        "\n",
        "# Splitting the data into training and testing sets\n",
        "X_train, X_test, y_train, y_test = train_test_split(features , label, test_size=0.2, random_state=42)"
      ],
      "metadata": {
        "id": "6gFYBkK_I7fA"
      },
      "execution_count": 54,
      "outputs": []
    },
    {
      "cell_type": "code",
      "source": [
        "# Training a Random Forest Regression model\n",
        "rf = RandomForestRegressor(n_estimators=100, random_state=42)\n",
        "rf.fit(X_train, y_train)\n"
      ],
      "metadata": {
        "id": "WlflB91tJWzQ",
        "colab": {
          "base_uri": "https://localhost:8080/",
          "height": 0
        },
        "outputId": "6cab5be6-1056-4b69-e490-6e12c7ff3e6f"
      },
      "execution_count": 55,
      "outputs": [
        {
          "output_type": "execute_result",
          "data": {
            "text/plain": [
              "RandomForestRegressor(random_state=42)"
            ]
          },
          "metadata": {},
          "execution_count": 55
        }
      ]
    },
    {
      "cell_type": "code",
      "source": [
        "\n",
        "# Predicting on the testing set\n",
        "y_pred = rf.predict(X_test)"
      ],
      "metadata": {
        "id": "k3COT348qukp"
      },
      "execution_count": 56,
      "outputs": []
    },
    {
      "cell_type": "code",
      "source": [
        "# converting y_pred into int\n",
        "y_pred = y_pred.astype(int)"
      ],
      "metadata": {
        "id": "E0p3APAEcDT4"
      },
      "execution_count": 57,
      "outputs": []
    },
    {
      "cell_type": "code",
      "source": [
        "# computing accuracy score :-\n",
        "acc = accuracy_score(y_test,y_pred)"
      ],
      "metadata": {
        "id": "wMwTaJJks9cm"
      },
      "execution_count": 58,
      "outputs": []
    },
    {
      "cell_type": "code",
      "source": [
        "print(acc)"
      ],
      "metadata": {
        "colab": {
          "base_uri": "https://localhost:8080/",
          "height": 0
        },
        "id": "V7mEtghHCNB4",
        "outputId": "12c92197-66e5-4202-ae30-709503416a73"
      },
      "execution_count": 59,
      "outputs": [
        {
          "output_type": "stream",
          "name": "stdout",
          "text": [
            "0.9628670120898101\n"
          ]
        }
      ]
    },
    {
      "cell_type": "code",
      "source": [
        "# computing precision score :-\n",
        "prs = precision_score(y_test,y_pred)\n",
        "\n",
        "print(prs)\n"
      ],
      "metadata": {
        "id": "IVEtXB7wsr7X",
        "colab": {
          "base_uri": "https://localhost:8080/",
          "height": 0
        },
        "outputId": "55b268a6-f8c9-4093-a7f0-66ebac76f9ab"
      },
      "execution_count": 60,
      "outputs": [
        {
          "output_type": "stream",
          "name": "stdout",
          "text": [
            "0.9103448275862069\n"
          ]
        }
      ]
    },
    {
      "cell_type": "code",
      "source": [
        "# full classification report of my dataset :-\n",
        "print(classification_report(y_test,y_pred))"
      ],
      "metadata": {
        "id": "_Zb2y3ROJ3-g",
        "colab": {
          "base_uri": "https://localhost:8080/",
          "height": 0
        },
        "outputId": "69666e15-0aff-4120-f15d-40b68a4deecf"
      },
      "execution_count": 61,
      "outputs": [
        {
          "output_type": "stream",
          "name": "stdout",
          "text": [
            "              precision    recall  f1-score   support\n",
            "\n",
            "           0       0.96      1.00      0.98      8682\n",
            "           1       0.91      0.45      0.61       582\n",
            "\n",
            "    accuracy                           0.96      9264\n",
            "   macro avg       0.94      0.73      0.79      9264\n",
            "weighted avg       0.96      0.96      0.96      9264\n",
            "\n"
          ]
        }
      ]
    },
    {
      "cell_type": "code",
      "source": [
        "# defining y_pred_class\n",
        "y_p_c = ['LOST' if x > 0 else 'WON' for x in y_pred]\n"
      ],
      "metadata": {
        "id": "JuZZUqpBrGIF"
      },
      "execution_count": 63,
      "outputs": []
    },
    {
      "cell_type": "markdown",
      "source": [
        "The accuracy and precision are given below, and for this, i used classfication report:\n",
        "* ACCURACY SCORE :- 0.9628670120898101\n",
        "* PRECISION SCORE :- 0.9103448275862069"
      ],
      "metadata": {
        "id": "Xwyx8xSVM2Aa"
      }
    },
    {
      "cell_type": "code",
      "source": [
        "print(y_p_c)"
      ],
      "metadata": {
        "id": "2bNYkM3JNJio",
        "colab": {
          "base_uri": "https://localhost:8080/",
          "height": 0
        },
        "outputId": "41514bfd-d65e-4ce4-88dc-f8e00f8fbb36"
      },
      "execution_count": 65,
      "outputs": [
        {
          "output_type": "stream",
          "name": "stdout",
          "text": [
            "['WON', 'WON', 'WON', 'WON', 'WON', 'WON', 'WON', 'WON', 'WON', 'WON', 'WON', 'WON', 'LOST', 'WON', 'WON', 'WON', 'WON', 'WON', 'WON', 'WON', 'WON', 'WON', 'WON', 'WON', 'WON', 'WON', 'WON', 'WON', 'WON', 'WON', 'WON', 'LOST', 'WON', 'WON', 'WON', 'WON', 'WON', 'WON', 'WON', 'WON', 'WON', 'WON', 'WON', 'WON', 'WON', 'WON', 'LOST', 'WON', 'WON', 'WON', 'WON', 'WON', 'WON', 'WON', 'WON', 'WON', 'WON', 'WON', 'WON', 'WON', 'WON', 'WON', 'WON', 'WON', 'WON', 'WON', 'WON', 'WON', 'WON', 'WON', 'WON', 'WON', 'WON', 'WON', 'WON', 'WON', 'LOST', 'WON', 'WON', 'WON', 'WON', 'WON', 'WON', 'WON', 'WON', 'WON', 'WON', 'WON', 'WON', 'WON', 'WON', 'WON', 'WON', 'WON', 'WON', 'WON', 'WON', 'WON', 'WON', 'LOST', 'WON', 'WON', 'WON', 'WON', 'WON', 'WON', 'WON', 'WON', 'WON', 'WON', 'WON', 'WON', 'WON', 'WON', 'WON', 'WON', 'WON', 'LOST', 'WON', 'WON', 'WON', 'WON', 'WON', 'WON', 'WON', 'WON', 'WON', 'WON', 'WON', 'WON', 'WON', 'WON', 'WON', 'WON', 'WON', 'WON', 'WON', 'WON', 'WON', 'WON', 'WON', 'WON', 'WON', 'WON', 'WON', 'WON', 'WON', 'WON', 'WON', 'WON', 'WON', 'WON', 'WON', 'WON', 'WON', 'WON', 'WON', 'WON', 'WON', 'WON', 'WON', 'WON', 'WON', 'LOST', 'WON', 'WON', 'WON', 'WON', 'WON', 'WON', 'WON', 'WON', 'WON', 'WON', 'WON', 'WON', 'WON', 'WON', 'WON', 'WON', 'WON', 'WON', 'WON', 'WON', 'WON', 'WON', 'WON', 'WON', 'WON', 'WON', 'WON', 'WON', 'WON', 'WON', 'WON', 'WON', 'WON', 'WON', 'WON', 'WON', 'WON', 'WON', 'WON', 'WON', 'WON', 'WON', 'WON', 'WON', 'WON', 'WON', 'WON', 'WON', 'WON', 'WON', 'WON', 'WON', 'WON', 'WON', 'WON', 'WON', 'WON', 'LOST', 'WON', 'WON', 'WON', 'WON', 'WON', 'WON', 'WON', 'WON', 'WON', 'WON', 'WON', 'WON', 'WON', 'WON', 'LOST', 'WON', 'WON', 'WON', 'WON', 'WON', 'WON', 'WON', 'WON', 'WON', 'WON', 'WON', 'WON', 'WON', 'WON', 'WON', 'WON', 'WON', 'WON', 'WON', 'WON', 'WON', 'WON', 'WON', 'WON', 'WON', 'WON', 'WON', 'WON', 'WON', 'WON', 'WON', 'WON', 'WON', 'WON', 'WON', 'WON', 'LOST', 'WON', 'WON', 'WON', 'WON', 'WON', 'WON', 'LOST', 'WON', 'WON', 'WON', 'WON', 'WON', 'WON', 'WON', 'WON', 'WON', 'LOST', 'WON', 'WON', 'WON', 'WON', 'WON', 'WON', 'WON', 'WON', 'WON', 'WON', 'WON', 'WON', 'WON', 'WON', 'WON', 'WON', 'WON', 'WON', 'WON', 'WON', 'WON', 'WON', 'WON', 'WON', 'WON', 'WON', 'WON', 'WON', 'WON', 'WON', 'WON', 'WON', 'WON', 'WON', 'WON', 'WON', 'WON', 'WON', 'WON', 'WON', 'WON', 'WON', 'WON', 'WON', 'WON', 'WON', 'WON', 'WON', 'WON', 'WON', 'WON', 'WON', 'WON', 'WON', 'WON', 'WON', 'WON', 'WON', 'WON', 'WON', 'WON', 'WON', 'WON', 'WON', 'WON', 'WON', 'WON', 'WON', 'LOST', 'WON', 'WON', 'WON', 'WON', 'WON', 'WON', 'WON', 'LOST', 'WON', 'LOST', 'WON', 'WON', 'WON', 'WON', 'WON', 'WON', 'WON', 'WON', 'WON', 'WON', 'WON', 'WON', 'WON', 'WON', 'WON', 'WON', 'WON', 'WON', 'WON', 'WON', 'WON', 'WON', 'WON', 'WON', 'WON', 'WON', 'WON', 'WON', 'WON', 'WON', 'WON', 'WON', 'WON', 'WON', 'WON', 'WON', 'WON', 'WON', 'WON', 'WON', 'WON', 'WON', 'WON', 'WON', 'WON', 'WON', 'WON', 'WON', 'LOST', 'WON', 'WON', 'WON', 'WON', 'WON', 'WON', 'WON', 'WON', 'WON', 'WON', 'WON', 'WON', 'WON', 'WON', 'WON', 'WON', 'WON', 'WON', 'WON', 'WON', 'WON', 'WON', 'WON', 'WON', 'WON', 'WON', 'WON', 'WON', 'WON', 'WON', 'WON', 'WON', 'WON', 'WON', 'WON', 'WON', 'WON', 'WON', 'WON', 'WON', 'WON', 'WON', 'WON', 'WON', 'WON', 'WON', 'WON', 'WON', 'WON', 'WON', 'WON', 'WON', 'WON', 'WON', 'WON', 'WON', 'WON', 'WON', 'WON', 'WON', 'WON', 'WON', 'WON', 'WON', 'WON', 'WON', 'WON', 'WON', 'WON', 'WON', 'WON', 'WON', 'WON', 'WON', 'WON', 'WON', 'WON', 'WON', 'WON', 'WON', 'WON', 'WON', 'WON', 'WON', 'WON', 'WON', 'WON', 'WON', 'WON', 'WON', 'WON', 'WON', 'WON', 'WON', 'WON', 'WON', 'WON', 'WON', 'WON', 'WON', 'WON', 'WON', 'WON', 'WON', 'WON', 'LOST', 'WON', 'WON', 'WON', 'WON', 'WON', 'WON', 'WON', 'WON', 'WON', 'WON', 'WON', 'WON', 'WON', 'WON', 'WON', 'WON', 'WON', 'WON', 'WON', 'WON', 'WON', 'WON', 'WON', 'WON', 'WON', 'WON', 'WON', 'WON', 'WON', 'WON', 'WON', 'WON', 'WON', 'WON', 'WON', 'WON', 'WON', 'WON', 'WON', 'WON', 'WON', 'WON', 'WON', 'WON', 'WON', 'WON', 'WON', 'WON', 'WON', 'WON', 'WON', 'WON', 'WON', 'WON', 'WON', 'LOST', 'WON', 'WON', 'WON', 'WON', 'WON', 'WON', 'WON', 'WON', 'WON', 'WON', 'WON', 'WON', 'WON', 'WON', 'WON', 'WON', 'WON', 'WON', 'WON', 'WON', 'WON', 'WON', 'WON', 'WON', 'LOST', 'WON', 'WON', 'WON', 'WON', 'WON', 'WON', 'WON', 'WON', 'WON', 'WON', 'WON', 'WON', 'WON', 'WON', 'WON', 'WON', 'WON', 'WON', 'WON', 'WON', 'WON', 'WON', 'WON', 'WON', 'WON', 'WON', 'WON', 'WON', 'WON', 'WON', 'WON', 'WON', 'WON', 'WON', 'WON', 'WON', 'WON', 'WON', 'WON', 'WON', 'WON', 'WON', 'WON', 'WON', 'WON', 'WON', 'WON', 'WON', 'WON', 'WON', 'WON', 'WON', 'WON', 'WON', 'WON', 'WON', 'WON', 'WON', 'WON', 'WON', 'WON', 'WON', 'WON', 'WON', 'WON', 'WON', 'WON', 'WON', 'WON', 'WON', 'WON', 'WON', 'WON', 'WON', 'WON', 'WON', 'WON', 'WON', 'WON', 'LOST', 'WON', 'WON', 'WON', 'WON', 'WON', 'WON', 'WON', 'WON', 'WON', 'WON', 'WON', 'WON', 'WON', 'WON', 'WON', 'WON', 'WON', 'WON', 'WON', 'WON', 'WON', 'LOST', 'WON', 'WON', 'WON', 'WON', 'WON', 'WON', 'WON', 'WON', 'WON', 'WON', 'WON', 'WON', 'WON', 'WON', 'WON', 'WON', 'WON', 'WON', 'WON', 'WON', 'WON', 'WON', 'WON', 'WON', 'WON', 'WON', 'LOST', 'WON', 'WON', 'WON', 'WON', 'WON', 'WON', 'WON', 'WON', 'WON', 'WON', 'WON', 'WON', 'WON', 'WON', 'WON', 'WON', 'WON', 'WON', 'WON', 'WON', 'WON', 'WON', 'WON', 'WON', 'LOST', 'WON', 'WON', 'WON', 'WON', 'WON', 'WON', 'WON', 'WON', 'WON', 'WON', 'WON', 'WON', 'WON', 'WON', 'WON', 'WON', 'WON', 'WON', 'WON', 'LOST', 'WON', 'WON', 'WON', 'WON', 'WON', 'WON', 'WON', 'WON', 'WON', 'WON', 'LOST', 'WON', 'WON', 'WON', 'WON', 'WON', 'WON', 'WON', 'WON', 'WON', 'WON', 'WON', 'WON', 'WON', 'LOST', 'LOST', 'WON', 'WON', 'LOST', 'WON', 'WON', 'WON', 'WON', 'WON', 'WON', 'WON', 'WON', 'WON', 'WON', 'WON', 'WON', 'WON', 'WON', 'WON', 'WON', 'WON', 'WON', 'WON', 'WON', 'WON', 'WON', 'WON', 'WON', 'WON', 'WON', 'WON', 'WON', 'WON', 'WON', 'WON', 'WON', 'WON', 'WON', 'WON', 'WON', 'WON', 'WON', 'WON', 'WON', 'WON', 'WON', 'WON', 'WON', 'WON', 'WON', 'WON', 'WON', 'WON', 'WON', 'LOST', 'WON', 'WON', 'WON', 'WON', 'WON', 'WON', 'WON', 'WON', 'WON', 'WON', 'WON', 'LOST', 'WON', 'WON', 'WON', 'WON', 'WON', 'WON', 'WON', 'WON', 'WON', 'WON', 'WON', 'WON', 'WON', 'WON', 'WON', 'WON', 'WON', 'WON', 'WON', 'WON', 'WON', 'WON', 'WON', 'WON', 'WON', 'WON', 'WON', 'WON', 'WON', 'WON', 'WON', 'WON', 'WON', 'WON', 'WON', 'WON', 'WON', 'WON', 'WON', 'WON', 'WON', 'WON', 'LOST', 'WON', 'WON', 'WON', 'WON', 'WON', 'WON', 'LOST', 'WON', 'WON', 'WON', 'WON', 'WON', 'WON', 'WON', 'WON', 'WON', 'WON', 'WON', 'WON', 'WON', 'WON', 'WON', 'WON', 'WON', 'WON', 'WON', 'WON', 'WON', 'WON', 'WON', 'WON', 'WON', 'WON', 'WON', 'WON', 'WON', 'WON', 'WON', 'WON', 'WON', 'WON', 'WON', 'LOST', 'LOST', 'WON', 'WON', 'WON', 'WON', 'WON', 'WON', 'WON', 'WON', 'WON', 'WON', 'WON', 'WON', 'WON', 'WON', 'WON', 'WON', 'WON', 'WON', 'WON', 'WON', 'WON', 'WON', 'WON', 'WON', 'WON', 'WON', 'WON', 'WON', 'WON', 'WON', 'WON', 'WON', 'WON', 'WON', 'WON', 'LOST', 'WON', 'WON', 'LOST', 'WON', 'WON', 'WON', 'WON', 'WON', 'WON', 'WON', 'WON', 'WON', 'WON', 'WON', 'WON', 'WON', 'WON', 'WON', 'WON', 'WON', 'WON', 'WON', 'WON', 'WON', 'WON', 'WON', 'WON', 'WON', 'WON', 'WON', 'WON', 'WON', 'WON', 'WON', 'WON', 'WON', 'WON', 'WON', 'WON', 'WON', 'WON', 'WON', 'WON', 'WON', 'WON', 'WON', 'WON', 'WON', 'WON', 'WON', 'WON', 'LOST', 'WON', 'WON', 'WON', 'WON', 'WON', 'WON', 'WON', 'WON', 'WON', 'WON', 'WON', 'WON', 'WON', 'WON', 'WON', 'WON', 'WON', 'WON', 'WON', 'WON', 'WON', 'WON', 'WON', 'WON', 'WON', 'WON', 'WON', 'WON', 'WON', 'WON', 'WON', 'WON', 'WON', 'WON', 'WON', 'WON', 'WON', 'WON', 'WON', 'WON', 'LOST', 'WON', 'WON', 'WON', 'LOST', 'WON', 'WON', 'WON', 'WON', 'WON', 'WON', 'WON', 'WON', 'WON', 'WON', 'WON', 'WON', 'WON', 'WON', 'WON', 'WON', 'WON', 'WON', 'WON', 'WON', 'WON', 'WON', 'WON', 'WON', 'WON', 'WON', 'WON', 'WON', 'WON', 'WON', 'WON', 'WON', 'WON', 'WON', 'WON', 'WON', 'WON', 'WON', 'WON', 'WON', 'WON', 'WON', 'WON', 'WON', 'WON', 'WON', 'WON', 'LOST', 'WON', 'WON', 'WON', 'WON', 'WON', 'WON', 'WON', 'WON', 'WON', 'WON', 'WON', 'WON', 'WON', 'WON', 'WON', 'WON', 'WON', 'WON', 'WON', 'WON', 'WON', 'WON', 'WON', 'WON', 'WON', 'WON', 'WON', 'WON', 'WON', 'WON', 'WON', 'WON', 'WON', 'WON', 'WON', 'WON', 'WON', 'WON', 'WON', 'LOST', 'WON', 'WON', 'WON', 'WON', 'WON', 'WON', 'LOST', 'WON', 'WON', 'WON', 'WON', 'WON', 'WON', 'WON', 'WON', 'WON', 'WON', 'WON', 'WON', 'WON', 'WON', 'WON', 'WON', 'WON', 'WON', 'WON', 'WON', 'WON', 'WON', 'WON', 'WON', 'WON', 'WON', 'WON', 'WON', 'WON', 'WON', 'WON', 'WON', 'WON', 'WON', 'WON', 'WON', 'WON', 'WON', 'WON', 'WON', 'WON', 'WON', 'WON', 'WON', 'WON', 'WON', 'WON', 'WON', 'WON', 'WON', 'WON', 'WON', 'WON', 'WON', 'WON', 'WON', 'WON', 'WON', 'WON', 'WON', 'WON', 'WON', 'WON', 'WON', 'WON', 'WON', 'WON', 'WON', 'WON', 'WON', 'WON', 'WON', 'WON', 'WON', 'WON', 'WON', 'WON', 'WON', 'WON', 'WON', 'WON', 'WON', 'WON', 'WON', 'WON', 'WON', 'WON', 'WON', 'WON', 'WON', 'WON', 'WON', 'WON', 'WON', 'WON', 'WON', 'WON', 'WON', 'WON', 'WON', 'WON', 'WON', 'WON', 'WON', 'WON', 'WON', 'WON', 'WON', 'WON', 'WON', 'WON', 'WON', 'WON', 'WON', 'WON', 'WON', 'LOST', 'WON', 'WON', 'WON', 'WON', 'WON', 'WON', 'WON', 'WON', 'WON', 'WON', 'WON', 'WON', 'WON', 'WON', 'WON', 'WON', 'WON', 'WON', 'WON', 'WON', 'WON', 'WON', 'WON', 'WON', 'WON', 'WON', 'WON', 'WON', 'LOST', 'WON', 'WON', 'WON', 'WON', 'WON', 'WON', 'WON', 'WON', 'WON', 'WON', 'WON', 'WON', 'WON', 'WON', 'WON', 'WON', 'WON', 'WON', 'WON', 'WON', 'WON', 'WON', 'WON', 'WON', 'WON', 'WON', 'WON', 'WON', 'WON', 'WON', 'WON', 'WON', 'WON', 'WON', 'WON', 'WON', 'WON', 'LOST', 'WON', 'WON', 'WON', 'WON', 'WON', 'WON', 'WON', 'WON', 'WON', 'WON', 'WON', 'WON', 'WON', 'WON', 'WON', 'WON', 'WON', 'WON', 'WON', 'WON', 'WON', 'WON', 'WON', 'WON', 'WON', 'WON', 'WON', 'WON', 'WON', 'WON', 'WON', 'WON', 'WON', 'WON', 'WON', 'WON', 'WON', 'WON', 'WON', 'WON', 'WON', 'WON', 'WON', 'WON', 'WON', 'WON', 'WON', 'WON', 'WON', 'WON', 'WON', 'WON', 'WON', 'WON', 'WON', 'WON', 'WON', 'WON', 'WON', 'WON', 'WON', 'WON', 'WON', 'WON', 'WON', 'WON', 'WON', 'WON', 'WON', 'WON', 'WON', 'WON', 'WON', 'WON', 'WON', 'WON', 'WON', 'WON', 'LOST', 'WON', 'WON', 'WON', 'WON', 'WON', 'WON', 'WON', 'WON', 'WON', 'WON', 'WON', 'WON', 'WON', 'WON', 'WON', 'WON', 'WON', 'WON', 'WON', 'WON', 'WON', 'WON', 'WON', 'WON', 'WON', 'WON', 'WON', 'WON', 'WON', 'WON', 'WON', 'WON', 'WON', 'WON', 'WON', 'WON', 'WON', 'WON', 'WON', 'WON', 'WON', 'WON', 'WON', 'WON', 'WON', 'WON', 'WON', 'WON', 'WON', 'WON', 'WON', 'WON', 'WON', 'WON', 'WON', 'WON', 'WON', 'WON', 'WON', 'WON', 'WON', 'WON', 'WON', 'WON', 'WON', 'WON', 'WON', 'WON', 'WON', 'WON', 'LOST', 'WON', 'WON', 'WON', 'WON', 'WON', 'WON', 'WON', 'WON', 'WON', 'WON', 'LOST', 'LOST', 'WON', 'WON', 'WON', 'LOST', 'WON', 'WON', 'WON', 'WON', 'WON', 'WON', 'WON', 'WON', 'WON', 'WON', 'WON', 'WON', 'WON', 'WON', 'WON', 'WON', 'WON', 'WON', 'WON', 'WON', 'WON', 'WON', 'WON', 'WON', 'WON', 'WON', 'WON', 'LOST', 'WON', 'WON', 'WON', 'WON', 'WON', 'WON', 'WON', 'WON', 'WON', 'WON', 'WON', 'WON', 'WON', 'WON', 'WON', 'WON', 'WON', 'WON', 'WON', 'WON', 'WON', 'WON', 'WON', 'WON', 'WON', 'WON', 'WON', 'WON', 'WON', 'WON', 'WON', 'WON', 'WON', 'WON', 'WON', 'WON', 'WON', 'WON', 'WON', 'WON', 'WON', 'WON', 'WON', 'WON', 'WON', 'WON', 'WON', 'WON', 'WON', 'WON', 'WON', 'WON', 'WON', 'WON', 'WON', 'WON', 'WON', 'WON', 'WON', 'WON', 'WON', 'WON', 'WON', 'WON', 'WON', 'WON', 'WON', 'LOST', 'WON', 'WON', 'WON', 'WON', 'WON', 'WON', 'WON', 'WON', 'WON', 'WON', 'WON', 'WON', 'WON', 'WON', 'WON', 'WON', 'WON', 'WON', 'WON', 'WON', 'WON', 'LOST', 'WON', 'WON', 'WON', 'WON', 'WON', 'WON', 'WON', 'WON', 'WON', 'WON', 'WON', 'WON', 'WON', 'WON', 'WON', 'WON', 'WON', 'WON', 'WON', 'WON', 'WON', 'WON', 'WON', 'WON', 'WON', 'WON', 'WON', 'WON', 'WON', 'WON', 'WON', 'WON', 'WON', 'WON', 'WON', 'WON', 'WON', 'WON', 'WON', 'WON', 'WON', 'WON', 'WON', 'WON', 'WON', 'WON', 'WON', 'WON', 'WON', 'WON', 'WON', 'WON', 'WON', 'WON', 'WON', 'WON', 'WON', 'WON', 'WON', 'WON', 'WON', 'WON', 'WON', 'WON', 'WON', 'WON', 'WON', 'WON', 'WON', 'WON', 'WON', 'WON', 'WON', 'WON', 'LOST', 'WON', 'WON', 'WON', 'WON', 'WON', 'WON', 'WON', 'WON', 'WON', 'WON', 'WON', 'WON', 'WON', 'WON', 'WON', 'WON', 'LOST', 'WON', 'WON', 'WON', 'WON', 'WON', 'WON', 'WON', 'WON', 'WON', 'WON', 'WON', 'WON', 'WON', 'WON', 'WON', 'WON', 'WON', 'WON', 'WON', 'WON', 'WON', 'WON', 'WON', 'WON', 'WON', 'WON', 'WON', 'WON', 'WON', 'WON', 'WON', 'WON', 'WON', 'WON', 'WON', 'WON', 'WON', 'WON', 'WON', 'WON', 'WON', 'WON', 'WON', 'LOST', 'WON', 'WON', 'WON', 'WON', 'LOST', 'WON', 'WON', 'WON', 'WON', 'LOST', 'WON', 'WON', 'WON', 'WON', 'WON', 'WON', 'WON', 'WON', 'WON', 'WON', 'WON', 'WON', 'WON', 'WON', 'WON', 'WON', 'WON', 'WON', 'WON', 'WON', 'WON', 'WON', 'WON', 'WON', 'WON', 'WON', 'WON', 'WON', 'WON', 'WON', 'WON', 'WON', 'WON', 'WON', 'WON', 'WON', 'WON', 'WON', 'LOST', 'WON', 'WON', 'LOST', 'WON', 'WON', 'WON', 'WON', 'WON', 'WON', 'WON', 'WON', 'WON', 'WON', 'WON', 'WON', 'WON', 'WON', 'WON', 'WON', 'WON', 'WON', 'WON', 'WON', 'WON', 'WON', 'WON', 'WON', 'WON', 'WON', 'WON', 'WON', 'WON', 'WON', 'WON', 'WON', 'WON', 'WON', 'WON', 'WON', 'WON', 'WON', 'WON', 'WON', 'WON', 'WON', 'WON', 'WON', 'WON', 'WON', 'WON', 'WON', 'WON', 'WON', 'WON', 'WON', 'WON', 'WON', 'WON', 'WON', 'WON', 'WON', 'WON', 'WON', 'WON', 'WON', 'WON', 'WON', 'WON', 'WON', 'WON', 'WON', 'WON', 'WON', 'WON', 'WON', 'WON', 'WON', 'WON', 'WON', 'WON', 'WON', 'WON', 'WON', 'WON', 'WON', 'WON', 'WON', 'WON', 'WON', 'WON', 'WON', 'WON', 'WON', 'WON', 'WON', 'WON', 'WON', 'WON', 'WON', 'WON', 'WON', 'WON', 'WON', 'WON', 'WON', 'WON', 'WON', 'WON', 'WON', 'LOST', 'WON', 'WON', 'WON', 'WON', 'WON', 'WON', 'WON', 'WON', 'WON', 'WON', 'WON', 'WON', 'WON', 'WON', 'WON', 'WON', 'WON', 'WON', 'WON', 'WON', 'WON', 'WON', 'WON', 'WON', 'WON', 'WON', 'WON', 'WON', 'WON', 'WON', 'WON', 'WON', 'WON', 'WON', 'LOST', 'WON', 'WON', 'WON', 'WON', 'WON', 'WON', 'WON', 'WON', 'WON', 'WON', 'WON', 'WON', 'WON', 'WON', 'WON', 'WON', 'WON', 'WON', 'WON', 'WON', 'WON', 'WON', 'WON', 'WON', 'WON', 'WON', 'WON', 'WON', 'WON', 'WON', 'WON', 'WON', 'WON', 'WON', 'WON', 'WON', 'WON', 'WON', 'WON', 'WON', 'WON', 'WON', 'WON', 'WON', 'LOST', 'WON', 'WON', 'WON', 'WON', 'WON', 'WON', 'WON', 'WON', 'WON', 'WON', 'WON', 'WON', 'WON', 'WON', 'WON', 'WON', 'WON', 'WON', 'WON', 'WON', 'WON', 'WON', 'WON', 'WON', 'WON', 'WON', 'WON', 'WON', 'WON', 'WON', 'WON', 'WON', 'WON', 'WON', 'WON', 'WON', 'WON', 'WON', 'WON', 'LOST', 'WON', 'WON', 'WON', 'WON', 'WON', 'WON', 'WON', 'WON', 'WON', 'WON', 'WON', 'WON', 'WON', 'WON', 'WON', 'WON', 'WON', 'WON', 'WON', 'WON', 'WON', 'WON', 'WON', 'WON', 'WON', 'WON', 'WON', 'WON', 'WON', 'WON', 'WON', 'WON', 'WON', 'WON', 'WON', 'WON', 'WON', 'WON', 'WON', 'WON', 'WON', 'WON', 'WON', 'WON', 'WON', 'WON', 'WON', 'WON', 'WON', 'WON', 'WON', 'WON', 'WON', 'WON', 'WON', 'WON', 'WON', 'WON', 'WON', 'WON', 'WON', 'WON', 'WON', 'WON', 'WON', 'WON', 'WON', 'WON', 'LOST', 'WON', 'LOST', 'WON', 'WON', 'WON', 'WON', 'WON', 'WON', 'WON', 'WON', 'WON', 'WON', 'WON', 'WON', 'WON', 'WON', 'WON', 'WON', 'WON', 'WON', 'WON', 'WON', 'WON', 'WON', 'LOST', 'WON', 'WON', 'WON', 'WON', 'WON', 'WON', 'WON', 'WON', 'WON', 'WON', 'WON', 'WON', 'WON', 'WON', 'WON', 'WON', 'WON', 'WON', 'LOST', 'WON', 'WON', 'WON', 'WON', 'WON', 'WON', 'WON', 'WON', 'WON', 'LOST', 'WON', 'WON', 'WON', 'WON', 'WON', 'WON', 'WON', 'WON', 'WON', 'WON', 'WON', 'WON', 'WON', 'WON', 'WON', 'WON', 'WON', 'WON', 'WON', 'WON', 'WON', 'WON', 'WON', 'WON', 'WON', 'WON', 'WON', 'WON', 'WON', 'WON', 'WON', 'WON', 'WON', 'WON', 'WON', 'WON', 'WON', 'WON', 'WON', 'WON', 'WON', 'WON', 'WON', 'WON', 'WON', 'WON', 'WON', 'WON', 'WON', 'WON', 'WON', 'WON', 'WON', 'WON', 'WON', 'WON', 'WON', 'WON', 'WON', 'WON', 'WON', 'WON', 'WON', 'WON', 'WON', 'WON', 'WON', 'WON', 'WON', 'WON', 'WON', 'WON', 'WON', 'WON', 'WON', 'WON', 'WON', 'WON', 'WON', 'WON', 'WON', 'WON', 'WON', 'WON', 'WON', 'WON', 'WON', 'WON', 'WON', 'WON', 'WON', 'WON', 'WON', 'WON', 'WON', 'WON', 'WON', 'WON', 'WON', 'WON', 'WON', 'WON', 'WON', 'WON', 'WON', 'WON', 'LOST', 'LOST', 'WON', 'WON', 'WON', 'WON', 'WON', 'WON', 'WON', 'WON', 'WON', 'WON', 'WON', 'WON', 'WON', 'WON', 'WON', 'WON', 'WON', 'WON', 'WON', 'WON', 'WON', 'WON', 'WON', 'WON', 'WON', 'WON', 'WON', 'WON', 'WON', 'WON', 'WON', 'WON', 'WON', 'WON', 'WON', 'WON', 'WON', 'WON', 'WON', 'WON', 'WON', 'WON', 'WON', 'WON', 'WON', 'WON', 'WON', 'WON', 'WON', 'WON', 'WON', 'WON', 'LOST', 'WON', 'WON', 'WON', 'WON', 'LOST', 'WON', 'WON', 'WON', 'WON', 'WON', 'WON', 'WON', 'WON', 'WON', 'WON', 'WON', 'WON', 'WON', 'WON', 'LOST', 'WON', 'WON', 'LOST', 'WON', 'WON', 'WON', 'WON', 'WON', 'WON', 'WON', 'WON', 'WON', 'WON', 'WON', 'WON', 'WON', 'WON', 'WON', 'WON', 'WON', 'WON', 'WON', 'WON', 'WON', 'LOST', 'WON', 'WON', 'WON', 'WON', 'WON', 'WON', 'WON', 'WON', 'WON', 'WON', 'WON', 'WON', 'WON', 'WON', 'WON', 'WON', 'WON', 'WON', 'WON', 'WON', 'WON', 'WON', 'WON', 'WON', 'WON', 'WON', 'WON', 'WON', 'WON', 'WON', 'WON', 'WON', 'LOST', 'WON', 'WON', 'WON', 'WON', 'WON', 'WON', 'WON', 'WON', 'WON', 'WON', 'WON', 'WON', 'WON', 'WON', 'WON', 'WON', 'WON', 'WON', 'WON', 'WON', 'WON', 'WON', 'WON', 'WON', 'WON', 'WON', 'WON', 'WON', 'WON', 'WON', 'WON', 'WON', 'WON', 'WON', 'WON', 'WON', 'WON', 'WON', 'WON', 'WON', 'WON', 'WON', 'LOST', 'WON', 'WON', 'WON', 'WON', 'WON', 'WON', 'WON', 'WON', 'WON', 'WON', 'WON', 'WON', 'WON', 'WON', 'WON', 'WON', 'WON', 'WON', 'WON', 'WON', 'WON', 'WON', 'WON', 'WON', 'WON', 'WON', 'WON', 'WON', 'WON', 'WON', 'WON', 'WON', 'WON', 'WON', 'WON', 'WON', 'WON', 'WON', 'WON', 'WON', 'WON', 'WON', 'WON', 'WON', 'WON', 'WON', 'WON', 'WON', 'WON', 'WON', 'WON', 'WON', 'WON', 'WON', 'WON', 'WON', 'WON', 'WON', 'WON', 'WON', 'WON', 'WON', 'WON', 'WON', 'WON', 'WON', 'WON', 'WON', 'WON', 'WON', 'WON', 'WON', 'WON', 'WON', 'WON', 'WON', 'WON', 'WON', 'WON', 'WON', 'WON', 'WON', 'WON', 'WON', 'WON', 'WON', 'WON', 'WON', 'WON', 'WON', 'WON', 'WON', 'WON', 'WON', 'WON', 'WON', 'WON', 'WON', 'WON', 'WON', 'WON', 'WON', 'WON', 'WON', 'WON', 'WON', 'WON', 'WON', 'WON', 'WON', 'WON', 'WON', 'WON', 'WON', 'WON', 'WON', 'WON', 'WON', 'WON', 'WON', 'WON', 'WON', 'WON', 'WON', 'WON', 'WON', 'WON', 'LOST', 'LOST', 'WON', 'WON', 'WON', 'WON', 'WON', 'WON', 'WON', 'WON', 'WON', 'WON', 'WON', 'WON', 'WON', 'WON', 'WON', 'WON', 'WON', 'WON', 'WON', 'WON', 'WON', 'WON', 'WON', 'WON', 'WON', 'WON', 'WON', 'LOST', 'WON', 'WON', 'WON', 'WON', 'WON', 'WON', 'WON', 'WON', 'WON', 'WON', 'WON', 'WON', 'WON', 'WON', 'WON', 'WON', 'WON', 'WON', 'WON', 'WON', 'WON', 'WON', 'WON', 'WON', 'WON', 'WON', 'WON', 'WON', 'WON', 'WON', 'WON', 'WON', 'WON', 'WON', 'WON', 'WON', 'WON', 'WON', 'WON', 'WON', 'WON', 'WON', 'WON', 'WON', 'WON', 'WON', 'WON', 'WON', 'LOST', 'WON', 'WON', 'WON', 'WON', 'WON', 'WON', 'WON', 'WON', 'WON', 'WON', 'WON', 'WON', 'WON', 'WON', 'WON', 'WON', 'WON', 'WON', 'WON', 'WON', 'WON', 'WON', 'WON', 'WON', 'WON', 'WON', 'WON', 'WON', 'WON', 'WON', 'WON', 'WON', 'WON', 'WON', 'WON', 'WON', 'WON', 'WON', 'WON', 'WON', 'WON', 'WON', 'WON', 'WON', 'WON', 'WON', 'WON', 'WON', 'WON', 'WON', 'LOST', 'WON', 'WON', 'WON', 'WON', 'WON', 'WON', 'WON', 'WON', 'WON', 'WON', 'WON', 'WON', 'WON', 'WON', 'WON', 'WON', 'WON', 'WON', 'WON', 'WON', 'WON', 'WON', 'WON', 'WON', 'WON', 'WON', 'WON', 'WON', 'WON', 'WON', 'WON', 'WON', 'WON', 'WON', 'WON', 'WON', 'WON', 'WON', 'WON', 'WON', 'WON', 'WON', 'WON', 'WON', 'WON', 'WON', 'LOST', 'WON', 'WON', 'WON', 'WON', 'WON', 'WON', 'WON', 'WON', 'WON', 'WON', 'WON', 'WON', 'WON', 'WON', 'WON', 'WON', 'WON', 'WON', 'WON', 'WON', 'WON', 'WON', 'WON', 'WON', 'WON', 'WON', 'WON', 'WON', 'WON', 'WON', 'WON', 'WON', 'WON', 'WON', 'WON', 'WON', 'WON', 'WON', 'WON', 'WON', 'WON', 'WON', 'WON', 'WON', 'WON', 'WON', 'WON', 'WON', 'WON', 'WON', 'WON', 'WON', 'WON', 'WON', 'WON', 'WON', 'WON', 'WON', 'WON', 'WON', 'WON', 'WON', 'WON', 'WON', 'WON', 'WON', 'WON', 'WON', 'WON', 'WON', 'WON', 'WON', 'WON', 'WON', 'WON', 'WON', 'WON', 'WON', 'WON', 'WON', 'WON', 'WON', 'WON', 'WON', 'WON', 'WON', 'WON', 'WON', 'WON', 'WON', 'WON', 'WON', 'WON', 'WON', 'WON', 'WON', 'WON', 'WON', 'WON', 'WON', 'WON', 'WON', 'WON', 'WON', 'WON', 'WON', 'WON', 'LOST', 'WON', 'WON', 'WON', 'WON', 'WON', 'LOST', 'WON', 'WON', 'WON', 'WON', 'WON', 'WON', 'WON', 'WON', 'WON', 'WON', 'WON', 'WON', 'WON', 'WON', 'WON', 'WON', 'WON', 'WON', 'LOST', 'WON', 'WON', 'WON', 'LOST', 'WON', 'WON', 'WON', 'WON', 'WON', 'WON', 'WON', 'WON', 'WON', 'WON', 'WON', 'WON', 'WON', 'WON', 'WON', 'WON', 'WON', 'WON', 'WON', 'WON', 'WON', 'WON', 'WON', 'WON', 'WON', 'WON', 'WON', 'WON', 'WON', 'WON', 'WON', 'WON', 'WON', 'WON', 'WON', 'WON', 'WON', 'WON', 'WON', 'WON', 'WON', 'WON', 'WON', 'WON', 'WON', 'WON', 'WON', 'WON', 'WON', 'WON', 'WON', 'WON', 'WON', 'WON', 'LOST', 'WON', 'WON', 'WON', 'WON', 'WON', 'WON', 'WON', 'WON', 'WON', 'WON', 'WON', 'WON', 'WON', 'WON', 'WON', 'WON', 'WON', 'WON', 'WON', 'WON', 'WON', 'WON', 'WON', 'WON', 'WON', 'WON', 'WON', 'WON', 'WON', 'WON', 'WON', 'WON', 'WON', 'WON', 'WON', 'WON', 'WON', 'WON', 'WON', 'WON', 'WON', 'WON', 'WON', 'WON', 'WON', 'WON', 'WON', 'WON', 'WON', 'WON', 'WON', 'LOST', 'WON', 'WON', 'WON', 'WON', 'WON', 'WON', 'WON', 'WON', 'WON', 'WON', 'WON', 'WON', 'WON', 'WON', 'WON', 'WON', 'WON', 'WON', 'WON', 'WON', 'WON', 'WON', 'WON', 'WON', 'WON', 'WON', 'WON', 'WON', 'WON', 'WON', 'WON', 'WON', 'WON', 'WON', 'WON', 'WON', 'WON', 'WON', 'WON', 'WON', 'WON', 'WON', 'WON', 'WON', 'WON', 'WON', 'WON', 'WON', 'WON', 'WON', 'WON', 'WON', 'WON', 'WON', 'WON', 'WON', 'WON', 'WON', 'WON', 'WON', 'WON', 'WON', 'WON', 'WON', 'WON', 'WON', 'WON', 'WON', 'WON', 'WON', 'WON', 'WON', 'WON', 'WON', 'WON', 'WON', 'WON', 'WON', 'WON', 'WON', 'WON', 'WON', 'WON', 'WON', 'WON', 'WON', 'WON', 'WON', 'WON', 'WON', 'WON', 'WON', 'WON', 'WON', 'WON', 'WON', 'WON', 'WON', 'WON', 'WON', 'WON', 'WON', 'WON', 'WON', 'WON', 'WON', 'WON', 'WON', 'WON', 'WON', 'WON', 'WON', 'WON', 'WON', 'WON', 'WON', 'LOST', 'WON', 'WON', 'WON', 'WON', 'WON', 'WON', 'WON', 'WON', 'WON', 'WON', 'WON', 'WON', 'WON', 'WON', 'WON', 'WON', 'WON', 'WON', 'WON', 'WON', 'WON', 'WON', 'WON', 'WON', 'WON', 'WON', 'WON', 'WON', 'WON', 'WON', 'WON', 'WON', 'WON', 'WON', 'WON', 'WON', 'WON', 'WON', 'WON', 'WON', 'WON', 'WON', 'WON', 'WON', 'WON', 'WON', 'WON', 'WON', 'WON', 'WON', 'WON', 'WON', 'WON', 'WON', 'WON', 'WON', 'WON', 'WON', 'WON', 'WON', 'WON', 'LOST', 'WON', 'WON', 'WON', 'WON', 'WON', 'WON', 'WON', 'WON', 'WON', 'WON', 'WON', 'WON', 'WON', 'WON', 'WON', 'WON', 'WON', 'WON', 'WON', 'WON', 'WON', 'WON', 'WON', 'WON', 'WON', 'WON', 'WON', 'WON', 'WON', 'WON', 'WON', 'WON', 'WON', 'WON', 'WON', 'WON', 'WON', 'WON', 'WON', 'WON', 'WON', 'WON', 'WON', 'WON', 'WON', 'WON', 'WON', 'WON', 'WON', 'LOST', 'WON', 'WON', 'WON', 'WON', 'WON', 'WON', 'WON', 'WON', 'WON', 'WON', 'WON', 'WON', 'WON', 'WON', 'WON', 'WON', 'WON', 'LOST', 'WON', 'WON', 'WON', 'WON', 'WON', 'WON', 'WON', 'WON', 'WON', 'WON', 'WON', 'WON', 'WON', 'WON', 'WON', 'WON', 'WON', 'WON', 'WON', 'WON', 'WON', 'WON', 'WON', 'WON', 'WON', 'WON', 'WON', 'WON', 'WON', 'WON', 'WON', 'WON', 'WON', 'WON', 'WON', 'WON', 'WON', 'WON', 'WON', 'WON', 'WON', 'WON', 'WON', 'WON', 'WON', 'WON', 'WON', 'LOST', 'WON', 'WON', 'WON', 'WON', 'WON', 'WON', 'WON', 'WON', 'WON', 'WON', 'WON', 'WON', 'WON', 'WON', 'WON', 'WON', 'WON', 'WON', 'WON', 'WON', 'WON', 'WON', 'WON', 'WON', 'WON', 'WON', 'WON', 'WON', 'WON', 'WON', 'WON', 'WON', 'WON', 'WON', 'WON', 'WON', 'WON', 'LOST', 'WON', 'WON', 'WON', 'WON', 'WON', 'WON', 'WON', 'WON', 'WON', 'WON', 'WON', 'WON', 'WON', 'WON', 'WON', 'WON', 'WON', 'WON', 'WON', 'WON', 'LOST', 'WON', 'WON', 'WON', 'LOST', 'WON', 'WON', 'WON', 'WON', 'WON', 'WON', 'WON', 'WON', 'WON', 'WON', 'WON', 'WON', 'WON', 'WON', 'WON', 'WON', 'WON', 'WON', 'WON', 'LOST', 'WON', 'WON', 'LOST', 'WON', 'WON', 'WON', 'WON', 'WON', 'WON', 'WON', 'WON', 'WON', 'WON', 'WON', 'WON', 'WON', 'WON', 'WON', 'WON', 'WON', 'WON', 'WON', 'WON', 'WON', 'WON', 'WON', 'WON', 'WON', 'WON', 'WON', 'WON', 'WON', 'WON', 'WON', 'WON', 'WON', 'WON', 'WON', 'WON', 'WON', 'WON', 'WON', 'LOST', 'WON', 'WON', 'WON', 'WON', 'WON', 'WON', 'WON', 'WON', 'WON', 'WON', 'WON', 'WON', 'WON', 'WON', 'LOST', 'WON', 'WON', 'WON', 'WON', 'WON', 'WON', 'WON', 'WON', 'WON', 'WON', 'WON', 'WON', 'WON', 'WON', 'WON', 'WON', 'WON', 'WON', 'WON', 'WON', 'WON', 'WON', 'WON', 'WON', 'WON', 'WON', 'WON', 'WON', 'WON', 'WON', 'WON', 'WON', 'WON', 'WON', 'WON', 'WON', 'LOST', 'WON', 'WON', 'WON', 'WON', 'WON', 'WON', 'WON', 'WON', 'WON', 'WON', 'WON', 'WON', 'WON', 'WON', 'WON', 'WON', 'WON', 'WON', 'WON', 'WON', 'LOST', 'WON', 'WON', 'WON', 'WON', 'WON', 'WON', 'WON', 'WON', 'WON', 'WON', 'WON', 'WON', 'WON', 'WON', 'WON', 'WON', 'WON', 'WON', 'WON', 'WON', 'WON', 'WON', 'WON', 'WON', 'WON', 'WON', 'WON', 'WON', 'WON', 'WON', 'WON', 'WON', 'WON', 'WON', 'WON', 'WON', 'WON', 'LOST', 'WON', 'WON', 'WON', 'WON', 'WON', 'WON', 'WON', 'WON', 'WON', 'WON', 'WON', 'WON', 'WON', 'WON', 'WON', 'WON', 'WON', 'WON', 'WON', 'WON', 'WON', 'WON', 'WON', 'LOST', 'WON', 'WON', 'WON', 'WON', 'WON', 'WON', 'WON', 'WON', 'WON', 'WON', 'WON', 'WON', 'WON', 'WON', 'WON', 'WON', 'WON', 'WON', 'WON', 'WON', 'WON', 'WON', 'WON', 'WON', 'WON', 'WON', 'WON', 'WON', 'WON', 'WON', 'WON', 'WON', 'WON', 'WON', 'WON', 'WON', 'LOST', 'WON', 'WON', 'WON', 'WON', 'WON', 'WON', 'WON', 'WON', 'WON', 'WON', 'WON', 'WON', 'WON', 'WON', 'WON', 'WON', 'WON', 'WON', 'WON', 'WON', 'WON', 'WON', 'WON', 'WON', 'WON', 'WON', 'WON', 'WON', 'WON', 'WON', 'WON', 'WON', 'WON', 'WON', 'WON', 'WON', 'WON', 'WON', 'WON', 'WON', 'WON', 'WON', 'WON', 'WON', 'WON', 'WON', 'WON', 'WON', 'WON', 'WON', 'WON', 'WON', 'WON', 'WON', 'WON', 'WON', 'LOST', 'WON', 'WON', 'WON', 'WON', 'WON', 'WON', 'WON', 'WON', 'WON', 'WON', 'WON', 'LOST', 'WON', 'WON', 'WON', 'WON', 'LOST', 'WON', 'WON', 'WON', 'WON', 'LOST', 'WON', 'WON', 'WON', 'WON', 'WON', 'WON', 'WON', 'WON', 'WON', 'WON', 'WON', 'WON', 'WON', 'WON', 'WON', 'WON', 'WON', 'WON', 'WON', 'WON', 'WON', 'WON', 'WON', 'WON', 'WON', 'WON', 'WON', 'WON', 'WON', 'WON', 'WON', 'WON', 'WON', 'WON', 'WON', 'WON', 'WON', 'WON', 'WON', 'WON', 'WON', 'WON', 'WON', 'WON', 'WON', 'WON', 'WON', 'WON', 'WON', 'WON', 'WON', 'WON', 'WON', 'WON', 'WON', 'WON', 'WON', 'WON', 'WON', 'WON', 'WON', 'WON', 'WON', 'WON', 'LOST', 'WON', 'WON', 'WON', 'WON', 'WON', 'WON', 'WON', 'WON', 'WON', 'WON', 'WON', 'WON', 'WON', 'WON', 'WON', 'WON', 'WON', 'WON', 'WON', 'WON', 'WON', 'WON', 'WON', 'WON', 'WON', 'WON', 'WON', 'WON', 'WON', 'WON', 'WON', 'WON', 'WON', 'WON', 'WON', 'WON', 'WON', 'WON', 'WON', 'WON', 'WON', 'LOST', 'WON', 'WON', 'WON', 'WON', 'WON', 'WON', 'WON', 'WON', 'WON', 'WON', 'WON', 'WON', 'WON', 'WON', 'WON', 'WON', 'WON', 'WON', 'WON', 'WON', 'WON', 'WON', 'WON', 'LOST', 'WON', 'WON', 'WON', 'WON', 'WON', 'WON', 'WON', 'WON', 'WON', 'WON', 'WON', 'WON', 'WON', 'WON', 'WON', 'WON', 'WON', 'WON', 'WON', 'WON', 'WON', 'WON', 'WON', 'WON', 'WON', 'WON', 'WON', 'WON', 'WON', 'WON', 'WON', 'WON', 'WON', 'WON', 'WON', 'WON', 'WON', 'WON', 'WON', 'WON', 'WON', 'WON', 'WON', 'WON', 'WON', 'WON', 'WON', 'WON', 'WON', 'WON', 'WON', 'WON', 'WON', 'WON', 'WON', 'WON', 'WON', 'WON', 'WON', 'WON', 'WON', 'WON', 'WON', 'WON', 'WON', 'WON', 'WON', 'WON', 'WON', 'WON', 'WON', 'WON', 'WON', 'WON', 'WON', 'WON', 'WON', 'WON', 'WON', 'WON', 'WON', 'WON', 'WON', 'WON', 'WON', 'LOST', 'WON', 'WON', 'WON', 'WON', 'WON', 'WON', 'WON', 'WON', 'WON', 'WON', 'WON', 'WON', 'LOST', 'WON', 'WON', 'WON', 'WON', 'WON', 'WON', 'WON', 'WON', 'WON', 'WON', 'WON', 'WON', 'WON', 'WON', 'WON', 'WON', 'WON', 'WON', 'WON', 'WON', 'WON', 'WON', 'WON', 'WON', 'WON', 'WON', 'WON', 'WON', 'WON', 'WON', 'WON', 'WON', 'WON', 'WON', 'WON', 'WON', 'WON', 'WON', 'WON', 'WON', 'WON', 'WON', 'WON', 'WON', 'WON', 'LOST', 'WON', 'WON', 'WON', 'WON', 'WON', 'WON', 'WON', 'WON', 'WON', 'WON', 'WON', 'WON', 'WON', 'WON', 'WON', 'WON', 'WON', 'LOST', 'WON', 'WON', 'WON', 'WON', 'WON', 'WON', 'WON', 'WON', 'WON', 'WON', 'WON', 'WON', 'WON', 'WON', 'WON', 'WON', 'WON', 'WON', 'WON', 'WON', 'WON', 'WON', 'WON', 'WON', 'WON', 'WON', 'WON', 'WON', 'WON', 'WON', 'WON', 'WON', 'WON', 'WON', 'WON', 'WON', 'WON', 'WON', 'WON', 'WON', 'WON', 'WON', 'WON', 'WON', 'WON', 'WON', 'WON', 'WON', 'WON', 'WON', 'WON', 'WON', 'WON', 'WON', 'WON', 'WON', 'WON', 'WON', 'LOST', 'WON', 'WON', 'WON', 'WON', 'WON', 'WON', 'WON', 'WON', 'WON', 'WON', 'WON', 'WON', 'WON', 'WON', 'WON', 'WON', 'WON', 'WON', 'LOST', 'WON', 'WON', 'WON', 'WON', 'WON', 'WON', 'WON', 'WON', 'WON', 'WON', 'WON', 'WON', 'WON', 'WON', 'WON', 'WON', 'WON', 'WON', 'WON', 'WON', 'WON', 'WON', 'WON', 'WON', 'WON', 'WON', 'WON', 'WON', 'WON', 'WON', 'WON', 'WON', 'WON', 'WON', 'WON', 'WON', 'WON', 'WON', 'WON', 'WON', 'WON', 'WON', 'WON', 'WON', 'WON', 'WON', 'WON', 'WON', 'WON', 'WON', 'WON', 'WON', 'WON', 'WON', 'WON', 'LOST', 'WON', 'WON', 'WON', 'WON', 'WON', 'WON', 'WON', 'WON', 'WON', 'WON', 'WON', 'WON', 'WON', 'WON', 'WON', 'WON', 'WON', 'WON', 'WON', 'WON', 'WON', 'WON', 'WON', 'WON', 'WON', 'WON', 'WON', 'WON', 'WON', 'WON', 'WON', 'LOST', 'WON', 'WON', 'WON', 'WON', 'WON', 'WON', 'WON', 'WON', 'WON', 'WON', 'WON', 'WON', 'WON', 'WON', 'WON', 'WON', 'WON', 'WON', 'WON', 'WON', 'WON', 'WON', 'WON', 'WON', 'WON', 'WON', 'WON', 'WON', 'WON', 'WON', 'LOST', 'WON', 'WON', 'WON', 'WON', 'WON', 'WON', 'WON', 'WON', 'WON', 'WON', 'WON', 'WON', 'WON', 'WON', 'WON', 'WON', 'WON', 'WON', 'WON', 'WON', 'WON', 'WON', 'WON', 'WON', 'WON', 'WON', 'WON', 'WON', 'WON', 'WON', 'WON', 'WON', 'WON', 'WON', 'WON', 'WON', 'WON', 'WON', 'WON', 'WON', 'WON', 'WON', 'WON', 'WON', 'WON', 'WON', 'WON', 'WON', 'WON', 'WON', 'WON', 'WON', 'WON', 'WON', 'WON', 'WON', 'WON', 'WON', 'WON', 'WON', 'WON', 'WON', 'WON', 'WON', 'WON', 'WON', 'WON', 'WON', 'WON', 'WON', 'WON', 'WON', 'WON', 'WON', 'WON', 'WON', 'WON', 'WON', 'WON', 'WON', 'WON', 'WON', 'WON', 'LOST', 'WON', 'WON', 'WON', 'WON', 'LOST', 'WON', 'WON', 'LOST', 'WON', 'WON', 'WON', 'WON', 'WON', 'WON', 'WON', 'WON', 'WON', 'WON', 'WON', 'WON', 'WON', 'WON', 'WON', 'WON', 'WON', 'WON', 'WON', 'WON', 'WON', 'WON', 'WON', 'WON', 'WON', 'WON', 'WON', 'WON', 'WON', 'WON', 'WON', 'WON', 'WON', 'WON', 'WON', 'WON', 'WON', 'WON', 'WON', 'WON', 'WON', 'WON', 'WON', 'WON', 'WON', 'WON', 'WON', 'LOST', 'WON', 'WON', 'WON', 'WON', 'WON', 'WON', 'LOST', 'WON', 'WON', 'WON', 'WON', 'WON', 'WON', 'WON', 'WON', 'WON', 'WON', 'WON', 'WON', 'WON', 'WON', 'WON', 'WON', 'LOST', 'WON', 'WON', 'WON', 'WON', 'WON', 'WON', 'WON', 'WON', 'WON', 'WON', 'WON', 'LOST', 'WON', 'WON', 'WON', 'WON', 'WON', 'WON', 'WON', 'WON', 'WON', 'WON', 'WON', 'WON', 'WON', 'WON', 'WON', 'WON', 'WON', 'WON', 'WON', 'WON', 'WON', 'WON', 'WON', 'WON', 'WON', 'WON', 'WON', 'WON', 'WON', 'WON', 'WON', 'WON', 'WON', 'WON', 'WON', 'WON', 'WON', 'WON', 'WON', 'WON', 'WON', 'WON', 'WON', 'LOST', 'WON', 'WON', 'WON', 'WON', 'WON', 'WON', 'WON', 'WON', 'WON', 'WON', 'WON', 'WON', 'WON', 'WON', 'WON', 'WON', 'WON', 'WON', 'LOST', 'WON', 'WON', 'LOST', 'WON', 'WON', 'WON', 'WON', 'WON', 'WON', 'WON', 'WON', 'WON', 'WON', 'WON', 'WON', 'WON', 'WON', 'WON', 'WON', 'WON', 'WON', 'WON', 'WON', 'WON', 'WON', 'WON', 'WON', 'WON', 'WON', 'WON', 'WON', 'WON', 'WON', 'WON', 'WON', 'WON', 'WON', 'WON', 'WON', 'WON', 'WON', 'WON', 'WON', 'WON', 'WON', 'WON', 'WON', 'WON', 'WON', 'WON', 'WON', 'WON', 'WON', 'WON', 'WON', 'WON', 'WON', 'WON', 'WON', 'WON', 'WON', 'WON', 'WON', 'WON', 'WON', 'WON', 'WON', 'LOST', 'WON', 'WON', 'LOST', 'WON', 'WON', 'WON', 'WON', 'WON', 'WON', 'WON', 'WON', 'WON', 'WON', 'WON', 'WON', 'WON', 'WON', 'WON', 'WON', 'WON', 'WON', 'WON', 'WON', 'WON', 'WON', 'WON', 'WON', 'WON', 'WON', 'WON', 'WON', 'WON', 'WON', 'WON', 'WON', 'WON', 'WON', 'WON', 'WON', 'WON', 'WON', 'WON', 'WON', 'WON', 'WON', 'LOST', 'WON', 'WON', 'WON', 'WON', 'WON', 'WON', 'WON', 'WON', 'WON', 'WON', 'WON', 'WON', 'WON', 'WON', 'WON', 'WON', 'WON', 'WON', 'WON', 'WON', 'WON', 'WON', 'WON', 'WON', 'WON', 'WON', 'WON', 'WON', 'WON', 'WON', 'WON', 'WON', 'WON', 'WON', 'WON', 'WON', 'WON', 'WON', 'WON', 'WON', 'WON', 'WON', 'WON', 'WON', 'WON', 'WON', 'WON', 'WON', 'WON', 'WON', 'WON', 'WON', 'WON', 'WON', 'WON', 'WON', 'WON', 'WON', 'WON', 'WON', 'WON', 'WON', 'WON', 'WON', 'WON', 'WON', 'WON', 'WON', 'WON', 'WON', 'WON', 'WON', 'WON', 'WON', 'WON', 'WON', 'WON', 'WON', 'WON', 'WON', 'WON', 'WON', 'WON', 'WON', 'WON', 'WON', 'WON', 'WON', 'WON', 'WON', 'WON', 'WON', 'WON', 'WON', 'WON', 'WON', 'WON', 'WON', 'WON', 'WON', 'WON', 'WON', 'WON', 'WON', 'WON', 'WON', 'WON', 'WON', 'WON', 'WON', 'WON', 'WON', 'WON', 'WON', 'WON', 'WON', 'WON', 'WON', 'WON', 'WON', 'WON', 'WON', 'WON', 'WON', 'WON', 'WON', 'WON', 'WON', 'WON', 'WON', 'WON', 'WON', 'WON', 'WON', 'WON', 'WON', 'WON', 'WON', 'WON', 'WON', 'WON', 'WON', 'WON', 'WON', 'WON', 'WON', 'WON', 'WON', 'WON', 'WON', 'WON', 'WON', 'WON', 'WON', 'WON', 'WON', 'WON', 'WON', 'WON', 'WON', 'WON', 'WON', 'WON', 'WON', 'WON', 'WON', 'WON', 'WON', 'WON', 'WON', 'WON', 'WON', 'WON', 'WON', 'WON', 'WON', 'WON', 'WON', 'WON', 'WON', 'WON', 'WON', 'WON', 'LOST', 'WON', 'LOST', 'WON', 'WON', 'WON', 'WON', 'WON', 'WON', 'WON', 'WON', 'WON', 'WON', 'WON', 'WON', 'WON', 'WON', 'WON', 'WON', 'WON', 'WON', 'WON', 'WON', 'WON', 'WON', 'WON', 'WON', 'WON', 'WON', 'WON', 'WON', 'WON', 'WON', 'WON', 'WON', 'WON', 'LOST', 'WON', 'WON', 'WON', 'WON', 'WON', 'WON', 'WON', 'WON', 'WON', 'WON', 'WON', 'WON', 'WON', 'WON', 'WON', 'LOST', 'WON', 'WON', 'WON', 'WON', 'WON', 'WON', 'WON', 'WON', 'WON', 'WON', 'WON', 'WON', 'WON', 'WON', 'WON', 'WON', 'LOST', 'WON', 'WON', 'WON', 'WON', 'WON', 'WON', 'WON', 'WON', 'WON', 'WON', 'WON', 'WON', 'WON', 'WON', 'WON', 'WON', 'WON', 'WON', 'WON', 'WON', 'WON', 'WON', 'LOST', 'WON', 'WON', 'WON', 'WON', 'WON', 'WON', 'WON', 'WON', 'WON', 'WON', 'WON', 'WON', 'WON', 'WON', 'WON', 'WON', 'WON', 'WON', 'WON', 'WON', 'WON', 'WON', 'WON', 'WON', 'WON', 'WON', 'WON', 'WON', 'WON', 'WON', 'WON', 'WON', 'WON', 'WON', 'WON', 'WON', 'WON', 'WON', 'WON', 'LOST', 'WON', 'WON', 'WON', 'WON', 'WON', 'WON', 'WON', 'WON', 'WON', 'WON', 'WON', 'WON', 'WON', 'WON', 'WON', 'WON', 'WON', 'WON', 'WON', 'WON', 'WON', 'WON', 'WON', 'WON', 'WON', 'WON', 'WON', 'WON', 'WON', 'WON', 'WON', 'WON', 'WON', 'WON', 'WON', 'WON', 'WON', 'WON', 'WON', 'WON', 'WON', 'WON', 'WON', 'WON', 'WON', 'WON', 'WON', 'WON', 'WON', 'WON', 'WON', 'WON', 'WON', 'WON', 'WON', 'WON', 'WON', 'WON', 'WON', 'LOST', 'WON', 'WON', 'WON', 'WON', 'WON', 'WON', 'WON', 'WON', 'WON', 'WON', 'LOST', 'WON', 'WON', 'WON', 'WON', 'WON', 'WON', 'WON', 'WON', 'WON', 'WON', 'WON', 'WON', 'WON', 'WON', 'WON', 'WON', 'WON', 'WON', 'WON', 'WON', 'WON', 'WON', 'WON', 'WON', 'WON', 'WON', 'WON', 'WON', 'WON', 'WON', 'WON', 'WON', 'WON', 'WON', 'WON', 'WON', 'WON', 'LOST', 'WON', 'WON', 'WON', 'WON', 'WON', 'WON', 'WON', 'WON', 'WON', 'WON', 'WON', 'WON', 'WON', 'WON', 'WON', 'WON', 'WON', 'WON', 'WON', 'WON', 'WON', 'WON', 'WON', 'LOST', 'WON', 'WON', 'WON', 'WON', 'WON', 'WON', 'WON', 'WON', 'WON', 'WON', 'WON', 'WON', 'WON', 'WON', 'LOST', 'WON', 'WON', 'WON', 'WON', 'WON', 'WON', 'WON', 'WON', 'WON', 'WON', 'WON', 'WON', 'WON', 'WON', 'WON', 'WON', 'WON', 'WON', 'WON', 'WON', 'WON', 'WON', 'WON', 'WON', 'WON', 'WON', 'WON', 'WON', 'WON', 'WON', 'WON', 'WON', 'WON', 'WON', 'WON', 'WON', 'WON', 'WON', 'WON', 'LOST', 'WON', 'WON', 'WON', 'WON', 'WON', 'WON', 'WON', 'WON', 'WON', 'WON', 'WON', 'WON', 'WON', 'WON', 'WON', 'WON', 'WON', 'WON', 'WON', 'WON', 'WON', 'WON', 'WON', 'WON', 'WON', 'WON', 'WON', 'WON', 'WON', 'WON', 'WON', 'WON', 'WON', 'WON', 'WON', 'WON', 'WON', 'WON', 'WON', 'WON', 'WON', 'WON', 'WON', 'WON', 'WON', 'WON', 'WON', 'WON', 'WON', 'WON', 'LOST', 'WON', 'WON', 'WON', 'WON', 'WON', 'WON', 'WON', 'WON', 'WON', 'WON', 'WON', 'LOST', 'WON', 'WON', 'WON', 'WON', 'WON', 'WON', 'WON', 'LOST', 'WON', 'WON', 'WON', 'WON', 'WON', 'WON', 'WON', 'WON', 'WON', 'WON', 'WON', 'WON', 'WON', 'WON', 'WON', 'WON', 'WON', 'WON', 'WON', 'WON', 'WON', 'WON', 'WON', 'WON', 'WON', 'WON', 'WON', 'WON', 'WON', 'WON', 'WON', 'WON', 'WON', 'WON', 'WON', 'WON', 'WON', 'WON', 'WON', 'WON', 'WON', 'WON', 'WON', 'WON', 'WON', 'WON', 'WON', 'WON', 'WON', 'WON', 'WON', 'WON', 'WON', 'WON', 'WON', 'WON', 'WON', 'WON', 'WON', 'WON', 'WON', 'WON', 'WON', 'WON', 'WON', 'WON', 'LOST', 'WON', 'WON', 'WON', 'WON', 'WON', 'WON', 'WON', 'WON', 'WON', 'WON', 'WON', 'WON', 'WON', 'WON', 'WON', 'WON', 'WON', 'WON', 'WON', 'WON', 'WON', 'WON', 'WON', 'WON', 'WON', 'WON', 'WON', 'WON', 'WON', 'WON', 'WON', 'WON', 'WON', 'WON', 'WON', 'WON', 'WON', 'WON', 'WON', 'WON', 'WON', 'WON', 'WON', 'WON', 'WON', 'WON', 'WON', 'WON', 'WON', 'WON', 'WON', 'WON', 'WON', 'WON', 'WON', 'WON', 'WON', 'WON', 'WON', 'WON', 'WON', 'WON', 'WON', 'WON', 'WON', 'WON', 'WON', 'WON', 'WON', 'WON', 'WON', 'WON', 'WON', 'WON', 'WON', 'WON', 'WON', 'WON', 'WON', 'WON', 'WON', 'WON', 'WON', 'WON', 'WON', 'WON', 'WON', 'LOST', 'WON', 'WON', 'WON', 'WON', 'WON', 'WON', 'WON', 'WON', 'WON', 'WON', 'WON', 'WON', 'WON', 'WON', 'WON', 'WON', 'WON', 'WON', 'WON', 'WON', 'WON', 'WON', 'WON', 'WON', 'WON', 'WON', 'WON', 'WON', 'WON', 'WON', 'WON', 'WON', 'LOST', 'WON', 'WON', 'WON', 'WON', 'WON', 'WON', 'WON', 'LOST', 'WON', 'WON', 'WON', 'WON', 'WON', 'WON', 'WON', 'WON', 'WON', 'WON', 'WON', 'WON', 'WON', 'WON', 'WON', 'WON', 'WON', 'WON', 'WON', 'WON', 'WON', 'LOST', 'WON', 'WON', 'WON', 'WON', 'WON', 'WON', 'WON', 'WON', 'WON', 'WON', 'WON', 'WON', 'WON', 'WON', 'WON', 'WON', 'WON', 'WON', 'WON', 'WON', 'WON', 'WON', 'WON', 'WON', 'WON', 'WON', 'WON', 'WON', 'WON', 'WON', 'WON', 'WON', 'WON', 'WON', 'WON', 'WON', 'WON', 'WON', 'WON', 'WON', 'WON', 'WON', 'WON', 'WON', 'WON', 'WON', 'WON', 'WON', 'WON', 'WON', 'WON', 'WON', 'WON', 'WON', 'WON', 'WON', 'WON', 'WON', 'WON', 'WON', 'WON', 'WON', 'WON', 'WON', 'WON', 'WON', 'WON', 'WON', 'WON', 'WON', 'WON', 'WON', 'WON', 'WON', 'WON', 'WON', 'WON', 'WON', 'WON', 'WON', 'WON', 'WON', 'WON', 'WON', 'WON', 'WON', 'WON', 'WON', 'WON', 'WON', 'WON', 'WON', 'WON', 'WON', 'WON', 'WON', 'WON', 'WON', 'WON', 'WON', 'WON', 'WON', 'WON', 'WON', 'WON', 'WON', 'WON', 'WON', 'WON', 'WON', 'WON', 'WON', 'WON', 'WON', 'WON', 'WON', 'WON', 'WON', 'WON', 'WON', 'WON', 'WON', 'WON', 'WON', 'WON', 'WON', 'WON', 'WON', 'WON', 'WON', 'LOST', 'WON', 'LOST', 'WON', 'WON', 'WON', 'WON', 'WON', 'WON', 'WON', 'WON', 'WON', 'WON', 'WON', 'WON', 'WON', 'WON', 'WON', 'WON', 'WON', 'WON', 'WON', 'WON', 'WON', 'WON', 'WON', 'WON', 'WON', 'WON', 'WON', 'WON', 'WON', 'WON', 'WON', 'WON', 'LOST', 'WON', 'WON', 'WON', 'WON', 'WON', 'WON', 'WON', 'WON', 'WON', 'WON', 'WON', 'WON', 'WON', 'WON', 'WON', 'WON', 'WON', 'WON', 'WON', 'WON', 'WON', 'WON', 'WON', 'WON', 'WON', 'WON', 'WON', 'WON', 'WON', 'WON', 'WON', 'WON', 'WON', 'WON', 'WON', 'WON', 'WON', 'WON', 'WON', 'WON', 'WON', 'WON', 'WON', 'WON', 'LOST', 'WON', 'LOST', 'WON', 'WON', 'WON', 'WON', 'WON', 'WON', 'WON', 'WON', 'WON', 'WON', 'WON', 'WON', 'WON', 'WON', 'WON', 'WON', 'WON', 'WON', 'WON', 'WON', 'WON', 'WON', 'WON', 'WON', 'WON', 'WON', 'WON', 'WON', 'WON', 'WON', 'WON', 'WON', 'WON', 'WON', 'WON', 'WON', 'WON', 'WON', 'WON', 'WON', 'WON', 'WON', 'WON', 'WON', 'WON', 'WON', 'WON', 'WON', 'WON', 'WON', 'WON', 'WON', 'WON', 'WON', 'WON', 'WON', 'WON', 'WON', 'WON', 'WON', 'WON', 'LOST', 'WON', 'WON', 'WON', 'WON', 'WON', 'WON', 'WON', 'WON', 'WON', 'WON', 'WON', 'WON', 'WON', 'WON', 'WON', 'WON', 'WON', 'WON', 'WON', 'WON', 'LOST', 'WON', 'WON', 'WON', 'WON', 'WON', 'WON', 'WON', 'WON', 'WON', 'WON', 'WON', 'WON', 'WON', 'WON', 'WON', 'WON', 'WON', 'WON', 'WON', 'WON', 'WON', 'WON', 'WON', 'WON', 'WON', 'WON', 'WON', 'WON', 'WON', 'WON', 'WON', 'WON', 'WON', 'WON', 'WON', 'WON', 'WON', 'WON', 'WON', 'WON', 'WON', 'WON', 'WON', 'WON', 'WON', 'WON', 'WON', 'WON', 'WON', 'WON', 'WON', 'WON', 'WON', 'WON', 'WON', 'WON', 'WON', 'WON', 'WON', 'WON', 'WON', 'WON', 'WON', 'WON', 'WON', 'WON', 'LOST', 'WON', 'WON', 'LOST', 'WON', 'WON', 'WON', 'WON', 'WON', 'WON', 'WON', 'WON', 'WON', 'WON', 'WON', 'WON', 'WON', 'WON', 'WON', 'WON', 'WON', 'WON', 'WON', 'WON', 'WON', 'WON', 'WON', 'WON', 'WON', 'WON', 'WON', 'WON', 'WON', 'WON', 'WON', 'WON', 'WON', 'WON', 'WON', 'LOST', 'WON', 'WON', 'WON', 'WON', 'WON', 'WON', 'WON', 'WON', 'WON', 'WON', 'WON', 'WON', 'WON', 'WON', 'WON', 'WON', 'WON', 'WON', 'WON', 'WON', 'WON', 'WON', 'WON', 'WON', 'WON', 'WON', 'WON', 'WON', 'WON', 'WON', 'WON', 'WON', 'WON', 'WON', 'WON', 'WON', 'WON', 'WON', 'WON', 'WON', 'WON', 'LOST', 'WON', 'WON', 'WON', 'WON', 'WON', 'WON', 'WON', 'WON', 'WON', 'WON', 'WON', 'WON', 'WON', 'WON', 'WON', 'WON', 'WON', 'WON', 'WON', 'WON', 'WON', 'WON', 'WON', 'WON', 'WON', 'WON', 'WON', 'WON', 'WON', 'WON', 'WON', 'WON', 'WON', 'WON', 'LOST', 'WON', 'WON', 'WON', 'WON', 'WON', 'WON', 'WON', 'WON', 'WON', 'WON', 'WON', 'WON', 'WON', 'WON', 'WON', 'WON', 'WON', 'WON', 'WON', 'WON', 'WON', 'WON', 'WON', 'WON', 'LOST', 'WON', 'WON', 'WON', 'WON', 'WON', 'WON', 'WON', 'WON', 'WON', 'WON', 'WON', 'WON', 'WON', 'WON', 'WON', 'WON', 'WON', 'WON', 'WON', 'WON', 'WON', 'WON', 'WON', 'WON', 'WON', 'WON', 'WON', 'WON', 'WON', 'WON', 'WON', 'WON', 'WON', 'WON', 'WON', 'WON', 'LOST', 'WON', 'WON', 'WON', 'WON', 'WON', 'WON', 'WON', 'WON', 'WON', 'WON', 'WON', 'WON', 'WON', 'WON', 'WON', 'WON', 'WON', 'LOST', 'WON', 'WON', 'WON', 'WON', 'WON', 'WON', 'WON', 'WON', 'WON', 'WON', 'WON', 'WON', 'WON', 'WON', 'WON', 'LOST', 'WON', 'WON', 'WON', 'WON', 'WON', 'WON', 'WON', 'WON', 'WON', 'WON', 'WON', 'WON', 'WON', 'WON', 'WON', 'WON', 'WON', 'WON', 'WON', 'WON', 'WON', 'WON', 'WON', 'WON', 'WON', 'WON', 'WON', 'WON', 'WON', 'WON', 'WON', 'WON', 'WON', 'WON', 'WON', 'WON', 'WON', 'WON', 'WON', 'WON', 'WON', 'WON', 'WON', 'WON', 'WON', 'WON', 'WON', 'WON', 'LOST', 'WON', 'WON', 'WON', 'WON', 'WON', 'WON', 'WON', 'WON', 'WON', 'WON', 'WON', 'WON', 'WON', 'WON', 'WON', 'WON', 'WON', 'WON', 'WON', 'WON', 'WON', 'WON', 'WON', 'WON', 'WON', 'WON', 'WON', 'WON', 'WON', 'LOST', 'WON', 'WON', 'WON', 'WON', 'WON', 'WON', 'WON', 'WON', 'WON', 'LOST', 'WON', 'WON', 'WON', 'WON', 'WON', 'WON', 'LOST', 'WON', 'WON', 'WON', 'WON', 'WON', 'WON', 'WON', 'WON', 'WON', 'WON', 'WON', 'WON', 'WON', 'WON', 'WON', 'LOST', 'WON', 'WON', 'WON', 'WON', 'WON', 'WON', 'WON', 'WON', 'WON', 'WON', 'WON', 'WON', 'WON', 'WON', 'WON', 'WON', 'WON', 'WON', 'LOST', 'WON', 'WON', 'WON', 'WON', 'WON', 'WON', 'WON', 'WON', 'WON', 'WON', 'WON', 'WON', 'WON', 'WON', 'WON', 'WON', 'WON', 'WON', 'WON', 'WON', 'WON', 'WON', 'WON', 'WON', 'WON', 'WON', 'WON', 'WON', 'WON', 'WON', 'WON', 'WON', 'WON', 'WON', 'WON', 'WON', 'WON', 'WON', 'WON', 'WON', 'WON', 'WON', 'WON', 'WON', 'WON', 'WON', 'WON', 'WON', 'WON', 'WON', 'LOST', 'WON', 'WON', 'WON', 'WON', 'WON', 'WON', 'WON', 'WON', 'WON', 'WON', 'WON', 'WON', 'WON', 'WON', 'WON', 'WON', 'WON', 'WON', 'WON', 'WON', 'WON', 'WON', 'WON', 'WON', 'WON', 'WON', 'WON', 'WON', 'WON', 'WON', 'WON', 'WON', 'WON', 'WON', 'WON', 'WON', 'WON', 'WON', 'WON', 'WON', 'WON', 'WON', 'WON', 'WON', 'WON', 'WON', 'WON', 'WON', 'WON', 'WON', 'WON', 'WON', 'WON', 'WON', 'WON', 'WON', 'WON', 'WON', 'WON', 'WON', 'WON', 'WON', 'WON', 'WON', 'WON', 'WON', 'WON', 'WON', 'WON', 'WON', 'WON', 'WON', 'WON', 'WON', 'WON', 'WON', 'WON', 'WON', 'WON', 'WON', 'WON', 'WON', 'WON', 'WON', 'WON', 'WON', 'WON', 'WON', 'WON', 'WON', 'WON', 'WON', 'WON', 'WON', 'WON', 'WON', 'WON', 'LOST', 'WON', 'WON', 'WON', 'WON', 'WON', 'WON', 'WON', 'WON', 'WON', 'WON', 'WON', 'WON', 'LOST', 'WON', 'WON', 'WON', 'WON', 'WON', 'WON', 'WON', 'WON', 'WON', 'WON', 'WON', 'WON', 'WON', 'WON', 'WON', 'WON', 'WON', 'WON', 'WON', 'WON', 'WON', 'WON', 'WON', 'WON', 'WON', 'WON', 'WON', 'WON', 'WON', 'WON', 'WON', 'WON', 'WON', 'WON', 'WON', 'WON', 'WON', 'WON', 'WON', 'LOST', 'WON', 'WON', 'WON', 'WON', 'WON', 'WON', 'WON', 'WON', 'WON', 'WON', 'WON', 'WON', 'WON', 'WON', 'LOST', 'WON', 'WON', 'WON', 'WON', 'WON', 'WON', 'WON', 'WON', 'WON', 'WON', 'WON', 'WON', 'WON', 'WON', 'WON', 'WON', 'WON', 'WON', 'WON', 'WON', 'WON', 'WON', 'WON', 'WON', 'WON', 'WON', 'WON', 'WON', 'WON', 'WON', 'LOST', 'WON', 'WON', 'WON', 'WON', 'WON', 'WON', 'WON', 'WON', 'WON', 'WON', 'WON', 'WON', 'WON', 'LOST', 'WON', 'WON', 'WON', 'WON', 'WON', 'WON', 'WON', 'WON', 'WON', 'WON', 'WON', 'WON', 'WON', 'WON', 'WON', 'WON', 'LOST', 'WON', 'WON', 'LOST', 'WON', 'WON', 'WON', 'WON', 'WON', 'WON', 'WON', 'WON', 'WON', 'WON', 'LOST', 'WON', 'WON', 'WON', 'WON', 'WON', 'WON', 'WON', 'WON', 'WON', 'WON', 'WON', 'WON', 'WON', 'WON', 'WON', 'WON', 'WON', 'WON', 'WON', 'WON', 'WON', 'WON', 'WON', 'WON', 'WON', 'WON', 'WON', 'WON', 'WON', 'WON', 'WON', 'WON', 'WON', 'WON', 'WON', 'WON', 'WON', 'WON', 'WON', 'WON', 'WON', 'WON', 'WON', 'WON', 'WON', 'WON', 'WON', 'WON', 'WON', 'WON', 'WON', 'WON', 'WON', 'WON', 'WON', 'WON', 'WON', 'LOST', 'WON', 'WON', 'WON', 'WON', 'WON', 'WON', 'WON', 'WON', 'WON', 'WON', 'WON', 'WON', 'LOST', 'WON', 'WON', 'WON', 'WON', 'WON', 'WON', 'WON', 'WON', 'WON', 'WON', 'WON', 'WON', 'WON', 'WON', 'WON', 'WON', 'WON', 'WON', 'WON', 'WON', 'WON', 'WON', 'LOST', 'WON', 'WON', 'WON', 'WON', 'WON', 'WON', 'WON', 'WON', 'WON', 'WON', 'WON', 'WON', 'WON', 'WON', 'WON', 'WON', 'WON', 'WON', 'WON', 'WON', 'WON', 'WON', 'WON', 'WON', 'WON', 'WON', 'WON', 'WON', 'WON', 'WON', 'WON', 'WON', 'WON', 'WON', 'WON', 'WON', 'WON', 'WON', 'WON', 'WON', 'WON', 'LOST', 'WON', 'WON', 'WON', 'WON', 'WON', 'WON', 'WON', 'WON', 'WON', 'WON', 'WON', 'WON', 'WON', 'WON', 'WON', 'WON', 'WON', 'WON', 'WON', 'WON', 'WON', 'WON', 'WON', 'WON', 'WON', 'WON', 'WON', 'WON', 'WON', 'WON', 'WON', 'WON', 'WON', 'WON', 'WON', 'WON', 'WON', 'WON', 'WON', 'WON', 'WON', 'WON', 'WON', 'WON', 'WON', 'WON', 'WON', 'LOST', 'WON', 'LOST', 'WON', 'WON', 'WON', 'WON', 'WON', 'WON', 'WON', 'WON', 'WON', 'WON', 'WON', 'WON', 'WON', 'WON', 'WON', 'WON', 'WON', 'WON', 'WON', 'WON', 'WON', 'WON', 'WON', 'WON', 'WON', 'WON', 'WON', 'WON', 'WON', 'WON', 'WON', 'WON', 'WON', 'WON', 'WON', 'WON', 'WON', 'WON', 'WON', 'WON', 'WON', 'WON', 'WON', 'WON', 'WON', 'WON', 'WON', 'WON', 'WON', 'WON', 'WON', 'WON', 'WON', 'WON', 'WON', 'WON', 'WON', 'WON', 'WON', 'WON', 'WON', 'WON', 'WON', 'WON', 'WON', 'WON', 'WON', 'WON', 'WON', 'WON', 'WON', 'WON', 'WON', 'WON', 'WON', 'WON', 'WON', 'WON', 'WON', 'WON', 'WON', 'WON', 'WON', 'WON', 'WON', 'WON', 'WON', 'WON', 'WON', 'WON', 'WON', 'WON', 'WON', 'WON', 'WON', 'WON', 'WON', 'WON', 'WON', 'WON', 'WON', 'WON', 'WON', 'WON', 'WON', 'WON', 'WON', 'WON', 'LOST', 'LOST', 'WON', 'WON', 'WON', 'WON', 'WON', 'LOST', 'WON', 'WON', 'WON', 'WON', 'WON', 'WON', 'WON', 'WON', 'WON', 'WON', 'WON', 'WON', 'WON', 'WON', 'WON', 'WON', 'WON', 'WON', 'WON', 'WON', 'WON', 'WON', 'WON', 'WON', 'WON', 'WON', 'WON', 'WON', 'WON', 'WON', 'WON', 'WON', 'WON', 'WON', 'LOST', 'WON', 'WON', 'WON', 'WON', 'WON', 'WON', 'WON', 'WON', 'WON', 'WON', 'WON', 'WON', 'WON', 'WON', 'WON', 'WON', 'LOST', 'WON', 'WON', 'WON', 'WON', 'WON', 'WON', 'WON', 'WON', 'WON', 'WON', 'WON', 'WON', 'WON', 'WON', 'WON', 'WON', 'WON', 'WON', 'WON', 'WON', 'WON', 'WON', 'WON', 'WON', 'WON', 'WON', 'WON', 'WON', 'WON', 'WON', 'WON', 'WON', 'WON', 'WON', 'WON', 'WON', 'WON', 'WON', 'WON', 'WON', 'WON', 'WON', 'WON', 'WON', 'WON', 'WON', 'WON', 'WON', 'WON', 'WON', 'WON', 'WON', 'WON', 'WON', 'WON', 'WON', 'WON', 'WON', 'WON', 'WON', 'WON', 'WON', 'WON', 'WON', 'WON', 'WON', 'WON', 'WON', 'WON', 'WON', 'WON', 'WON', 'WON', 'WON', 'LOST', 'WON', 'WON', 'WON', 'WON', 'WON', 'WON', 'WON', 'WON', 'WON', 'WON', 'WON', 'WON', 'WON', 'WON', 'WON', 'WON', 'WON', 'WON', 'LOST', 'WON', 'WON', 'WON', 'WON', 'WON', 'WON', 'WON', 'WON', 'WON', 'WON', 'WON', 'WON', 'WON', 'WON', 'WON', 'WON', 'WON', 'WON', 'WON', 'WON', 'WON', 'WON', 'LOST', 'WON', 'WON', 'WON', 'WON', 'WON', 'WON', 'WON', 'WON', 'WON', 'WON', 'WON', 'WON', 'WON', 'WON', 'WON', 'WON', 'WON', 'WON', 'WON', 'WON', 'WON', 'WON', 'WON', 'WON', 'WON', 'WON', 'WON', 'WON', 'WON', 'WON', 'WON', 'WON', 'WON', 'WON', 'WON', 'WON', 'WON', 'WON', 'WON', 'WON', 'WON', 'WON', 'WON', 'WON', 'WON', 'WON', 'LOST', 'WON', 'WON', 'WON', 'WON', 'WON', 'WON', 'WON', 'WON', 'WON', 'WON', 'WON', 'WON', 'WON', 'WON', 'WON', 'WON', 'WON', 'WON', 'WON', 'LOST', 'WON', 'WON', 'WON', 'WON', 'WON', 'WON', 'WON', 'WON', 'WON', 'WON', 'WON', 'WON', 'WON', 'WON', 'LOST', 'WON', 'WON', 'WON', 'WON', 'WON', 'WON', 'WON', 'WON', 'WON', 'WON', 'WON', 'LOST', 'WON', 'WON', 'WON', 'WON', 'WON', 'WON', 'LOST', 'WON', 'WON', 'WON', 'WON', 'WON', 'WON', 'WON', 'WON', 'WON', 'WON', 'WON', 'LOST', 'WON', 'WON', 'WON', 'LOST', 'WON', 'WON', 'WON', 'WON', 'WON', 'WON', 'WON', 'WON', 'WON', 'WON', 'WON', 'LOST', 'WON', 'WON', 'WON', 'WON', 'WON', 'WON', 'WON', 'WON', 'WON', 'WON', 'WON', 'WON', 'WON', 'WON', 'WON', 'WON', 'WON', 'WON', 'WON', 'WON', 'WON', 'WON', 'WON', 'WON', 'WON', 'WON', 'WON', 'LOST', 'WON', 'WON', 'WON', 'WON', 'LOST', 'WON', 'WON', 'WON', 'WON', 'WON', 'WON', 'WON', 'WON', 'WON', 'WON', 'WON', 'WON', 'WON', 'WON', 'WON', 'WON', 'WON', 'WON', 'WON', 'WON', 'WON', 'WON', 'WON', 'WON', 'WON', 'WON', 'WON', 'WON', 'WON', 'WON', 'WON', 'WON', 'WON', 'WON', 'WON', 'WON', 'WON', 'WON', 'WON', 'WON', 'LOST', 'WON', 'WON', 'WON', 'WON', 'WON', 'LOST', 'WON', 'WON', 'WON', 'WON', 'WON', 'WON', 'WON', 'WON', 'WON', 'WON', 'WON', 'WON', 'WON', 'WON', 'WON', 'WON', 'WON', 'WON', 'WON', 'WON', 'WON', 'WON', 'WON', 'WON', 'WON', 'WON', 'WON', 'WON', 'WON', 'WON', 'WON', 'WON', 'WON', 'WON', 'WON', 'WON', 'WON', 'WON', 'WON', 'WON', 'WON', 'WON', 'WON', 'WON', 'WON', 'WON', 'WON', 'WON', 'WON', 'WON', 'WON', 'WON', 'WON', 'WON', 'WON', 'WON', 'WON', 'WON', 'WON', 'WON', 'WON', 'WON', 'WON', 'WON', 'WON', 'WON', 'WON', 'WON', 'WON', 'WON', 'WON', 'WON', 'WON', 'WON', 'WON', 'WON', 'WON', 'WON', 'WON', 'WON', 'WON', 'WON', 'LOST', 'WON', 'WON', 'WON', 'WON', 'WON', 'WON', 'WON', 'WON', 'WON', 'WON', 'WON', 'WON', 'WON', 'WON', 'WON', 'WON', 'WON', 'WON', 'WON', 'WON', 'WON', 'WON', 'WON', 'WON', 'WON', 'WON', 'WON', 'WON', 'WON', 'WON', 'WON', 'WON', 'WON', 'WON', 'WON', 'WON', 'WON', 'WON', 'WON', 'WON', 'WON', 'WON', 'WON', 'WON', 'WON', 'WON', 'WON', 'WON', 'WON', 'WON', 'WON', 'WON', 'WON', 'WON', 'WON', 'WON', 'WON', 'LOST', 'WON', 'WON', 'WON', 'WON', 'WON', 'WON', 'WON', 'WON', 'WON', 'WON', 'WON', 'WON', 'WON', 'WON', 'WON', 'WON', 'WON', 'WON', 'WON', 'LOST', 'WON', 'WON', 'WON', 'WON', 'WON', 'WON', 'WON', 'WON', 'WON', 'LOST', 'WON', 'WON', 'WON', 'WON', 'WON', 'WON', 'WON', 'WON', 'WON', 'LOST', 'WON', 'WON', 'WON', 'LOST', 'WON', 'WON', 'WON', 'WON', 'WON', 'WON', 'WON', 'WON', 'WON', 'WON', 'WON', 'WON', 'WON', 'WON', 'WON', 'WON', 'WON', 'WON', 'WON', 'WON', 'WON', 'WON', 'WON', 'WON', 'WON', 'WON', 'WON', 'WON', 'WON', 'WON', 'WON', 'WON', 'WON', 'WON', 'WON', 'WON', 'WON', 'WON', 'WON', 'WON', 'WON', 'WON', 'WON', 'WON', 'LOST', 'WON', 'WON', 'WON', 'WON', 'WON', 'WON', 'WON', 'WON', 'WON', 'WON', 'WON', 'WON', 'WON', 'WON', 'WON', 'WON', 'WON', 'WON', 'WON', 'WON', 'WON', 'WON', 'WON', 'LOST', 'WON', 'WON', 'WON', 'WON', 'WON', 'LOST', 'WON', 'WON', 'WON', 'WON', 'WON', 'WON', 'WON', 'WON', 'WON', 'WON', 'WON', 'WON', 'WON', 'WON', 'WON', 'WON', 'WON', 'WON', 'WON', 'WON', 'WON', 'WON', 'WON', 'WON', 'WON', 'WON', 'WON', 'WON', 'WON', 'WON', 'WON', 'WON', 'WON', 'WON', 'WON', 'LOST', 'LOST', 'WON', 'WON', 'WON', 'WON', 'WON', 'WON', 'LOST', 'WON', 'WON', 'WON', 'WON', 'WON', 'WON', 'WON', 'WON', 'LOST', 'WON', 'WON', 'WON', 'WON', 'WON', 'WON', 'WON', 'WON', 'WON', 'WON', 'WON', 'WON', 'WON', 'WON', 'LOST', 'WON', 'WON', 'WON', 'WON', 'WON', 'WON', 'WON', 'WON', 'WON', 'WON', 'WON', 'WON', 'WON', 'WON', 'WON', 'WON', 'WON', 'WON', 'WON', 'WON', 'WON', 'WON', 'WON', 'WON', 'WON', 'WON', 'WON', 'WON', 'WON', 'WON', 'WON', 'WON', 'WON', 'WON', 'LOST', 'WON', 'WON', 'WON', 'WON', 'WON', 'WON', 'WON', 'WON', 'WON', 'WON', 'WON', 'WON', 'LOST', 'WON', 'WON', 'WON', 'LOST', 'LOST', 'WON', 'LOST', 'WON', 'WON', 'WON', 'WON', 'WON', 'WON', 'WON', 'WON', 'WON', 'WON', 'WON', 'WON', 'WON', 'WON', 'WON', 'WON', 'WON', 'WON', 'WON', 'WON', 'WON', 'WON', 'WON', 'WON', 'WON', 'WON', 'WON', 'WON', 'WON', 'WON', 'WON', 'WON', 'WON', 'WON', 'WON', 'WON', 'WON', 'WON', 'WON', 'WON', 'WON', 'WON', 'WON', 'WON', 'WON', 'WON', 'WON', 'WON', 'WON', 'WON', 'WON', 'WON', 'WON', 'WON', 'WON', 'WON', 'WON', 'WON', 'WON', 'WON', 'WON', 'WON', 'WON', 'WON', 'WON', 'WON', 'WON', 'WON', 'WON', 'WON', 'WON', 'WON', 'WON', 'WON', 'WON', 'WON', 'LOST', 'WON', 'WON', 'WON', 'WON', 'WON', 'WON', 'WON', 'WON', 'WON', 'WON', 'WON', 'LOST', 'WON', 'WON', 'WON', 'WON', 'WON', 'WON', 'WON', 'WON', 'WON', 'WON', 'WON', 'WON', 'LOST', 'WON', 'WON', 'WON', 'WON', 'WON', 'WON', 'WON', 'WON', 'WON', 'WON', 'WON', 'WON', 'WON', 'WON', 'WON', 'WON', 'WON', 'WON', 'WON', 'LOST', 'WON', 'WON', 'WON', 'WON', 'WON', 'WON', 'WON', 'WON', 'WON', 'WON', 'WON', 'WON', 'WON', 'WON', 'WON', 'WON', 'WON', 'WON', 'WON', 'WON', 'WON', 'WON', 'WON', 'WON', 'WON', 'WON', 'LOST', 'WON', 'WON', 'WON', 'WON', 'WON', 'WON', 'WON', 'WON', 'WON', 'WON', 'LOST', 'WON', 'WON', 'WON', 'WON', 'WON', 'WON', 'WON', 'WON', 'WON', 'WON', 'WON', 'WON', 'WON', 'WON', 'WON', 'WON', 'WON', 'WON', 'WON', 'WON', 'LOST', 'WON', 'WON', 'WON', 'WON', 'WON', 'WON', 'WON', 'WON', 'WON', 'WON', 'WON', 'WON', 'WON', 'WON', 'WON', 'WON', 'WON', 'WON', 'WON', 'WON', 'WON', 'WON', 'WON', 'WON', 'WON', 'WON', 'WON', 'WON', 'WON', 'WON', 'WON', 'WON', 'WON', 'WON', 'WON', 'WON', 'WON', 'WON', 'WON', 'WON', 'WON', 'WON', 'WON', 'WON', 'WON', 'WON', 'WON', 'WON', 'WON', 'WON', 'WON', 'WON', 'WON', 'WON', 'WON', 'WON', 'WON', 'WON', 'WON', 'WON', 'WON', 'WON', 'WON', 'WON', 'WON', 'WON', 'WON', 'WON', 'WON', 'WON', 'WON', 'WON', 'WON', 'WON', 'WON', 'WON', 'WON', 'WON', 'WON', 'LOST', 'WON', 'LOST', 'WON', 'WON', 'LOST', 'WON', 'WON', 'WON', 'WON', 'WON', 'WON', 'WON', 'WON', 'WON', 'WON', 'WON', 'WON', 'WON', 'WON', 'WON', 'WON', 'WON', 'WON', 'WON', 'WON', 'WON', 'WON', 'WON', 'WON', 'WON', 'WON', 'WON', 'WON', 'WON', 'WON', 'WON', 'WON', 'WON', 'WON', 'WON', 'WON', 'WON', 'WON', 'WON', 'WON', 'WON', 'WON', 'WON', 'LOST', 'WON', 'WON', 'WON', 'WON', 'WON', 'WON', 'WON', 'WON', 'WON', 'WON', 'WON', 'WON', 'WON', 'WON', 'WON', 'WON', 'WON', 'WON', 'WON', 'WON', 'WON', 'WON', 'WON', 'WON', 'WON', 'WON', 'WON', 'WON', 'WON', 'WON', 'WON', 'WON', 'WON', 'WON', 'WON', 'WON', 'WON', 'WON', 'WON', 'WON', 'WON', 'WON', 'WON', 'WON', 'WON', 'WON', 'WON', 'WON', 'WON', 'WON', 'WON', 'WON', 'WON', 'WON', 'WON', 'WON', 'WON', 'LOST', 'WON', 'WON', 'WON', 'WON', 'WON', 'WON', 'WON', 'WON', 'WON', 'WON', 'WON', 'WON', 'WON', 'WON', 'LOST', 'WON', 'WON', 'WON', 'WON', 'WON', 'WON', 'WON', 'WON', 'WON', 'WON', 'WON', 'WON', 'WON', 'WON', 'WON', 'WON', 'WON', 'WON', 'WON', 'WON', 'WON', 'WON', 'WON', 'WON', 'WON', 'LOST', 'WON', 'LOST', 'WON', 'WON', 'WON', 'WON', 'WON', 'WON', 'WON', 'WON', 'WON', 'WON', 'WON', 'WON', 'WON', 'WON', 'WON', 'WON', 'WON', 'WON', 'WON', 'WON', 'WON', 'WON', 'WON', 'WON', 'WON', 'WON', 'WON', 'WON', 'WON', 'WON', 'WON', 'WON', 'WON', 'WON', 'WON', 'WON', 'WON', 'WON', 'WON', 'WON', 'WON', 'WON', 'WON', 'WON', 'WON', 'WON', 'WON', 'WON', 'WON', 'WON', 'WON', 'WON', 'WON', 'WON', 'WON', 'WON', 'WON', 'WON', 'WON', 'WON', 'WON', 'WON', 'WON', 'WON', 'WON', 'WON', 'WON', 'WON', 'WON', 'WON', 'WON', 'WON', 'WON', 'WON', 'WON', 'WON', 'WON', 'WON', 'WON', 'WON', 'WON', 'LOST', 'WON', 'WON', 'WON', 'WON', 'WON', 'WON', 'WON', 'WON', 'WON', 'WON', 'WON', 'WON', 'WON', 'WON', 'WON', 'WON', 'WON', 'WON', 'WON', 'WON', 'WON', 'WON', 'WON', 'WON', 'WON', 'WON', 'LOST', 'WON', 'WON', 'WON', 'WON', 'LOST', 'WON', 'WON', 'WON', 'WON', 'WON', 'WON', 'WON', 'WON', 'WON', 'WON', 'WON', 'WON', 'WON', 'WON', 'WON', 'WON', 'WON', 'WON', 'WON', 'WON', 'WON', 'WON', 'WON', 'WON', 'WON', 'WON', 'WON', 'WON', 'WON', 'WON', 'WON', 'WON', 'WON', 'WON', 'WON', 'WON', 'WON', 'WON', 'WON', 'WON', 'WON', 'WON', 'WON', 'WON', 'WON', 'LOST', 'WON', 'WON', 'WON', 'WON', 'WON', 'WON', 'WON', 'WON', 'WON', 'WON', 'WON', 'WON', 'WON', 'WON', 'WON', 'WON', 'WON', 'WON', 'WON', 'WON', 'WON', 'WON', 'WON', 'LOST', 'WON', 'WON', 'WON', 'LOST', 'WON', 'WON', 'WON', 'WON', 'WON', 'WON', 'WON', 'WON', 'WON', 'WON', 'WON', 'WON', 'WON', 'WON', 'WON', 'WON', 'WON', 'WON', 'WON', 'WON', 'WON', 'WON', 'WON', 'WON', 'WON', 'WON', 'WON', 'WON', 'WON', 'WON', 'WON', 'WON', 'LOST', 'WON', 'WON', 'WON', 'WON', 'WON', 'WON', 'WON', 'WON', 'WON', 'WON', 'WON', 'WON', 'WON', 'LOST', 'WON', 'WON', 'WON', 'WON', 'WON', 'WON', 'WON', 'LOST', 'WON', 'WON', 'WON', 'WON', 'WON', 'WON', 'WON', 'WON', 'WON', 'WON', 'WON', 'WON', 'WON', 'WON', 'WON', 'WON', 'WON', 'WON', 'WON', 'WON', 'WON', 'WON', 'WON', 'WON', 'WON', 'WON', 'WON', 'WON', 'WON', 'WON', 'WON', 'WON', 'WON', 'WON', 'WON', 'WON', 'WON', 'WON', 'WON', 'WON', 'WON', 'WON', 'WON', 'WON', 'WON', 'WON', 'WON', 'WON', 'WON', 'WON', 'WON', 'WON', 'WON', 'WON', 'WON', 'WON', 'WON', 'WON', 'LOST', 'WON', 'WON', 'WON', 'WON', 'WON', 'WON', 'WON', 'WON', 'WON', 'WON', 'LOST', 'WON', 'WON', 'WON', 'WON', 'WON', 'WON', 'WON', 'WON', 'WON', 'WON', 'WON', 'WON', 'WON', 'WON', 'WON', 'WON', 'WON', 'WON', 'WON', 'WON', 'WON', 'WON', 'WON', 'WON', 'WON', 'WON', 'WON', 'WON', 'WON', 'WON', 'WON', 'WON', 'WON', 'WON', 'WON', 'WON', 'WON', 'WON', 'WON', 'WON', 'WON', 'WON', 'WON', 'WON', 'WON', 'WON', 'WON', 'WON', 'WON', 'WON', 'WON', 'WON', 'WON', 'WON', 'WON', 'WON', 'WON', 'WON', 'WON', 'LOST', 'WON', 'WON', 'WON', 'WON', 'WON', 'WON', 'WON', 'WON', 'WON', 'WON', 'WON', 'WON', 'WON', 'LOST', 'WON', 'WON', 'WON', 'WON', 'WON', 'WON', 'WON', 'WON', 'WON', 'WON', 'WON', 'WON', 'WON', 'WON', 'WON', 'WON', 'WON', 'WON', 'WON', 'WON', 'WON', 'WON', 'WON', 'WON', 'WON', 'WON', 'WON', 'LOST', 'WON', 'WON', 'WON', 'WON', 'WON', 'WON', 'WON', 'WON', 'WON', 'WON', 'WON', 'WON', 'WON', 'WON', 'WON', 'WON', 'WON', 'WON', 'WON', 'WON', 'WON', 'WON', 'WON', 'WON', 'WON', 'WON', 'WON', 'WON', 'WON', 'WON', 'WON', 'WON', 'WON', 'WON', 'WON', 'WON', 'WON', 'WON', 'WON', 'WON', 'WON', 'WON', 'WON', 'LOST', 'WON', 'WON', 'WON', 'WON', 'WON', 'WON', 'WON', 'WON', 'WON', 'WON', 'WON', 'WON', 'WON', 'WON', 'WON', 'WON', 'LOST', 'WON', 'WON', 'WON', 'WON', 'WON', 'WON', 'WON', 'WON', 'WON', 'WON', 'WON', 'WON', 'WON', 'LOST', 'WON', 'WON', 'WON', 'WON', 'WON', 'WON', 'WON', 'WON', 'WON', 'WON', 'WON', 'WON', 'WON', 'WON', 'WON', 'WON', 'WON', 'WON', 'WON', 'WON', 'WON', 'WON', 'WON', 'WON', 'WON', 'WON', 'WON', 'WON', 'WON', 'WON', 'WON', 'WON', 'WON', 'WON', 'WON', 'WON', 'WON', 'WON', 'WON', 'WON', 'WON', 'WON', 'WON', 'WON', 'WON', 'WON', 'WON', 'WON', 'WON', 'WON', 'WON', 'WON', 'WON', 'WON', 'WON', 'WON', 'WON', 'WON', 'WON', 'WON', 'WON', 'WON', 'WON', 'WON', 'WON', 'LOST', 'WON', 'WON', 'WON', 'WON', 'WON', 'WON', 'WON', 'WON', 'WON', 'WON', 'LOST', 'WON', 'WON', 'WON', 'WON', 'WON', 'WON', 'WON', 'WON', 'WON', 'WON', 'WON', 'WON', 'WON', 'WON', 'WON', 'WON', 'WON', 'WON', 'LOST', 'WON', 'WON', 'LOST', 'WON', 'WON', 'WON', 'WON', 'WON', 'WON', 'WON', 'WON', 'WON', 'WON', 'WON', 'WON', 'WON', 'WON', 'WON', 'WON', 'WON', 'WON', 'WON', 'WON', 'WON', 'WON', 'WON', 'WON', 'WON', 'WON', 'WON', 'WON', 'WON', 'WON', 'WON', 'WON', 'WON', 'WON', 'WON', 'WON', 'WON', 'WON', 'WON', 'WON', 'WON', 'WON', 'WON', 'WON', 'WON', 'WON', 'WON', 'WON', 'WON', 'WON', 'WON', 'WON', 'WON', 'WON', 'WON', 'WON', 'WON', 'WON', 'WON', 'WON', 'WON', 'WON', 'WON', 'WON', 'WON', 'WON', 'WON', 'WON', 'WON', 'WON', 'WON', 'WON', 'WON', 'WON', 'WON', 'WON', 'WON', 'WON', 'WON', 'WON', 'WON', 'WON', 'WON', 'WON', 'WON', 'WON', 'WON', 'LOST', 'WON', 'WON', 'WON', 'WON', 'WON', 'WON', 'WON', 'WON', 'WON', 'WON', 'WON', 'WON', 'WON', 'WON', 'WON', 'WON', 'WON', 'WON', 'WON', 'WON', 'WON', 'WON', 'WON', 'WON', 'WON', 'WON', 'WON', 'WON', 'WON', 'WON', 'WON', 'WON', 'WON', 'WON', 'WON', 'WON', 'WON', 'WON', 'WON', 'WON', 'WON', 'WON', 'WON', 'WON', 'WON', 'WON', 'WON', 'WON', 'LOST', 'WON', 'WON', 'WON', 'WON', 'WON', 'WON', 'WON', 'WON', 'WON', 'WON', 'WON', 'WON', 'WON', 'WON', 'WON', 'LOST', 'WON', 'LOST', 'WON', 'WON', 'WON', 'WON', 'WON', 'WON', 'WON', 'WON', 'WON', 'WON', 'WON', 'WON', 'LOST', 'WON', 'WON', 'WON', 'WON', 'WON', 'WON', 'WON', 'WON', 'WON', 'WON', 'WON', 'WON', 'WON', 'WON', 'WON', 'WON', 'WON', 'WON', 'WON', 'WON', 'WON', 'WON', 'WON', 'WON', 'WON', 'WON', 'LOST', 'WON', 'WON', 'WON', 'WON', 'WON', 'WON', 'WON', 'WON', 'WON', 'WON', 'WON', 'WON', 'WON', 'WON', 'WON', 'WON', 'WON', 'WON', 'WON', 'WON', 'WON', 'WON', 'WON', 'WON', 'WON', 'WON', 'WON', 'WON', 'WON', 'WON', 'WON', 'WON', 'WON', 'WON', 'WON', 'WON', 'WON', 'WON', 'WON', 'WON', 'WON', 'WON', 'LOST', 'WON', 'WON', 'WON', 'WON', 'WON', 'WON', 'WON', 'WON', 'WON', 'WON', 'WON', 'WON', 'WON', 'WON', 'WON', 'WON', 'WON', 'WON', 'WON', 'WON', 'WON', 'WON', 'WON', 'WON', 'WON', 'WON', 'WON', 'WON', 'WON', 'WON', 'WON', 'WON', 'WON', 'WON', 'WON', 'WON', 'WON', 'WON', 'WON', 'WON', 'WON', 'WON', 'WON', 'WON', 'WON', 'WON', 'WON', 'WON', 'WON', 'WON', 'WON', 'WON', 'WON', 'WON', 'LOST', 'WON', 'WON', 'WON', 'LOST', 'WON', 'WON', 'WON', 'WON', 'WON', 'WON', 'WON', 'WON', 'WON', 'WON', 'WON', 'WON', 'WON', 'WON', 'WON', 'WON', 'WON', 'WON', 'WON', 'WON', 'WON', 'WON', 'WON', 'WON', 'WON', 'WON', 'WON', 'WON', 'LOST', 'WON', 'WON', 'WON', 'WON', 'WON', 'WON', 'WON', 'WON', 'WON', 'WON', 'WON', 'WON', 'WON', 'WON', 'WON', 'WON', 'WON', 'WON', 'WON', 'WON', 'WON', 'WON', 'WON', 'WON', 'WON', 'WON', 'WON', 'WON', 'WON', 'WON', 'WON', 'WON', 'WON', 'WON', 'WON', 'WON', 'WON', 'WON', 'WON', 'WON', 'WON', 'WON', 'WON', 'WON', 'WON', 'WON', 'WON', 'WON', 'WON', 'WON', 'WON', 'WON', 'WON', 'WON', 'WON', 'WON', 'WON', 'WON', 'WON', 'WON', 'WON', 'WON', 'WON', 'WON', 'WON', 'WON', 'WON', 'WON', 'WON', 'WON', 'WON', 'WON', 'WON', 'WON', 'WON', 'WON', 'WON', 'WON', 'WON', 'WON', 'WON', 'WON', 'WON', 'WON', 'WON', 'WON', 'WON', 'WON', 'WON', 'WON', 'WON', 'WON', 'WON', 'WON', 'WON', 'LOST', 'WON', 'WON', 'WON', 'WON', 'WON', 'WON', 'WON', 'WON', 'WON', 'WON', 'WON', 'WON', 'WON', 'WON', 'WON', 'WON', 'LOST', 'WON', 'WON', 'WON', 'WON', 'WON', 'WON', 'WON', 'WON', 'WON', 'WON', 'WON', 'WON', 'WON', 'WON', 'WON', 'WON', 'WON', 'WON', 'WON', 'WON', 'WON', 'WON', 'WON', 'WON', 'WON', 'WON', 'WON', 'WON', 'WON', 'WON', 'WON', 'WON', 'WON', 'WON', 'WON', 'WON', 'WON', 'WON', 'WON', 'WON', 'WON', 'WON', 'WON', 'WON', 'WON', 'WON', 'WON', 'WON', 'WON', 'WON', 'WON', 'WON', 'WON', 'WON', 'WON', 'WON', 'WON', 'WON', 'WON', 'WON', 'WON', 'WON', 'WON', 'WON', 'WON', 'WON', 'WON', 'WON', 'WON', 'WON', 'WON', 'WON', 'WON', 'WON', 'WON', 'WON', 'WON', 'WON', 'WON', 'WON', 'WON', 'WON', 'WON', 'WON', 'WON', 'WON', 'WON', 'WON', 'WON', 'WON', 'WON', 'WON', 'WON', 'WON', 'WON', 'WON', 'WON', 'WON', 'WON', 'WON', 'WON', 'WON', 'WON', 'WON', 'WON', 'WON', 'WON', 'WON', 'WON', 'WON', 'WON', 'WON', 'WON', 'WON', 'WON', 'WON', 'WON', 'WON', 'WON', 'WON', 'WON', 'WON', 'WON', 'WON', 'WON', 'WON', 'WON', 'WON', 'WON', 'WON', 'WON', 'WON', 'WON', 'LOST', 'WON', 'WON', 'WON', 'WON', 'WON', 'WON', 'WON', 'WON', 'WON', 'WON', 'WON', 'WON', 'WON', 'WON', 'WON', 'WON', 'WON', 'WON', 'WON', 'WON', 'WON', 'WON', 'WON', 'WON', 'WON', 'WON', 'WON', 'WON', 'WON', 'WON', 'WON', 'WON', 'WON', 'WON', 'WON', 'WON', 'WON', 'WON', 'WON', 'WON', 'WON', 'WON', 'WON', 'WON', 'LOST', 'WON', 'WON', 'WON', 'WON', 'WON', 'WON', 'WON', 'WON', 'WON', 'WON', 'WON', 'WON', 'WON', 'WON', 'WON', 'WON', 'WON', 'WON', 'WON', 'WON', 'WON', 'WON', 'WON', 'WON', 'WON', 'WON', 'WON', 'WON', 'WON', 'WON', 'LOST', 'WON', 'WON', 'WON', 'WON', 'WON', 'WON', 'WON', 'WON', 'WON', 'WON', 'WON', 'WON', 'LOST', 'WON', 'WON', 'WON', 'WON', 'WON', 'WON', 'WON', 'WON', 'WON', 'WON', 'WON', 'WON', 'WON', 'WON', 'WON', 'WON', 'WON', 'LOST', 'WON', 'WON', 'WON', 'WON', 'WON', 'WON', 'WON', 'WON', 'WON', 'WON', 'WON', 'WON', 'WON', 'WON', 'WON', 'WON', 'WON', 'WON', 'WON', 'WON', 'WON', 'WON', 'LOST', 'WON', 'WON', 'WON', 'WON', 'WON', 'WON', 'WON', 'WON', 'WON', 'WON', 'WON', 'WON', 'WON', 'WON', 'WON', 'WON', 'WON', 'WON', 'WON', 'WON', 'WON', 'WON', 'WON', 'WON', 'WON', 'WON', 'WON', 'WON', 'WON', 'WON', 'WON', 'WON', 'WON', 'WON', 'WON', 'WON', 'WON', 'WON', 'WON', 'WON', 'LOST', 'WON', 'WON', 'WON', 'WON', 'WON', 'WON', 'WON', 'WON', 'WON', 'WON', 'WON', 'WON', 'WON', 'WON', 'WON', 'WON', 'WON', 'WON', 'WON', 'WON', 'WON', 'WON', 'WON', 'WON', 'WON', 'WON', 'WON', 'WON', 'WON', 'WON', 'WON', 'WON', 'WON', 'WON', 'WON', 'WON', 'WON', 'WON', 'WON', 'WON', 'WON', 'WON', 'WON', 'WON', 'WON', 'WON', 'WON', 'WON', 'WON', 'WON', 'WON', 'WON', 'WON', 'WON', 'WON', 'WON', 'WON', 'WON', 'WON', 'WON', 'WON', 'WON', 'WON', 'WON', 'LOST', 'WON', 'WON', 'WON', 'WON', 'WON', 'WON', 'WON', 'WON', 'WON', 'WON', 'WON', 'WON', 'WON', 'WON', 'WON', 'WON', 'WON', 'WON', 'WON', 'WON', 'WON', 'WON', 'WON', 'WON', 'WON', 'WON', 'WON', 'WON', 'WON', 'WON', 'WON', 'WON', 'WON', 'WON', 'WON', 'WON', 'WON', 'WON', 'WON', 'WON', 'WON', 'WON', 'WON', 'WON', 'WON', 'WON', 'WON', 'WON', 'WON', 'WON', 'WON', 'WON', 'WON', 'WON', 'WON', 'WON', 'WON', 'WON', 'WON', 'WON', 'WON']\n"
          ]
        }
      ]
    },
    {
      "cell_type": "markdown",
      "source": [
        "we can conclude that our accuracy and precision is good on both training and testing data, so the model is pretty accurate."
      ],
      "metadata": {
        "id": "-j25-yssDRtB"
      }
    }
  ]
}